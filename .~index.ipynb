{
 "cells": [
  {
   "cell_type": "markdown",
   "metadata": {},
   "source": [
    "# Nearest Neighbors Lab"
   ]
  },
  {
   "cell_type": "markdown",
   "metadata": {},
   "source": [
    "### Introduction\n",
    "\n",
    "In this lab, you apply nearest neighbors technique to help a taxi company predict the length of their rides.  Imagine that we are hired to consult for LiftOff, a limo and taxi service that is just opening up in NYC.  Liftoff wants it's taxi drivers to target longer rides, as the longer the ride the more money it makes.  LiftOff has the following theory:\n",
    "\n",
    "* the pickup location of a taxi ride can help predict the length of the ride.  \n",
    "\n",
    "\n",
    "\n",
    "LiftOff asks us to do some analysis to write a function that will allow it to **predict the length of a taxi ride for any given location **.\n",
    "\n",
    "Our technique will be the following:\n",
    "  * **Collect** Obtain the data containing all of the taxi information, and only select the attributes of taxi trips that we need \n",
    "  * ** Explore ** Examine the attributes of our data, and plot some of our data on a map\n",
    "  * ** Train ** Write our nearest neighbors formula, and change the number of nearby trips to predict the length of a new trip\n",
    "  * ** Predict ** Use our function to predict trip lengths of new locations"
   ]
  },
  {
   "cell_type": "markdown",
   "metadata": {},
   "source": [
    "### Collect and Explore the data"
   ]
  },
  {
   "cell_type": "markdown",
   "metadata": {},
   "source": [
    "#### Collect the Data"
   ]
  },
  {
   "cell_type": "markdown",
   "metadata": {},
   "source": [
    "Luckily for us, [NYC Open Data](https://opendata.cityofnewyork.us/) collects information about NYC taxi trips and provides this data on [its website](https://data.cityofnewyork.us/Transportation/2014-Yellow-Taxi-Trip-Data/gn7m-em8n)."
   ]
  },
  {
   "cell_type": "markdown",
   "metadata": {},
   "source": [
    "![](./nyc-taxi.png)"
   ]
  },
  {
   "cell_type": "markdown",
   "metadata": {},
   "source": [
    "For your reading pleasure, the data has already been downloaded into the [trips.json](https://github.com/learn-co-curriculum/nearest-neighbors-lab/blob/master/trips.json) file in this lab which you can find here.  We'll use Python's `json` library to take the data from the `trips.json` file and store it as a variable in our notebook."
   ]
  },
  {
   "cell_type": "code",
   "execution_count": 1,
   "metadata": {},
   "outputs": [],
   "source": [
    "import json\n",
    "# First, read the file\n",
    "trips_file = open('trips.json')\n",
    "# Then, convert contents to list of dictionaries \n",
    "trips = json.load(trips_file)"
   ]
  },
  {
   "cell_type": "markdown",
   "metadata": {},
   "source": [
    "> Press shift + enter"
   ]
  },
  {
   "cell_type": "markdown",
   "metadata": {},
   "source": [
    "#### Explore the data"
   ]
  },
  {
   "cell_type": "markdown",
   "metadata": {},
   "source": [
    "The next step is to explore the data.  First, let's see how many trips we have."
   ]
  },
  {
   "cell_type": "code",
   "execution_count": 2,
   "metadata": {},
   "outputs": [
    {
     "data": {
      "text/plain": [
       "1000"
      ]
     },
     "execution_count": 2,
     "metadata": {},
     "output_type": "execute_result"
    }
   ],
   "source": [
    "len(trips)"
   ]
  },
  {
   "cell_type": "markdown",
   "metadata": {},
   "source": [
    "Not bad at all.  Now let's see what each individual trip looks like.  Each trip is a dictionary, so we can see the attributes of each trip with the `keys` function."
   ]
  },
  {
   "cell_type": "code",
   "execution_count": 3,
   "metadata": {
    "scrolled": true
   },
   "outputs": [
    {
     "data": {
      "text/plain": [
       "dict_keys(['dropoff_datetime', 'dropoff_latitude', 'dropoff_longitude', 'fare_amount', 'imp_surcharge', 'mta_tax', 'passenger_count', 'payment_type', 'pickup_datetime', 'pickup_latitude', 'pickup_longitude', 'rate_code', 'tip_amount', 'tolls_amount', 'total_amount', 'trip_distance', 'vendor_id'])"
      ]
     },
     "execution_count": 3,
     "metadata": {},
     "output_type": "execute_result"
    }
   ],
   "source": [
    "trips[0].keys()"
   ]
  },
  {
   "cell_type": "markdown",
   "metadata": {},
   "source": [
    "#### Limit our data"
   ]
  },
  {
   "cell_type": "markdown",
   "metadata": {},
   "source": [
    "Ok, now that we have explored some of our data, let's begin to think through what data is relevant for our task."
   ]
  },
  {
   "cell_type": "markdown",
   "metadata": {
    "collapsed": true
   },
   "source": [
    "Remember that our task is to **use the trip location to predict the length of a trip**.  So let's select the `pickup_latitude`, `pickup_longitude`, and `trip_distance` from each trip.  That will give us the trip location and related `trip_distance` for each trip.  Then based on these **actual** trip distances we can use nearest neighbors to predict an **expected** trip distance for a trip, provided an **actual** location."
   ]
  },
  {
   "cell_type": "markdown",
   "metadata": {},
   "source": [
    "** Add in about trip distance ** "
   ]
  },
  {
   "cell_type": "markdown",
   "metadata": {},
   "source": [
    "Write a function called `parse_trips(trips)` that returns a list of the trips with only the following attributes: \n",
    "* `trip_distance`\n",
    "* `pickup_latitude`\n",
    "* `pickup_longitude`"
   ]
  },
  {
   "cell_type": "code",
   "execution_count": 4,
   "metadata": {},
   "outputs": [],
   "source": [
    "def parse_trips(trips):\n",
    "    return list(map(lambda trip: {'trip_distance':trip['trip_distance'], 'pickup_latitude':trip['pickup_latitude'], 'pickup_longitude': trip['pickup_longitude']}, trips))"
   ]
  },
  {
   "cell_type": "code",
   "execution_count": 5,
   "metadata": {},
   "outputs": [
    {
     "data": {
      "text/plain": [
       "{'trip_distance': '18.379999999999999',\n",
       " 'pickup_latitude': '40.64499',\n",
       " 'pickup_longitude': '-73.781149999999997'}"
      ]
     },
     "execution_count": 5,
     "metadata": {},
     "output_type": "execute_result"
    }
   ],
   "source": [
    "parsed_trips = parse_trips(trips)\n",
    "parsed_trips and parsed_trips[0]\n",
    "\n",
    "# {'pickup_latitude': '40.64499',\n",
    "#  'pickup_longitude': '-73.78115',\n",
    "#  'trip_distance': '18.38'}"
   ]
  },
  {
   "cell_type": "markdown",
   "metadata": {},
   "source": [
    "Now, there's just one change to make.  If you look at one of the trips, all of the values are strings.  Let's change them to be floats."
   ]
  },
  {
   "cell_type": "code",
   "execution_count": 6,
   "metadata": {},
   "outputs": [],
   "source": [
    "def float_values(trips):    \n",
    "    return list(map(lambda trip: {'trip_distance': float(trip['trip_distance']), 'pickup_latitude': float(trip['pickup_latitude']), 'pickup_longitude': float(trip['pickup_longitude'])}, trips))"
   ]
  },
  {
   "cell_type": "code",
   "execution_count": 7,
   "metadata": {},
   "outputs": [],
   "source": [
    "cleaned_trips = float_values(parsed_trips)"
   ]
  },
  {
   "cell_type": "code",
   "execution_count": 8,
   "metadata": {},
   "outputs": [
    {
     "data": {
      "text/plain": [
       "{'trip_distance': 18.38,\n",
       " 'pickup_latitude': 40.64499,\n",
       " 'pickup_longitude': -73.78115}"
      ]
     },
     "execution_count": 8,
     "metadata": {},
     "output_type": "execute_result"
    }
   ],
   "source": [
    "cleaned_trips[0]\n",
    "\n",
    "# {'pickup_latitude': 40.64499,\n",
    "#  'pickup_longitude': -73.78115,\n",
    "#  'trip_distance': 18.38}"
   ]
  },
  {
   "cell_type": "markdown",
   "metadata": {},
   "source": [
    "### Exploring the Data"
   ]
  },
  {
   "cell_type": "markdown",
   "metadata": {},
   "source": [
    "Now that we have paired down our data, let's get a sense of our trip data.  We can use the `folium` Python library to plot a map of Manhattan, and our data.  First we must import `folium`, and then use the `Map` function to pass through a `location`, and `zoom_start`.  If a map isn't showing up below, copy and paste the command `pip install -r requirements.txt` into your terminal to install `folium` then try again."
   ]
  },
  {
   "cell_type": "code",
   "execution_count": 9,
   "metadata": {},
   "outputs": [],
   "source": [
    "import folium\n",
    "manhattan_map = folium.Map(location=[40.7589, -73.9851], zoom_start=11)"
   ]
  },
  {
   "cell_type": "code",
   "execution_count": 10,
   "metadata": {
    "scrolled": true
   },
   "outputs": [
    {
     "data": {
      "text/html": [
       "<div style=\"width:100%;\"><div style=\"position:relative;width:100%;height:0;padding-bottom:60%;\"><iframe src=\"data:text/html;charset=utf-8;base64,PCFET0NUWVBFIGh0bWw+CjxoZWFkPiAgICAKICAgIDxtZXRhIGh0dHAtZXF1aXY9ImNvbnRlbnQtdHlwZSIgY29udGVudD0idGV4dC9odG1sOyBjaGFyc2V0PVVURi04IiAvPgogICAgPHNjcmlwdD5MX1BSRUZFUl9DQU5WQVM9ZmFsc2U7IExfTk9fVE9VQ0g9ZmFsc2U7IExfRElTQUJMRV8zRD1mYWxzZTs8L3NjcmlwdD4KICAgIDxzY3JpcHQgc3JjPSJodHRwczovL2Nkbi5qc2RlbGl2ci5uZXQvbnBtL2xlYWZsZXRAMS4yLjAvZGlzdC9sZWFmbGV0LmpzIj48L3NjcmlwdD4KICAgIDxzY3JpcHQgc3JjPSJodHRwczovL2FqYXguZ29vZ2xlYXBpcy5jb20vYWpheC9saWJzL2pxdWVyeS8xLjExLjEvanF1ZXJ5Lm1pbi5qcyI+PC9zY3JpcHQ+CiAgICA8c2NyaXB0IHNyYz0iaHR0cHM6Ly9tYXhjZG4uYm9vdHN0cmFwY2RuLmNvbS9ib290c3RyYXAvMy4yLjAvanMvYm9vdHN0cmFwLm1pbi5qcyI+PC9zY3JpcHQ+CiAgICA8c2NyaXB0IHNyYz0iaHR0cHM6Ly9jZG5qcy5jbG91ZGZsYXJlLmNvbS9hamF4L2xpYnMvTGVhZmxldC5hd2Vzb21lLW1hcmtlcnMvMi4wLjIvbGVhZmxldC5hd2Vzb21lLW1hcmtlcnMuanMiPjwvc2NyaXB0PgogICAgPGxpbmsgcmVsPSJzdHlsZXNoZWV0IiBocmVmPSJodHRwczovL2Nkbi5qc2RlbGl2ci5uZXQvbnBtL2xlYWZsZXRAMS4yLjAvZGlzdC9sZWFmbGV0LmNzcyIvPgogICAgPGxpbmsgcmVsPSJzdHlsZXNoZWV0IiBocmVmPSJodHRwczovL21heGNkbi5ib290c3RyYXBjZG4uY29tL2Jvb3RzdHJhcC8zLjIuMC9jc3MvYm9vdHN0cmFwLm1pbi5jc3MiLz4KICAgIDxsaW5rIHJlbD0ic3R5bGVzaGVldCIgaHJlZj0iaHR0cHM6Ly9tYXhjZG4uYm9vdHN0cmFwY2RuLmNvbS9ib290c3RyYXAvMy4yLjAvY3NzL2Jvb3RzdHJhcC10aGVtZS5taW4uY3NzIi8+CiAgICA8bGluayByZWw9InN0eWxlc2hlZXQiIGhyZWY9Imh0dHBzOi8vbWF4Y2RuLmJvb3RzdHJhcGNkbi5jb20vZm9udC1hd2Vzb21lLzQuNi4zL2Nzcy9mb250LWF3ZXNvbWUubWluLmNzcyIvPgogICAgPGxpbmsgcmVsPSJzdHlsZXNoZWV0IiBocmVmPSJodHRwczovL2NkbmpzLmNsb3VkZmxhcmUuY29tL2FqYXgvbGlicy9MZWFmbGV0LmF3ZXNvbWUtbWFya2Vycy8yLjAuMi9sZWFmbGV0LmF3ZXNvbWUtbWFya2Vycy5jc3MiLz4KICAgIDxsaW5rIHJlbD0ic3R5bGVzaGVldCIgaHJlZj0iaHR0cHM6Ly9yYXdnaXQuY29tL3B5dGhvbi12aXN1YWxpemF0aW9uL2ZvbGl1bS9tYXN0ZXIvZm9saXVtL3RlbXBsYXRlcy9sZWFmbGV0LmF3ZXNvbWUucm90YXRlLmNzcyIvPgogICAgPHN0eWxlPmh0bWwsIGJvZHkge3dpZHRoOiAxMDAlO2hlaWdodDogMTAwJTttYXJnaW46IDA7cGFkZGluZzogMDt9PC9zdHlsZT4KICAgIDxzdHlsZT4jbWFwIHtwb3NpdGlvbjphYnNvbHV0ZTt0b3A6MDtib3R0b206MDtyaWdodDowO2xlZnQ6MDt9PC9zdHlsZT4KICAgIAogICAgPHN0eWxlPiNtYXBfOGQxODBjNjdmYjBjNDlmOThkMDc1MWI3MTZmMmIzOTUgewogICAgICAgIHBvc2l0aW9uOiByZWxhdGl2ZTsKICAgICAgICB3aWR0aDogMTAwLjAlOwogICAgICAgIGhlaWdodDogMTAwLjAlOwogICAgICAgIGxlZnQ6IDAuMCU7CiAgICAgICAgdG9wOiAwLjAlOwogICAgICAgIH0KICAgIDwvc3R5bGU+CjwvaGVhZD4KPGJvZHk+ICAgIAogICAgCiAgICA8ZGl2IGNsYXNzPSJmb2xpdW0tbWFwIiBpZD0ibWFwXzhkMTgwYzY3ZmIwYzQ5Zjk4ZDA3NTFiNzE2ZjJiMzk1IiA+PC9kaXY+CjwvYm9keT4KPHNjcmlwdD4gICAgCiAgICAKICAgIAogICAgICAgIHZhciBib3VuZHMgPSBudWxsOwogICAgCgogICAgdmFyIG1hcF84ZDE4MGM2N2ZiMGM0OWY5OGQwNzUxYjcxNmYyYjM5NSA9IEwubWFwKAogICAgICAgICdtYXBfOGQxODBjNjdmYjBjNDlmOThkMDc1MWI3MTZmMmIzOTUnLCB7CiAgICAgICAgY2VudGVyOiBbNDAuNzU4OSwgLTczLjk4NTFdLAogICAgICAgIHpvb206IDExLAogICAgICAgIG1heEJvdW5kczogYm91bmRzLAogICAgICAgIGxheWVyczogW10sCiAgICAgICAgd29ybGRDb3B5SnVtcDogZmFsc2UsCiAgICAgICAgY3JzOiBMLkNSUy5FUFNHMzg1NywKICAgICAgICB6b29tQ29udHJvbDogdHJ1ZSwKICAgICAgICB9KTsKCiAgICAKICAgIAogICAgdmFyIHRpbGVfbGF5ZXJfZjNjZjI2NjgyYTRhNDQ1MjhjN2I2ZjQ2Mzk2NTdjNDEgPSBMLnRpbGVMYXllcigKICAgICAgICAnaHR0cHM6Ly97c30udGlsZS5vcGVuc3RyZWV0bWFwLm9yZy97en0ve3h9L3t5fS5wbmcnLAogICAgICAgIHsKICAgICAgICAiYXR0cmlidXRpb24iOiBudWxsLAogICAgICAgICJkZXRlY3RSZXRpbmEiOiBmYWxzZSwKICAgICAgICAibWF4TmF0aXZlWm9vbSI6IDE4LAogICAgICAgICJtYXhab29tIjogMTgsCiAgICAgICAgIm1pblpvb20iOiAwLAogICAgICAgICJub1dyYXAiOiBmYWxzZSwKICAgICAgICAic3ViZG9tYWlucyI6ICJhYmMiCn0pLmFkZFRvKG1hcF84ZDE4MGM2N2ZiMGM0OWY5OGQwNzUxYjcxNmYyYjM5NSk7Cjwvc2NyaXB0Pg==\" style=\"position:absolute;width:100%;height:100%;left:0;top:0;border:none !important;\" allowfullscreen webkitallowfullscreen mozallowfullscreen></iframe></div></div>"
      ],
      "text/plain": [
       "<folium.folium.Map at 0x7f71ecb1e9b0>"
      ]
     },
     "execution_count": 10,
     "metadata": {},
     "output_type": "execute_result"
    }
   ],
   "source": [
    "manhattan_map"
   ]
  },
  {
   "cell_type": "markdown",
   "metadata": {},
   "source": [
    "Ok, now let's see how we could add a dot to mark a specific location.  We'll start with Times Square."
   ]
  },
  {
   "cell_type": "code",
   "execution_count": 11,
   "metadata": {},
   "outputs": [
    {
     "data": {
      "text/plain": [
       "<folium.vector_layers.CircleMarker at 0x7f71d4820048>"
      ]
     },
     "execution_count": 11,
     "metadata": {},
     "output_type": "execute_result"
    }
   ],
   "source": [
    "marker = folium.CircleMarker(location = [40.7589, -73.9851], radius=10)\n",
    "marker.add_to(manhattan_map)"
   ]
  },
  {
   "cell_type": "markdown",
   "metadata": {},
   "source": [
    "Above, we first create a marker.  Then we add that circle marker to the `manhattan_map` we created earlier. "
   ]
  },
  {
   "cell_type": "code",
   "execution_count": 12,
   "metadata": {
    "scrolled": false
   },
   "outputs": [
    {
     "data": {
      "text/html": [
       "<div style=\"width:100%;\"><div style=\"position:relative;width:100%;height:0;padding-bottom:60%;\"><iframe src=\"data:text/html;charset=utf-8;base64,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\" style=\"position:absolute;width:100%;height:100%;left:0;top:0;border:none !important;\" allowfullscreen webkitallowfullscreen mozallowfullscreen></iframe></div></div>"
      ],
      "text/plain": [
       "<folium.folium.Map at 0x7f71ecb1e9b0>"
      ]
     },
     "execution_count": 12,
     "metadata": {},
     "output_type": "execute_result"
    }
   ],
   "source": [
    "manhattan_map"
   ]
  },
  {
   "cell_type": "markdown",
   "metadata": {},
   "source": [
    "Do you see that blue dot near Time's Square?  That is our marker.  \n",
    "\n",
    "So now that we can plot one marker on a map, we should have a sense of how we can plot many markers on a map to display our taxi ride data.  We simply plot a map, and then we add a marker for each location of a taxi trip.\n",
    "\n",
    "Now let's write some functions to allow us to plot maps and add markers a little more easily.  "
   ]
  },
  {
   "cell_type": "markdown",
   "metadata": {},
   "source": [
    "#### Writing some map plotting functions"
   ]
  },
  {
   "cell_type": "markdown",
   "metadata": {},
   "source": [
    "As a first step towards this, note that the functions to create both a marker and map each take in a location as two element list, representing the latitude and longitude values.  Take another look:\n",
    "\n",
    "```python\n",
    "marker = folium.CircleMarker(location = [40.7589, -73.9851])\n",
    "manhattan_map = folium.Map(location=[40.7589, -73.9851])\n",
    "```\n",
    "\n",
    "So let's write a function called to create this two element list from a trip.  Write a function called `location` that  takes in a trip as an argument and returns a list where the first element is the latitude and the second is the longitude.  Remember that a location looks like the following:"
   ]
  },
  {
   "cell_type": "code",
   "execution_count": 13,
   "metadata": {},
   "outputs": [
    {
     "data": {
      "text/plain": [
       "{'pickup_latitude': 40.64499,\n",
       " 'pickup_longitude': -73.78115,\n",
       " 'trip_distance': 18.38}"
      ]
     },
     "execution_count": 13,
     "metadata": {},
     "output_type": "execute_result"
    }
   ],
   "source": [
    "first_trip = {'pickup_latitude': 40.64499, 'pickup_longitude': -73.78115,  'trip_distance': 18.38}\n",
    "first_trip"
   ]
  },
  {
   "cell_type": "code",
   "execution_count": 22,
   "metadata": {},
   "outputs": [],
   "source": [
    "def location(trip):\n",
    "    return list(map(lambda trip:[(trip['pickup_latitude']),(trip['pickup_longitude'])], cleaned_trips))"
   ]
  },
  {
   "cell_type": "code",
   "execution_count": 21,
   "metadata": {},
   "outputs": [
    {
     "data": {
      "text/plain": [
       "[<folium.vector_layers.CircleMarker at 0x7f71d4677780>,\n",
       " <folium.vector_layers.CircleMarker at 0x7f71d4677940>,\n",
       " <folium.vector_layers.CircleMarker at 0x7f71d46778d0>,\n",
       " <folium.vector_layers.CircleMarker at 0x7f71d46779e8>,\n",
       " <folium.vector_layers.CircleMarker at 0x7f71d4677b38>,\n",
       " <folium.vector_layers.CircleMarker at 0x7f71d4677be0>,\n",
       " <folium.vector_layers.CircleMarker at 0x7f71d4677c88>,\n",
       " <folium.vector_layers.CircleMarker at 0x7f71d4677d30>,\n",
       " <folium.vector_layers.CircleMarker at 0x7f71d46ba5f8>,\n",
       " <folium.vector_layers.CircleMarker at 0x7f71d46d0f60>,\n",
       " <folium.vector_layers.CircleMarker at 0x7f71d4664da0>,\n",
       " <folium.vector_layers.CircleMarker at 0x7f71d4664b70>,\n",
       " <folium.vector_layers.CircleMarker at 0x7f71d4664710>,\n",
       " <folium.vector_layers.CircleMarker at 0x7f71d4677b70>,\n",
       " <folium.vector_layers.CircleMarker at 0x7f71d4677ba8>,\n",
       " <folium.vector_layers.CircleMarker at 0x7f71d4677240>,\n",
       " <folium.vector_layers.CircleMarker at 0x7f71d4677898>,\n",
       " <folium.vector_layers.CircleMarker at 0x7f71d4677630>,\n",
       " <folium.vector_layers.CircleMarker at 0x7f71d4677198>,\n",
       " <folium.vector_layers.CircleMarker at 0x7f71d4677518>,\n",
       " <folium.vector_layers.CircleMarker at 0x7f71d4677c18>,\n",
       " <folium.vector_layers.CircleMarker at 0x7f71d4677e10>,\n",
       " <folium.vector_layers.CircleMarker at 0x7f71d4677eb8>,\n",
       " <folium.vector_layers.CircleMarker at 0x7f71d4677a20>,\n",
       " <folium.vector_layers.CircleMarker at 0x7f71d4677f98>,\n",
       " <folium.vector_layers.CircleMarker at 0x7f71d4677f28>,\n",
       " <folium.vector_layers.CircleMarker at 0x7f71d468b080>,\n",
       " <folium.vector_layers.CircleMarker at 0x7f71d468b160>,\n",
       " <folium.vector_layers.CircleMarker at 0x7f71d468b278>,\n",
       " <folium.vector_layers.CircleMarker at 0x7f71d468b320>,\n",
       " <folium.vector_layers.CircleMarker at 0x7f71d4677a58>,\n",
       " <folium.vector_layers.CircleMarker at 0x7f71d4677dd8>,\n",
       " <folium.vector_layers.CircleMarker at 0x7f71d4677e48>,\n",
       " <folium.vector_layers.CircleMarker at 0x7f71d4677860>,\n",
       " <folium.vector_layers.CircleMarker at 0x7f71d4677320>,\n",
       " <folium.vector_layers.CircleMarker at 0x7f71d4677828>,\n",
       " <folium.vector_layers.CircleMarker at 0x7f71d4677b00>,\n",
       " <folium.vector_layers.CircleMarker at 0x7f71d46d0c50>,\n",
       " <folium.vector_layers.CircleMarker at 0x7f71d46a7fd0>,\n",
       " <folium.vector_layers.CircleMarker at 0x7f71d4677c50>,\n",
       " <folium.vector_layers.CircleMarker at 0x7f71d46646d8>,\n",
       " <folium.vector_layers.CircleMarker at 0x7f71d4664160>,\n",
       " <folium.vector_layers.CircleMarker at 0x7f71d468b128>,\n",
       " <folium.vector_layers.CircleMarker at 0x7f71d468b3c8>,\n",
       " <folium.vector_layers.CircleMarker at 0x7f71d468b2b0>,\n",
       " <folium.vector_layers.CircleMarker at 0x7f71d468b4e0>,\n",
       " <folium.vector_layers.CircleMarker at 0x7f71d468b518>,\n",
       " <folium.vector_layers.CircleMarker at 0x7f71d468b5c0>,\n",
       " <folium.vector_layers.CircleMarker at 0x7f71d468b668>,\n",
       " <folium.vector_layers.CircleMarker at 0x7f71d468b710>,\n",
       " <folium.vector_layers.CircleMarker at 0x7f71d468b7b8>,\n",
       " <folium.vector_layers.CircleMarker at 0x7f71d468b860>,\n",
       " <folium.vector_layers.CircleMarker at 0x7f71d46d0f98>,\n",
       " <folium.vector_layers.CircleMarker at 0x7f71d4664d68>,\n",
       " <folium.vector_layers.CircleMarker at 0x7f71d46774e0>,\n",
       " <folium.vector_layers.CircleMarker at 0x7f71d4677048>,\n",
       " <folium.vector_layers.CircleMarker at 0x7f71d4677cc0>,\n",
       " <folium.vector_layers.CircleMarker at 0x7f71d4677668>,\n",
       " <folium.vector_layers.CircleMarker at 0x7f71d4677710>,\n",
       " <folium.vector_layers.CircleMarker at 0x7f71d468b6a0>,\n",
       " <folium.vector_layers.CircleMarker at 0x7f71d468b6d8>,\n",
       " <folium.vector_layers.CircleMarker at 0x7f71d468b588>,\n",
       " <folium.vector_layers.CircleMarker at 0x7f71d468b0b8>,\n",
       " <folium.vector_layers.CircleMarker at 0x7f71d468b400>,\n",
       " <folium.vector_layers.CircleMarker at 0x7f71d468b208>,\n",
       " <folium.vector_layers.CircleMarker at 0x7f71d468b908>,\n",
       " <folium.vector_layers.CircleMarker at 0x7f71d468b7f0>,\n",
       " <folium.vector_layers.CircleMarker at 0x7f71d468ba20>,\n",
       " <folium.vector_layers.CircleMarker at 0x7f71d468ba58>,\n",
       " <folium.vector_layers.CircleMarker at 0x7f71d468bb00>,\n",
       " <folium.vector_layers.CircleMarker at 0x7f71d468bba8>,\n",
       " <folium.vector_layers.CircleMarker at 0x7f71d468bc50>,\n",
       " <folium.vector_layers.CircleMarker at 0x7f71d468bcf8>,\n",
       " <folium.vector_layers.CircleMarker at 0x7f71d468bda0>,\n",
       " <folium.vector_layers.CircleMarker at 0x7f71d46640b8>,\n",
       " <folium.vector_layers.CircleMarker at 0x7f71d46d06d8>,\n",
       " <folium.vector_layers.CircleMarker at 0x7f71d46776d8>,\n",
       " <folium.vector_layers.CircleMarker at 0x7f71d4677ef0>,\n",
       " <folium.vector_layers.CircleMarker at 0x7f71d4677e80>,\n",
       " <folium.vector_layers.CircleMarker at 0x7f71d468ba90>,\n",
       " <folium.vector_layers.CircleMarker at 0x7f71d468b9b0>,\n",
       " <folium.vector_layers.CircleMarker at 0x7f71d468b2e8>,\n",
       " <folium.vector_layers.CircleMarker at 0x7f71d468b198>,\n",
       " <folium.vector_layers.CircleMarker at 0x7f71d468b748>,\n",
       " <folium.vector_layers.CircleMarker at 0x7f71d468b358>,\n",
       " <folium.vector_layers.CircleMarker at 0x7f71d468b240>,\n",
       " <folium.vector_layers.CircleMarker at 0x7f71d468b780>,\n",
       " <folium.vector_layers.CircleMarker at 0x7f71d468be48>,\n",
       " <folium.vector_layers.CircleMarker at 0x7f71d468bd30>,\n",
       " <folium.vector_layers.CircleMarker at 0x7f71d468bf60>,\n",
       " <folium.vector_layers.CircleMarker at 0x7f71d468bf98>,\n",
       " <folium.vector_layers.CircleMarker at 0x7f71d468bdd8>,\n",
       " <folium.vector_layers.CircleMarker at 0x7f71d4621080>,\n",
       " <folium.vector_layers.CircleMarker at 0x7f71d4621160>,\n",
       " <folium.vector_layers.CircleMarker at 0x7f71d4621278>,\n",
       " <folium.vector_layers.CircleMarker at 0x7f71d4621320>,\n",
       " <folium.vector_layers.CircleMarker at 0x7f71d4677438>,\n",
       " <folium.vector_layers.CircleMarker at 0x7f71d4677358>,\n",
       " <folium.vector_layers.CircleMarker at 0x7f71d4677400>,\n",
       " <folium.vector_layers.CircleMarker at 0x7f71d468beb8>,\n",
       " <folium.vector_layers.CircleMarker at 0x7f71d468b470>,\n",
       " <folium.vector_layers.CircleMarker at 0x7f71d468bc88>,\n",
       " <folium.vector_layers.CircleMarker at 0x7f71d468b940>,\n",
       " <folium.vector_layers.CircleMarker at 0x7f71d468b048>,\n",
       " <folium.vector_layers.CircleMarker at 0x7f71d468bc18>,\n",
       " <folium.vector_layers.CircleMarker at 0x7f71d468b978>,\n",
       " <folium.vector_layers.CircleMarker at 0x7f71d468bb38>,\n",
       " <folium.vector_layers.CircleMarker at 0x7f71d468bb70>,\n",
       " <folium.vector_layers.CircleMarker at 0x7f71d46210f0>,\n",
       " <folium.vector_layers.CircleMarker at 0x7f71d46210b8>,\n",
       " <folium.vector_layers.CircleMarker at 0x7f71d4621438>,\n",
       " <folium.vector_layers.CircleMarker at 0x7f71d4621470>,\n",
       " <folium.vector_layers.CircleMarker at 0x7f71d4621358>,\n",
       " <folium.vector_layers.CircleMarker at 0x7f71d4621550>,\n",
       " <folium.vector_layers.CircleMarker at 0x7f71d46215f8>,\n",
       " <folium.vector_layers.CircleMarker at 0x7f71d46216a0>,\n",
       " <folium.vector_layers.CircleMarker at 0x7f71d4621748>,\n",
       " <folium.vector_layers.CircleMarker at 0x7f71d468bfd0>,\n",
       " <folium.vector_layers.CircleMarker at 0x7f71d468be10>,\n",
       " <folium.vector_layers.CircleMarker at 0x7f71d468b4a8>,\n",
       " <folium.vector_layers.CircleMarker at 0x7f71d468b5f8>,\n",
       " <folium.vector_layers.CircleMarker at 0x7f71d468b1d0>,\n",
       " <folium.vector_layers.CircleMarker at 0x7f71d4664f98>,\n",
       " <folium.vector_layers.CircleMarker at 0x7f71d468bf28>,\n",
       " <folium.vector_layers.CircleMarker at 0x7f71d4677cf8>,\n",
       " <folium.vector_layers.CircleMarker at 0x7f71d46779b0>,\n",
       " <folium.vector_layers.CircleMarker at 0x7f71d4621240>,\n",
       " <folium.vector_layers.CircleMarker at 0x7f71d4621400>,\n",
       " <folium.vector_layers.CircleMarker at 0x7f71d46214e0>,\n",
       " <folium.vector_layers.CircleMarker at 0x7f71d46213c8>,\n",
       " <folium.vector_layers.CircleMarker at 0x7f71d46212e8>,\n",
       " <folium.vector_layers.CircleMarker at 0x7f71d46216d8>,\n",
       " <folium.vector_layers.CircleMarker at 0x7f71d4621908>,\n",
       " <folium.vector_layers.CircleMarker at 0x7f71d4621940>,\n",
       " <folium.vector_layers.CircleMarker at 0x7f71d46219e8>,\n",
       " <folium.vector_layers.CircleMarker at 0x7f71d4621a90>,\n",
       " <folium.vector_layers.CircleMarker at 0x7f71d4621b38>,\n",
       " <folium.vector_layers.CircleMarker at 0x7f71d4621be0>,\n",
       " <folium.vector_layers.CircleMarker at 0x7f71d4621c88>,\n",
       " <folium.vector_layers.CircleMarker at 0x7f71d4677f60>,\n",
       " <folium.vector_layers.CircleMarker at 0x7f71d468bd68>,\n",
       " <folium.vector_layers.CircleMarker at 0x7f71d468be80>,\n",
       " <folium.vector_layers.CircleMarker at 0x7f71d468b898>,\n",
       " <folium.vector_layers.CircleMarker at 0x7f71d468b550>,\n",
       " <folium.vector_layers.CircleMarker at 0x7f71d4621ac8>,\n",
       " <folium.vector_layers.CircleMarker at 0x7f71d4621b00>,\n",
       " <folium.vector_layers.CircleMarker at 0x7f71d46219b0>,\n",
       " <folium.vector_layers.CircleMarker at 0x7f71d4621198>,\n",
       " <folium.vector_layers.CircleMarker at 0x7f71d4621828>,\n",
       " <folium.vector_layers.CircleMarker at 0x7f71d4621668>,\n",
       " <folium.vector_layers.CircleMarker at 0x7f71d4621048>,\n",
       " <folium.vector_layers.CircleMarker at 0x7f71d4621588>,\n",
       " <folium.vector_layers.CircleMarker at 0x7f71d4621d30>,\n",
       " <folium.vector_layers.CircleMarker at 0x7f71d4621c18>,\n",
       " <folium.vector_layers.CircleMarker at 0x7f71d4621e48>,\n",
       " <folium.vector_layers.CircleMarker at 0x7f71d4621e80>,\n",
       " <folium.vector_layers.CircleMarker at 0x7f71d4621f28>,\n",
       " <folium.vector_layers.CircleMarker at 0x7f71d4621fd0>,\n",
       " <folium.vector_layers.CircleMarker at 0x7f71d4621eb8>,\n",
       " <folium.vector_layers.CircleMarker at 0x7f71d4635128>,\n",
       " <folium.vector_layers.CircleMarker at 0x7f71d4635208>,\n",
       " <folium.vector_layers.CircleMarker at 0x7f71d4621a20>,\n",
       " <folium.vector_layers.CircleMarker at 0x7f71d4621ef0>,\n",
       " <folium.vector_layers.CircleMarker at 0x7f71d46215c0>,\n",
       " <folium.vector_layers.CircleMarker at 0x7f71d4621b70>,\n",
       " <folium.vector_layers.CircleMarker at 0x7f71d46218d0>,\n",
       " <folium.vector_layers.CircleMarker at 0x7f71d46211d0>,\n",
       " <folium.vector_layers.CircleMarker at 0x7f71d4621978>,\n",
       " <folium.vector_layers.CircleMarker at 0x7f71d4621a58>,\n",
       " <folium.vector_layers.CircleMarker at 0x7f71d4621208>,\n",
       " <folium.vector_layers.CircleMarker at 0x7f71d4677978>,\n",
       " <folium.vector_layers.CircleMarker at 0x7f71d468b9e8>,\n",
       " <folium.vector_layers.CircleMarker at 0x7f71d468b0f0>,\n",
       " <folium.vector_layers.CircleMarker at 0x7f71d468b630>,\n",
       " <folium.vector_layers.CircleMarker at 0x7f71d46350f0>,\n",
       " <folium.vector_layers.CircleMarker at 0x7f71d4635160>,\n",
       " <folium.vector_layers.CircleMarker at 0x7f71d46353c8>,\n",
       " <folium.vector_layers.CircleMarker at 0x7f71d4635400>,\n",
       " <folium.vector_layers.CircleMarker at 0x7f71d46354a8>,\n",
       " <folium.vector_layers.CircleMarker at 0x7f71d4635550>,\n",
       " <folium.vector_layers.CircleMarker at 0x7f71d46355f8>,\n",
       " <folium.vector_layers.CircleMarker at 0x7f71d46356a0>,\n",
       " <folium.vector_layers.CircleMarker at 0x7f71d4635748>,\n",
       " <folium.vector_layers.CircleMarker at 0x7f71d468bbe0>,\n",
       " <folium.vector_layers.CircleMarker at 0x7f71d468bac8>,\n",
       " <folium.vector_layers.CircleMarker at 0x7f71d4621780>,\n",
       " <folium.vector_layers.CircleMarker at 0x7f71d4621128>,\n",
       " <folium.vector_layers.CircleMarker at 0x7f71d4621da0>,\n",
       " <folium.vector_layers.CircleMarker at 0x7f71d46212b0>,\n",
       " <folium.vector_layers.CircleMarker at 0x7f71d4621dd8>,\n",
       " <folium.vector_layers.CircleMarker at 0x7f71d46217f0>,\n",
       " <folium.vector_layers.CircleMarker at 0x7f71d4635668>,\n",
       " <folium.vector_layers.CircleMarker at 0x7f71d4635518>,\n",
       " <folium.vector_layers.CircleMarker at 0x7f71d46352b0>,\n",
       " <folium.vector_layers.CircleMarker at 0x7f71d4635390>,\n",
       " <folium.vector_layers.CircleMarker at 0x7f71d46350b8>,\n",
       " <folium.vector_layers.CircleMarker at 0x7f71d46357f0>,\n",
       " <folium.vector_layers.CircleMarker at 0x7f71d46356d8>,\n",
       " <folium.vector_layers.CircleMarker at 0x7f71d4635908>,\n",
       " <folium.vector_layers.CircleMarker at 0x7f71d4635940>,\n",
       " <folium.vector_layers.CircleMarker at 0x7f71d46359e8>,\n",
       " <folium.vector_layers.CircleMarker at 0x7f71d4635a90>,\n",
       " <folium.vector_layers.CircleMarker at 0x7f71d4635b38>,\n",
       " <folium.vector_layers.CircleMarker at 0x7f71d4635be0>,\n",
       " <folium.vector_layers.CircleMarker at 0x7f71d4635c88>,\n",
       " <folium.vector_layers.CircleMarker at 0x7f71d4621c50>,\n",
       " <folium.vector_layers.CircleMarker at 0x7f71d4621710>,\n",
       " <folium.vector_layers.CircleMarker at 0x7f71d4621898>,\n",
       " <folium.vector_layers.CircleMarker at 0x7f71d4621cf8>,\n",
       " <folium.vector_layers.CircleMarker at 0x7f71d46ba780>,\n",
       " <folium.vector_layers.CircleMarker at 0x7f71d46a7b38>,\n",
       " <folium.vector_layers.CircleMarker at 0x7f71d4621630>,\n",
       " <folium.vector_layers.CircleMarker at 0x7f71d468b8d0>,\n",
       " <folium.vector_layers.CircleMarker at 0x7f71d468b390>,\n",
       " <folium.vector_layers.CircleMarker at 0x7f71d46772e8>,\n",
       " <folium.vector_layers.CircleMarker at 0x7f71d4635ac8>,\n",
       " <folium.vector_layers.CircleMarker at 0x7f71d4635b00>,\n",
       " <folium.vector_layers.CircleMarker at 0x7f71d46359b0>,\n",
       " <folium.vector_layers.CircleMarker at 0x7f71d46351d0>,\n",
       " <folium.vector_layers.CircleMarker at 0x7f71d4635828>,\n",
       " <folium.vector_layers.CircleMarker at 0x7f71d4635358>,\n",
       " <folium.vector_layers.CircleMarker at 0x7f71d4635048>,\n",
       " <folium.vector_layers.CircleMarker at 0x7f71d4635240>,\n",
       " <folium.vector_layers.CircleMarker at 0x7f71d46357b8>,\n",
       " <folium.vector_layers.CircleMarker at 0x7f71d4635d30>,\n",
       " <folium.vector_layers.CircleMarker at 0x7f71d4635c18>,\n",
       " <folium.vector_layers.CircleMarker at 0x7f71d4635e48>,\n",
       " <folium.vector_layers.CircleMarker at 0x7f71d468bef0>,\n",
       " <folium.vector_layers.CircleMarker at 0x7f71d468b828>,\n",
       " <folium.vector_layers.CircleMarker at 0x7f71d4677fd0>,\n",
       " <folium.vector_layers.CircleMarker at 0x7f71d4621518>,\n",
       " <folium.vector_layers.CircleMarker at 0x7f71d4621f60>,\n",
       " <folium.vector_layers.CircleMarker at 0x7f71d46214a8>,\n",
       " <folium.vector_layers.CircleMarker at 0x7f71d4621390>,\n",
       " <folium.vector_layers.CircleMarker at 0x7f71d4635d68>,\n",
       " <folium.vector_layers.CircleMarker at 0x7f71d4635710>,\n",
       " <folium.vector_layers.CircleMarker at 0x7f71d46358d0>,\n",
       " <folium.vector_layers.CircleMarker at 0x7f71d4635630>,\n",
       " <folium.vector_layers.CircleMarker at 0x7f71d4635978>,\n",
       " <folium.vector_layers.CircleMarker at 0x7f71d4635a58>,\n",
       " <folium.vector_layers.CircleMarker at 0x7f71d4635cf8>,\n",
       " <folium.vector_layers.CircleMarker at 0x7f71d4635ef0>,\n",
       " <folium.vector_layers.CircleMarker at 0x7f71d4635f28>,\n",
       " <folium.vector_layers.CircleMarker at 0x7f71d4635cc0>,\n",
       " <folium.vector_layers.CircleMarker at 0x7f71d4635f60>,\n",
       " <folium.vector_layers.CircleMarker at 0x7f71d4648048>,\n",
       " <folium.vector_layers.CircleMarker at 0x7f71d4648128>,\n",
       " <folium.vector_layers.CircleMarker at 0x7f71d4648240>,\n",
       " <folium.vector_layers.CircleMarker at 0x7f71d46482e8>,\n",
       " <folium.vector_layers.CircleMarker at 0x7f71d4635278>,\n",
       " <folium.vector_layers.CircleMarker at 0x7f71d4635f98>,\n",
       " <folium.vector_layers.CircleMarker at 0x7f71d4635780>,\n",
       " <folium.vector_layers.CircleMarker at 0x7f71d4635898>,\n",
       " <folium.vector_layers.CircleMarker at 0x7f71d46354e0>,\n",
       " <folium.vector_layers.CircleMarker at 0x7f71d4635470>,\n",
       " <folium.vector_layers.CircleMarker at 0x7f71d4635e10>,\n",
       " <folium.vector_layers.CircleMarker at 0x7f71d4635860>,\n",
       " <folium.vector_layers.CircleMarker at 0x7f71d468b438>,\n",
       " <folium.vector_layers.CircleMarker at 0x7f71d4677d68>,\n",
       " <folium.vector_layers.CircleMarker at 0x7f71d4621ba8>,\n",
       " <folium.vector_layers.CircleMarker at 0x7f71d46217b8>,\n",
       " <folium.vector_layers.CircleMarker at 0x7f71d4648198>,\n",
       " <folium.vector_layers.CircleMarker at 0x7f71d4648390>,\n",
       " <folium.vector_layers.CircleMarker at 0x7f71d4648278>,\n",
       " <folium.vector_layers.CircleMarker at 0x7f71d46484a8>,\n",
       " <folium.vector_layers.CircleMarker at 0x7f71d46484e0>,\n",
       " <folium.vector_layers.CircleMarker at 0x7f71d4648588>,\n",
       " <folium.vector_layers.CircleMarker at 0x7f71d4648630>,\n",
       " <folium.vector_layers.CircleMarker at 0x7f71d46486d8>,\n",
       " <folium.vector_layers.CircleMarker at 0x7f71d4648780>,\n",
       " <folium.vector_layers.CircleMarker at 0x7f71d4648828>,\n",
       " <folium.vector_layers.CircleMarker at 0x7f71d468bcc0>,\n",
       " <folium.vector_layers.CircleMarker at 0x7f71d4621f98>,\n",
       " <folium.vector_layers.CircleMarker at 0x7f71d4621e10>,\n",
       " <folium.vector_layers.CircleMarker at 0x7f71d4621860>,\n",
       " <folium.vector_layers.CircleMarker at 0x7f71d4635c50>,\n",
       " <folium.vector_layers.CircleMarker at 0x7f71d4635fd0>,\n",
       " <folium.vector_layers.CircleMarker at 0x7f71d4635dd8>,\n",
       " <folium.vector_layers.CircleMarker at 0x7f71d4635438>,\n",
       " <folium.vector_layers.CircleMarker at 0x7f71d4648668>,\n",
       " <folium.vector_layers.CircleMarker at 0x7f71d46486a0>,\n",
       " <folium.vector_layers.CircleMarker at 0x7f71d4648550>,\n",
       " <folium.vector_layers.CircleMarker at 0x7f71d46480f0>,\n",
       " <folium.vector_layers.CircleMarker at 0x7f71d46483c8>,\n",
       " <folium.vector_layers.CircleMarker at 0x7f71d46482b0>,\n",
       " <folium.vector_layers.CircleMarker at 0x7f71d4648940>,\n",
       " <folium.vector_layers.CircleMarker at 0x7f71d4648978>,\n",
       " <folium.vector_layers.CircleMarker at 0x7f71d4648860>,\n",
       " <folium.vector_layers.CircleMarker at 0x7f71d4648a58>,\n",
       " <folium.vector_layers.CircleMarker at 0x7f71d4648b00>,\n",
       " <folium.vector_layers.CircleMarker at 0x7f71d4648ba8>,\n",
       " <folium.vector_layers.CircleMarker at 0x7f71d4648c50>,\n",
       " <folium.vector_layers.CircleMarker at 0x7f71d4648cf8>,\n",
       " <folium.vector_layers.CircleMarker at 0x7f71d4621d68>,\n",
       " <folium.vector_layers.CircleMarker at 0x7f71d4635ba8>,\n",
       " <folium.vector_layers.CircleMarker at 0x7f71d46645c0>,\n",
       " <folium.vector_layers.CircleMarker at 0x7f71d4677908>,\n",
       " <folium.vector_layers.CircleMarker at 0x7f71d4635eb8>,\n",
       " <folium.vector_layers.CircleMarker at 0x7f71d4635e80>,\n",
       " <folium.vector_layers.CircleMarker at 0x7f71d46480b8>,\n",
       " <folium.vector_layers.CircleMarker at 0x7f71d4648908>,\n",
       " <folium.vector_layers.CircleMarker at 0x7f71d46489e8>,\n",
       " <folium.vector_layers.CircleMarker at 0x7f71d4648470>,\n",
       " <folium.vector_layers.CircleMarker at 0x7f71d4648080>,\n",
       " <folium.vector_layers.CircleMarker at 0x7f71d4648518>,\n",
       " <folium.vector_layers.CircleMarker at 0x7f71d46485f8>,\n",
       " <folium.vector_layers.CircleMarker at 0x7f71d4648898>,\n",
       " <folium.vector_layers.CircleMarker at 0x7f71d4648e10>,\n",
       " <folium.vector_layers.CircleMarker at 0x7f71d4648e48>,\n",
       " <folium.vector_layers.CircleMarker at 0x7f71d4648d30>,\n",
       " <folium.vector_layers.CircleMarker at 0x7f71d4648f28>,\n",
       " <folium.vector_layers.CircleMarker at 0x7f71d4648fd0>,\n",
       " <folium.vector_layers.CircleMarker at 0x7f71d46485c0>,\n",
       " <folium.vector_layers.CircleMarker at 0x7f71d45de0f0>,\n",
       " <folium.vector_layers.CircleMarker at 0x7f71d45de208>,\n",
       " <folium.vector_layers.CircleMarker at 0x7f71d46770f0>,\n",
       " <folium.vector_layers.CircleMarker at 0x7f71d4635198>,\n",
       " <folium.vector_layers.CircleMarker at 0x7f71d4635b70>,\n",
       " <folium.vector_layers.CircleMarker at 0x7f71d4635da0>,\n",
       " <folium.vector_layers.CircleMarker at 0x7f71d4648dd8>,\n",
       " <folium.vector_layers.CircleMarker at 0x7f71d4648748>,\n",
       " <folium.vector_layers.CircleMarker at 0x7f71d4648da0>,\n",
       " <folium.vector_layers.CircleMarker at 0x7f71d46488d0>,\n",
       " <folium.vector_layers.CircleMarker at 0x7f71d46481d0>,\n",
       " <folium.vector_layers.CircleMarker at 0x7f71d4648b70>,\n",
       " <folium.vector_layers.CircleMarker at 0x7f71d4648710>,\n",
       " <folium.vector_layers.CircleMarker at 0x7f71d4648a90>,\n",
       " <folium.vector_layers.CircleMarker at 0x7f71d4648ac8>,\n",
       " <folium.vector_layers.CircleMarker at 0x7f71d45de198>,\n",
       " <folium.vector_layers.CircleMarker at 0x7f71d45de2b0>,\n",
       " <folium.vector_layers.CircleMarker at 0x7f71d45de358>,\n",
       " <folium.vector_layers.CircleMarker at 0x7f71d45de240>,\n",
       " <folium.vector_layers.CircleMarker at 0x7f71d45de438>,\n",
       " <folium.vector_layers.CircleMarker at 0x7f71d45de4e0>,\n",
       " <folium.vector_layers.CircleMarker at 0x7f71d45de588>,\n",
       " <folium.vector_layers.CircleMarker at 0x7f71d45de630>,\n",
       " <folium.vector_layers.CircleMarker at 0x7f71d45de6d8>,\n",
       " <folium.vector_layers.CircleMarker at 0x7f71d4648cc0>,\n",
       " <folium.vector_layers.CircleMarker at 0x7f71d46489b0>,\n",
       " <folium.vector_layers.CircleMarker at 0x7f71d4648c88>,\n",
       " <folium.vector_layers.CircleMarker at 0x7f71d46487f0>,\n",
       " <folium.vector_layers.CircleMarker at 0x7f71d4621cc0>,\n",
       " <folium.vector_layers.CircleMarker at 0x7f71d4664f60>,\n",
       " <folium.vector_layers.CircleMarker at 0x7f71d46352e8>,\n",
       " <folium.vector_layers.CircleMarker at 0x7f71d46355c0>,\n",
       " <folium.vector_layers.CircleMarker at 0x7f71d4648be0>,\n",
       " <folium.vector_layers.CircleMarker at 0x7f71d45de5f8>,\n",
       " <folium.vector_layers.CircleMarker at 0x7f71d45de4a8>,\n",
       " <folium.vector_layers.CircleMarker at 0x7f71d45de080>,\n",
       " <folium.vector_layers.CircleMarker at 0x7f71d45de2e8>,\n",
       " <folium.vector_layers.CircleMarker at 0x7f71d45de278>,\n",
       " <folium.vector_layers.CircleMarker at 0x7f71d45de7f0>,\n",
       " <folium.vector_layers.CircleMarker at 0x7f71d45de828>,\n",
       " <folium.vector_layers.CircleMarker at 0x7f71d45de710>,\n",
       " <folium.vector_layers.CircleMarker at 0x7f71d45de908>,\n",
       " <folium.vector_layers.CircleMarker at 0x7f71d45de9b0>,\n",
       " <folium.vector_layers.CircleMarker at 0x7f71d45dea58>,\n",
       " <folium.vector_layers.CircleMarker at 0x7f71d45deb00>,\n",
       " <folium.vector_layers.CircleMarker at 0x7f71d4677da0>,\n",
       " <folium.vector_layers.CircleMarker at 0x7f71d4648400>,\n",
       " <folium.vector_layers.CircleMarker at 0x7f71d4648eb8>,\n",
       " <folium.vector_layers.CircleMarker at 0x7f71d4648ef0>,\n",
       " <folium.vector_layers.CircleMarker at 0x7f71d4648a20>,\n",
       " <folium.vector_layers.CircleMarker at 0x7f71d4648320>,\n",
       " <folium.vector_layers.CircleMarker at 0x7f71d45deba8>,\n",
       " <folium.vector_layers.CircleMarker at 0x7f71d45dea20>,\n",
       " <folium.vector_layers.CircleMarker at 0x7f71d45de8d0>,\n",
       " <folium.vector_layers.CircleMarker at 0x7f71d45de048>,\n",
       " <folium.vector_layers.CircleMarker at 0x7f71d45de780>,\n",
       " <folium.vector_layers.CircleMarker at 0x7f71d45de1d0>,\n",
       " <folium.vector_layers.CircleMarker at 0x7f71d45de400>,\n",
       " <folium.vector_layers.CircleMarker at 0x7f71d45de6a0>,\n",
       " <folium.vector_layers.CircleMarker at 0x7f71d45dea90>,\n",
       " <folium.vector_layers.CircleMarker at 0x7f71d45decc0>,\n",
       " <folium.vector_layers.CircleMarker at 0x7f71d45decf8>,\n",
       " <folium.vector_layers.CircleMarker at 0x7f71d45deda0>,\n",
       " <folium.vector_layers.CircleMarker at 0x7f71d45dee48>,\n",
       " <folium.vector_layers.CircleMarker at 0x7f71d45deef0>,\n",
       " <folium.vector_layers.CircleMarker at 0x7f71d45def98>,\n",
       " <folium.vector_layers.CircleMarker at 0x7f71d45def28>,\n",
       " <folium.vector_layers.CircleMarker at 0x7f71d45dee80>,\n",
       " <folium.vector_layers.CircleMarker at 0x7f71d45deeb8>,\n",
       " <folium.vector_layers.CircleMarker at 0x7f71d45de748>,\n",
       " <folium.vector_layers.CircleMarker at 0x7f71d45dec88>,\n",
       " <folium.vector_layers.CircleMarker at 0x7f71d45de320>,\n",
       " <folium.vector_layers.CircleMarker at 0x7f71d45de470>,\n",
       " <folium.vector_layers.CircleMarker at 0x7f71d45de860>,\n",
       " <folium.vector_layers.CircleMarker at 0x7f71d45de898>,\n",
       " <folium.vector_layers.CircleMarker at 0x7f71d45deac8>,\n",
       " <folium.vector_layers.CircleMarker at 0x7f71d45de7b8>,\n",
       " <folium.vector_layers.CircleMarker at 0x7f71d4635320>,\n",
       " <folium.vector_layers.CircleMarker at 0x7f71d4648c18>,\n",
       " <folium.vector_layers.CircleMarker at 0x7f71d4648e80>,\n",
       " <folium.vector_layers.CircleMarker at 0x7f71d4648160>,\n",
       " <folium.vector_layers.CircleMarker at 0x7f71d45f3080>,\n",
       " <folium.vector_layers.CircleMarker at 0x7f71d45f3160>,\n",
       " <folium.vector_layers.CircleMarker at 0x7f71d45f3278>,\n",
       " <folium.vector_layers.CircleMarker at 0x7f71d45f3320>,\n",
       " <folium.vector_layers.CircleMarker at 0x7f71d45f33c8>,\n",
       " <folium.vector_layers.CircleMarker at 0x7f71d45f3470>,\n",
       " <folium.vector_layers.CircleMarker at 0x7f71d45f3518>,\n",
       " <folium.vector_layers.CircleMarker at 0x7f71d45f35c0>,\n",
       " <folium.vector_layers.CircleMarker at 0x7f71d4648438>,\n",
       " <folium.vector_layers.CircleMarker at 0x7f71d4648208>,\n",
       " <folium.vector_layers.CircleMarker at 0x7f71d4648b38>,\n",
       " <folium.vector_layers.CircleMarker at 0x7f71d45de978>,\n",
       " <folium.vector_layers.CircleMarker at 0x7f71d45de160>,\n",
       " <folium.vector_layers.CircleMarker at 0x7f71d45deb38>,\n",
       " <folium.vector_layers.CircleMarker at 0x7f71d45de390>,\n",
       " <folium.vector_layers.CircleMarker at 0x7f71d45ded30>,\n",
       " <folium.vector_layers.CircleMarker at 0x7f71d45dec50>,\n",
       " <folium.vector_layers.CircleMarker at 0x7f71d45f34e0>,\n",
       " <folium.vector_layers.CircleMarker at 0x7f71d45f3390>,\n",
       " <folium.vector_layers.CircleMarker at 0x7f71d45f3208>,\n",
       " <folium.vector_layers.CircleMarker at 0x7f71d45f30b8>,\n",
       " <folium.vector_layers.CircleMarker at 0x7f71d45f3668>,\n",
       " <folium.vector_layers.CircleMarker at 0x7f71d45f3550>,\n",
       " <folium.vector_layers.CircleMarker at 0x7f71d45f3780>,\n",
       " <folium.vector_layers.CircleMarker at 0x7f71d45f37b8>,\n",
       " <folium.vector_layers.CircleMarker at 0x7f71d45f3860>,\n",
       " <folium.vector_layers.CircleMarker at 0x7f71d45f3908>,\n",
       " <folium.vector_layers.CircleMarker at 0x7f71d45f39b0>,\n",
       " <folium.vector_layers.CircleMarker at 0x7f71d45f3a58>,\n",
       " <folium.vector_layers.CircleMarker at 0x7f71d45f3b00>,\n",
       " <folium.vector_layers.CircleMarker at 0x7f71d45ded68>,\n",
       " <folium.vector_layers.CircleMarker at 0x7f71d45de550>,\n",
       " <folium.vector_layers.CircleMarker at 0x7f71d45de0b8>,\n",
       " <folium.vector_layers.CircleMarker at 0x7f71d4648f60>,\n",
       " <folium.vector_layers.CircleMarker at 0x7f71d46487b8>,\n",
       " <folium.vector_layers.CircleMarker at 0x7f71d45de128>,\n",
       " <folium.vector_layers.CircleMarker at 0x7f71d45f37f0>,\n",
       " <folium.vector_layers.CircleMarker at 0x7f71d45f3710>,\n",
       " <folium.vector_layers.CircleMarker at 0x7f71d45f3240>,\n",
       " <folium.vector_layers.CircleMarker at 0x7f71d45f31d0>,\n",
       " <folium.vector_layers.CircleMarker at 0x7f71d45f34a8>,\n",
       " <folium.vector_layers.CircleMarker at 0x7f71d45f3358>,\n",
       " <folium.vector_layers.CircleMarker at 0x7f71d45f3438>,\n",
       " <folium.vector_layers.CircleMarker at 0x7f71d45f3ba8>,\n",
       " <folium.vector_layers.CircleMarker at 0x7f71d45f3a90>,\n",
       " <folium.vector_layers.CircleMarker at 0x7f71d45f3cc0>,\n",
       " <folium.vector_layers.CircleMarker at 0x7f71d45f3cf8>,\n",
       " <folium.vector_layers.CircleMarker at 0x7f71d45f3da0>,\n",
       " <folium.vector_layers.CircleMarker at 0x7f71d45f3e48>,\n",
       " <folium.vector_layers.CircleMarker at 0x7f71d45f3ef0>,\n",
       " <folium.vector_layers.CircleMarker at 0x7f71d45f3f98>,\n",
       " <folium.vector_layers.CircleMarker at 0x7f71d45f3f28>,\n",
       " <folium.vector_layers.CircleMarker at 0x7f71d45f3e80>,\n",
       " <folium.vector_layers.CircleMarker at 0x7f71d45f3eb8>,\n",
       " <folium.vector_layers.CircleMarker at 0x7f71d45f3c18>,\n",
       " <folium.vector_layers.CircleMarker at 0x7f71d45f3c88>,\n",
       " <folium.vector_layers.CircleMarker at 0x7f71d45f32b0>,\n",
       " <folium.vector_layers.CircleMarker at 0x7f71d45f3198>,\n",
       " <folium.vector_layers.CircleMarker at 0x7f71d45f3828>,\n",
       " <folium.vector_layers.CircleMarker at 0x7f71d4648f98>,\n",
       " <folium.vector_layers.CircleMarker at 0x7f71d45f36d8>,\n",
       " <folium.vector_layers.CircleMarker at 0x7f71d45f35f8>,\n",
       " <folium.vector_layers.CircleMarker at 0x7f71d45f38d0>,\n",
       " <folium.vector_layers.CircleMarker at 0x7f71d45de3c8>,\n",
       " <folium.vector_layers.CircleMarker at 0x7f71d45de5c0>,\n",
       " <folium.vector_layers.CircleMarker at 0x7f71d45de668>,\n",
       " <folium.vector_layers.CircleMarker at 0x7f71d46080b8>,\n",
       " <folium.vector_layers.CircleMarker at 0x7f71d46081d0>,\n",
       " <folium.vector_layers.CircleMarker at 0x7f71d4608278>,\n",
       " <folium.vector_layers.CircleMarker at 0x7f71d4608320>,\n",
       " <folium.vector_layers.CircleMarker at 0x7f71d46083c8>,\n",
       " <folium.vector_layers.CircleMarker at 0x7f71d4608470>,\n",
       " <folium.vector_layers.CircleMarker at 0x7f71d4608518>,\n",
       " <folium.vector_layers.CircleMarker at 0x7f71d46085c0>,\n",
       " <folium.vector_layers.CircleMarker at 0x7f71d45f3d68>,\n",
       " <folium.vector_layers.CircleMarker at 0x7f71d45f3048>,\n",
       " <folium.vector_layers.CircleMarker at 0x7f71d45f3128>,\n",
       " <folium.vector_layers.CircleMarker at 0x7f71d45f3b38>,\n",
       " <folium.vector_layers.CircleMarker at 0x7f71d45f3588>,\n",
       " <folium.vector_layers.CircleMarker at 0x7f71d45f3d30>,\n",
       " <folium.vector_layers.CircleMarker at 0x7f71d45f3fd0>,\n",
       " <folium.vector_layers.CircleMarker at 0x7f71d45f3dd8>,\n",
       " <folium.vector_layers.CircleMarker at 0x7f71d4648d68>,\n",
       " <folium.vector_layers.CircleMarker at 0x7f71d46777b8>,\n",
       " <folium.vector_layers.CircleMarker at 0x7f71d45defd0>,\n",
       " <folium.vector_layers.CircleMarker at 0x7f71d4635080>,\n",
       " <folium.vector_layers.CircleMarker at 0x7f71d45def60>,\n",
       " <folium.vector_layers.CircleMarker at 0x7f71d45deb70>,\n",
       " <folium.vector_layers.CircleMarker at 0x7f71d46082b0>,\n",
       " <folium.vector_layers.CircleMarker at 0x7f71d46080f0>,\n",
       " <folium.vector_layers.CircleMarker at 0x7f71d4608240>,\n",
       " <folium.vector_layers.CircleMarker at 0x7f71d4608080>,\n",
       " <folium.vector_layers.CircleMarker at 0x7f71d46086d8>,\n",
       " <folium.vector_layers.CircleMarker at 0x7f71d4608710>,\n",
       " <folium.vector_layers.CircleMarker at 0x7f71d46085f8>,\n",
       " <folium.vector_layers.CircleMarker at 0x7f71d46087f0>,\n",
       " <folium.vector_layers.CircleMarker at 0x7f71d4820978>,\n",
       " <folium.vector_layers.CircleMarker at 0x7f71adbf3d30>,\n",
       " <folium.vector_layers.CircleMarker at 0x7f71d4648358>,\n",
       " <folium.vector_layers.CircleMarker at 0x7f71d482f5f8>,\n",
       " <folium.vector_layers.CircleMarker at 0x7f71d45de9e8>,\n",
       " <folium.vector_layers.CircleMarker at 0x7f71d45dedd8>,\n",
       " <folium.vector_layers.CircleMarker at 0x7f71d45f3b70>,\n",
       " <folium.vector_layers.CircleMarker at 0x7f71d45f3ac8>,\n",
       " <folium.vector_layers.CircleMarker at 0x7f71d45f3f60>,\n",
       " <folium.vector_layers.CircleMarker at 0x7f71d4740f60>,\n",
       " <folium.vector_layers.CircleMarker at 0x7f71d45f3898>,\n",
       " <folium.vector_layers.CircleMarker at 0x7f71d46a75c0>,\n",
       " <folium.vector_layers.CircleMarker at 0x7f71d45f39e8>,\n",
       " <folium.vector_layers.CircleMarker at 0x7f71d46086a0>,\n",
       " <folium.vector_layers.CircleMarker at 0x7f71d4608550>,\n",
       " <folium.vector_layers.CircleMarker at 0x7f71d4608128>,\n",
       " <folium.vector_layers.CircleMarker at 0x7f71d4608390>,\n",
       " <folium.vector_layers.CircleMarker at 0x7f71d46a7438>,\n",
       " <folium.vector_layers.CircleMarker at 0x7f71d45f30f0>,\n",
       " <folium.vector_layers.CircleMarker at 0x7f71d45f36a0>,\n",
       " <folium.vector_layers.CircleMarker at 0x7f71d45f3630>,\n",
       " <folium.vector_layers.CircleMarker at 0x7f71d45f3748>,\n",
       " <folium.vector_layers.CircleMarker at 0x7f71d4635588>,\n",
       " <folium.vector_layers.CircleMarker at 0x7f71d482f710>,\n",
       " <folium.vector_layers.CircleMarker at 0x7f71d45debe0>,\n",
       " <folium.vector_layers.CircleMarker at 0x7f71d45de940>,\n",
       " <folium.vector_layers.CircleMarker at 0x7f71d4608668>,\n",
       " <folium.vector_layers.CircleMarker at 0x7f71d4608748>,\n",
       " <folium.vector_layers.CircleMarker at 0x7f71d4608898>,\n",
       " <folium.vector_layers.CircleMarker at 0x7f71d4608208>,\n",
       " <folium.vector_layers.CircleMarker at 0x7f71d4608940>,\n",
       " <folium.vector_layers.CircleMarker at 0x7f71d4608828>,\n",
       " <folium.vector_layers.CircleMarker at 0x7f71d4608a20>,\n",
       " <folium.vector_layers.CircleMarker at 0x7f71d4608ac8>,\n",
       " <folium.vector_layers.CircleMarker at 0x7f71d4608b70>,\n",
       " <folium.vector_layers.CircleMarker at 0x7f71d4608c18>,\n",
       " <folium.vector_layers.CircleMarker at 0x7f71d4608cc0>,\n",
       " <folium.vector_layers.CircleMarker at 0x7f71d4608d68>,\n",
       " <folium.vector_layers.CircleMarker at 0x7f71d45de518>,\n",
       " <folium.vector_layers.CircleMarker at 0x7f71d4635a20>,\n",
       " <folium.vector_layers.CircleMarker at 0x7f71d482f6a0>,\n",
       " <folium.vector_layers.CircleMarker at 0x7f71d45f3940>,\n",
       " <folium.vector_layers.CircleMarker at 0x7f71d45f3a20>,\n",
       " <folium.vector_layers.CircleMarker at 0x7f71d45f3c50>,\n",
       " <folium.vector_layers.CircleMarker at 0x7f71d4608a58>,\n",
       " <folium.vector_layers.CircleMarker at 0x7f71d4608978>,\n",
       " <folium.vector_layers.CircleMarker at 0x7f71d46089e8>,\n",
       " <folium.vector_layers.CircleMarker at 0x7f71d4608630>,\n",
       " <folium.vector_layers.CircleMarker at 0x7f71d46088d0>,\n",
       " <folium.vector_layers.CircleMarker at 0x7f71d4608400>,\n",
       " <folium.vector_layers.CircleMarker at 0x7f71d4608c50>,\n",
       " <folium.vector_layers.CircleMarker at 0x7f71d4608e48>,\n",
       " <folium.vector_layers.CircleMarker at 0x7f71d4608ef0>,\n",
       " <folium.vector_layers.CircleMarker at 0x7f71d4608160>,\n",
       " <folium.vector_layers.CircleMarker at 0x7f71d4608fd0>,\n",
       " <folium.vector_layers.CircleMarker at 0x7f71d4608f28>,\n",
       " <folium.vector_layers.CircleMarker at 0x7f71d47a0128>,\n",
       " <folium.vector_layers.CircleMarker at 0x7f71d47a0208>,\n",
       " <folium.vector_layers.CircleMarker at 0x7f71d47a02b0>,\n",
       " <folium.vector_layers.CircleMarker at 0x7f71d46d5b70>,\n",
       " <folium.vector_layers.CircleMarker at 0x7f71f0d3f898>,\n",
       " <folium.vector_layers.CircleMarker at 0x7f71d45f3e10>,\n",
       " <folium.vector_layers.CircleMarker at 0x7f71d4608f98>,\n",
       " <folium.vector_layers.CircleMarker at 0x7f71d4608eb8>,\n",
       " <folium.vector_layers.CircleMarker at 0x7f71d4608198>,\n",
       " <folium.vector_layers.CircleMarker at 0x7f71d46084e0>,\n",
       " <folium.vector_layers.CircleMarker at 0x7f71d4608be0>,\n",
       " <folium.vector_layers.CircleMarker at 0x7f71d45dec18>,\n",
       " <folium.vector_layers.CircleMarker at 0x7f71d4608588>,\n",
       " <folium.vector_layers.CircleMarker at 0x7f71d4608ba8>,\n",
       " <folium.vector_layers.CircleMarker at 0x7f71d4608b00>,\n",
       " <folium.vector_layers.CircleMarker at 0x7f71d47a0198>,\n",
       " <folium.vector_layers.CircleMarker at 0x7f71d47a0358>,\n",
       " <folium.vector_layers.CircleMarker at 0x7f71d47a0240>,\n",
       " <folium.vector_layers.CircleMarker at 0x7f71d47a0470>,\n",
       " <folium.vector_layers.CircleMarker at 0x7f71d47a04a8>,\n",
       " <folium.vector_layers.CircleMarker at 0x7f71d47a0550>,\n",
       " <folium.vector_layers.CircleMarker at 0x7f71d47a05f8>,\n",
       " <folium.vector_layers.CircleMarker at 0x7f71d47a06a0>,\n",
       " <folium.vector_layers.CircleMarker at 0x7f71d47a0748>,\n",
       " <folium.vector_layers.CircleMarker at 0x7f71d46089b0>,\n",
       " <folium.vector_layers.CircleMarker at 0x7f71d4608a90>,\n",
       " <folium.vector_layers.CircleMarker at 0x7f71d482f550>,\n",
       " <folium.vector_layers.CircleMarker at 0x7f71edcc5828>,\n",
       " <folium.vector_layers.CircleMarker at 0x7f71d4608e80>,\n",
       " <folium.vector_layers.CircleMarker at 0x7f71d45f3978>,\n",
       " <folium.vector_layers.CircleMarker at 0x7f71d45f32e8>,\n",
       " <folium.vector_layers.CircleMarker at 0x7f71d46087b8>,\n",
       " <folium.vector_layers.CircleMarker at 0x7f71d47a0668>,\n",
       " <folium.vector_layers.CircleMarker at 0x7f71d47a0518>,\n",
       " <folium.vector_layers.CircleMarker at 0x7f71d47a00b8>,\n",
       " <folium.vector_layers.CircleMarker at 0x7f71d47a0390>,\n",
       " <folium.vector_layers.CircleMarker at 0x7f71d47a0278>,\n",
       " <folium.vector_layers.CircleMarker at 0x7f71d47a07f0>,\n",
       " <folium.vector_layers.CircleMarker at 0x7f71d47a06d8>,\n",
       " <folium.vector_layers.CircleMarker at 0x7f71d47a0908>,\n",
       " <folium.vector_layers.CircleMarker at 0x7f71d47a0940>,\n",
       " <folium.vector_layers.CircleMarker at 0x7f71d47a09e8>,\n",
       " <folium.vector_layers.CircleMarker at 0x7f71d47a0a90>,\n",
       " <folium.vector_layers.CircleMarker at 0x7f71d47a0b38>,\n",
       " <folium.vector_layers.CircleMarker at 0x7f71d47a0be0>,\n",
       " <folium.vector_layers.CircleMarker at 0x7f71d47a0c88>,\n",
       " <folium.vector_layers.CircleMarker at 0x7f71d45f3400>,\n",
       " <folium.vector_layers.CircleMarker at 0x7f71d4608da0>,\n",
       " <folium.vector_layers.CircleMarker at 0x7f71d4608780>,\n",
       " <folium.vector_layers.CircleMarker at 0x7f71d4608dd8>,\n",
       " <folium.vector_layers.CircleMarker at 0x7f71d4608c88>,\n",
       " <folium.vector_layers.CircleMarker at 0x7f71d47a0ba8>,\n",
       " <folium.vector_layers.CircleMarker at 0x7f71d47a0a58>,\n",
       " <folium.vector_layers.CircleMarker at 0x7f71d47a0860>,\n",
       " <folium.vector_layers.CircleMarker at 0x7f71d47a08d0>,\n",
       " <folium.vector_layers.CircleMarker at 0x7f71d47a0438>,\n",
       " <folium.vector_layers.CircleMarker at 0x7f71d47a0048>,\n",
       " <folium.vector_layers.CircleMarker at 0x7f71d47a04e0>,\n",
       " <folium.vector_layers.CircleMarker at 0x7f71d47a05c0>,\n",
       " <folium.vector_layers.CircleMarker at 0x7f71d47a0d30>,\n",
       " <folium.vector_layers.CircleMarker at 0x7f71d47a0c18>,\n",
       " <folium.vector_layers.CircleMarker at 0x7f71d47a0e48>,\n",
       " <folium.vector_layers.CircleMarker at 0x7f71d47a0e80>,\n",
       " <folium.vector_layers.CircleMarker at 0x7f71d47a0f28>,\n",
       " <folium.vector_layers.CircleMarker at 0x7f71d47a0fd0>,\n",
       " <folium.vector_layers.CircleMarker at 0x7f71d47a0eb8>,\n",
       " <folium.vector_layers.CircleMarker at 0x7f71d45940f0>,\n",
       " <folium.vector_layers.CircleMarker at 0x7f71d4594208>,\n",
       " <folium.vector_layers.CircleMarker at 0x7f71d45f3be0>,\n",
       " <folium.vector_layers.CircleMarker at 0x7f71d4608b38>,\n",
       " <folium.vector_layers.CircleMarker at 0x7f71d4608048>,\n",
       " <folium.vector_layers.CircleMarker at 0x7f71d47a0f98>,\n",
       " <folium.vector_layers.CircleMarker at 0x7f71d47a0588>,\n",
       " <folium.vector_layers.CircleMarker at 0x7f71d47a0080>,\n",
       " <folium.vector_layers.CircleMarker at 0x7f71d47a0b70>,\n",
       " <folium.vector_layers.CircleMarker at 0x7f71d47a0160>,\n",
       " <folium.vector_layers.CircleMarker at 0x7f71d47a03c8>,\n",
       " <folium.vector_layers.CircleMarker at 0x7f71d47a0978>,\n",
       " <folium.vector_layers.CircleMarker at 0x7f71d47a09b0>,\n",
       " <folium.vector_layers.CircleMarker at 0x7f71d47a0c50>,\n",
       " <folium.vector_layers.CircleMarker at 0x7f71d47a0780>,\n",
       " <folium.vector_layers.CircleMarker at 0x7f71d4594048>,\n",
       " <folium.vector_layers.CircleMarker at 0x7f71d4594320>,\n",
       " <folium.vector_layers.CircleMarker at 0x7f71d4594358>,\n",
       " <folium.vector_layers.CircleMarker at 0x7f71d4594240>,\n",
       " <folium.vector_layers.CircleMarker at 0x7f71d4594438>,\n",
       " <folium.vector_layers.CircleMarker at 0x7f71d45944e0>,\n",
       " <folium.vector_layers.CircleMarker at 0x7f71d4594588>,\n",
       " <folium.vector_layers.CircleMarker at 0x7f71d4594630>,\n",
       " <folium.vector_layers.CircleMarker at 0x7f71d47a0cf8>,\n",
       " <folium.vector_layers.CircleMarker at 0x7f71d47a0b00>,\n",
       " <folium.vector_layers.CircleMarker at 0x7f71d47a0d68>,\n",
       " <folium.vector_layers.CircleMarker at 0x7f71d47a0400>,\n",
       " <folium.vector_layers.CircleMarker at 0x7f71d47a0cc0>,\n",
       " <folium.vector_layers.CircleMarker at 0x7f71d47a0ef0>,\n",
       " <folium.vector_layers.CircleMarker at 0x7f71d47a0e10>,\n",
       " <folium.vector_layers.CircleMarker at 0x7f71d4608d30>,\n",
       " <folium.vector_layers.CircleMarker at 0x7f71d4608cf8>,\n",
       " <folium.vector_layers.CircleMarker at 0x7f71d4594470>,\n",
       " <folium.vector_layers.CircleMarker at 0x7f71d45944a8>,\n",
       " <folium.vector_layers.CircleMarker at 0x7f71d45943c8>,\n",
       " <folium.vector_layers.CircleMarker at 0x7f71d45942b0>,\n",
       " <folium.vector_layers.CircleMarker at 0x7f71d45946d8>,\n",
       " <folium.vector_layers.CircleMarker at 0x7f71d45945c0>,\n",
       " <folium.vector_layers.CircleMarker at 0x7f71d45947f0>,\n",
       " <folium.vector_layers.CircleMarker at 0x7f71d4594828>,\n",
       " <folium.vector_layers.CircleMarker at 0x7f71d45948d0>,\n",
       " <folium.vector_layers.CircleMarker at 0x7f71d4594978>,\n",
       " <folium.vector_layers.CircleMarker at 0x7f71d4594a20>,\n",
       " <folium.vector_layers.CircleMarker at 0x7f71d4594ac8>,\n",
       " <folium.vector_layers.CircleMarker at 0x7f71d4594b70>,\n",
       " <folium.vector_layers.CircleMarker at 0x7f71d4608438>,\n",
       " <folium.vector_layers.CircleMarker at 0x7f71d4608908>,\n",
       " <folium.vector_layers.CircleMarker at 0x7f71d47a00f0>,\n",
       " <folium.vector_layers.CircleMarker at 0x7f71d47a0710>,\n",
       " <folium.vector_layers.CircleMarker at 0x7f71d47a0898>,\n",
       " <folium.vector_layers.CircleMarker at 0x7f71d47a0630>,\n",
       " <folium.vector_layers.CircleMarker at 0x7f71d4594a90>,\n",
       " <folium.vector_layers.CircleMarker at 0x7f71d4594940>,\n",
       " <folium.vector_layers.CircleMarker at 0x7f71d4594748>,\n",
       " <folium.vector_layers.CircleMarker at 0x7f71d45947b8>,\n",
       " <folium.vector_layers.CircleMarker at 0x7f71d45942e8>,\n",
       " <folium.vector_layers.CircleMarker at 0x7f71d4594128>,\n",
       " <folium.vector_layers.CircleMarker at 0x7f71d4594550>,\n",
       " <folium.vector_layers.CircleMarker at 0x7f71d4594c18>,\n",
       " <folium.vector_layers.CircleMarker at 0x7f71d4594b00>,\n",
       " <folium.vector_layers.CircleMarker at 0x7f71d4594d30>,\n",
       " <folium.vector_layers.CircleMarker at 0x7f71d4594d68>,\n",
       " <folium.vector_layers.CircleMarker at 0x7f71d4594e10>,\n",
       " <folium.vector_layers.CircleMarker at 0x7f71d4594eb8>,\n",
       " <folium.vector_layers.CircleMarker at 0x7f71d4594f60>,\n",
       " <folium.vector_layers.CircleMarker at 0x7f71d4594ef0>,\n",
       " <folium.vector_layers.CircleMarker at 0x7f71d45a7048>,\n",
       " <folium.vector_layers.CircleMarker at 0x7f71d45949b0>,\n",
       " <folium.vector_layers.CircleMarker at 0x7f71d4594f28>,\n",
       " <folium.vector_layers.CircleMarker at 0x7f71d4594c88>,\n",
       " <folium.vector_layers.CircleMarker at 0x7f71d4594cf8>,\n",
       " <folium.vector_layers.CircleMarker at 0x7f71d4594160>,\n",
       " <folium.vector_layers.CircleMarker at 0x7f71d4594400>,\n",
       " <folium.vector_layers.CircleMarker at 0x7f71d4594780>,\n",
       " <folium.vector_layers.CircleMarker at 0x7f71d4594080>,\n",
       " <folium.vector_layers.CircleMarker at 0x7f71d4594668>,\n",
       " <folium.vector_layers.CircleMarker at 0x7f71d4594908>,\n",
       " <folium.vector_layers.CircleMarker at 0x7f71d4608e10>,\n",
       " <folium.vector_layers.CircleMarker at 0x7f71d47a0da0>,\n",
       " <folium.vector_layers.CircleMarker at 0x7f71d47a02e8>,\n",
       " <folium.vector_layers.CircleMarker at 0x7f71d47a0320>,\n",
       " <folium.vector_layers.CircleMarker at 0x7f71d45a7198>,\n",
       " <folium.vector_layers.CircleMarker at 0x7f71d45a72b0>,\n",
       " <folium.vector_layers.CircleMarker at 0x7f71d45a72e8>,\n",
       " <folium.vector_layers.CircleMarker at 0x7f71d45a7390>,\n",
       " <folium.vector_layers.CircleMarker at 0x7f71d45a7438>,\n",
       " <folium.vector_layers.CircleMarker at 0x7f71d45a74e0>,\n",
       " <folium.vector_layers.CircleMarker at 0x7f71d45a7588>,\n",
       " <folium.vector_layers.CircleMarker at 0x7f71d45a7630>,\n",
       " <folium.vector_layers.CircleMarker at 0x7f71d4608f60>,\n",
       " <folium.vector_layers.CircleMarker at 0x7f71d47a0dd8>,\n",
       " <folium.vector_layers.CircleMarker at 0x7f71d45949e8>,\n",
       " <folium.vector_layers.CircleMarker at 0x7f71d4594898>,\n",
       " <folium.vector_layers.CircleMarker at 0x7f71d4594390>,\n",
       " <folium.vector_layers.CircleMarker at 0x7f71d4594ba8>,\n",
       " <folium.vector_layers.CircleMarker at 0x7f71d45945f8>,\n",
       " <folium.vector_layers.CircleMarker at 0x7f71d4594da0>,\n",
       " <folium.vector_layers.CircleMarker at 0x7f71d4594cc0>,\n",
       " <folium.vector_layers.CircleMarker at 0x7f71d45a7550>,\n",
       " <folium.vector_layers.CircleMarker at 0x7f71d45a7400>,\n",
       " <folium.vector_layers.CircleMarker at 0x7f71d45a71d0>,\n",
       " <folium.vector_layers.CircleMarker at 0x7f71d45a7240>,\n",
       " <folium.vector_layers.CircleMarker at 0x7f71d45a76d8>,\n",
       " <folium.vector_layers.CircleMarker at 0x7f71d45a75c0>,\n",
       " <folium.vector_layers.CircleMarker at 0x7f71d45a77f0>,\n",
       " <folium.vector_layers.CircleMarker at 0x7f71d45a7828>,\n",
       " <folium.vector_layers.CircleMarker at 0x7f71d45a78d0>,\n",
       " <folium.vector_layers.CircleMarker at 0x7f71d45a7978>,\n",
       " <folium.vector_layers.CircleMarker at 0x7f71d45a7a20>,\n",
       " <folium.vector_layers.CircleMarker at 0x7f71d45a7ac8>,\n",
       " <folium.vector_layers.CircleMarker at 0x7f71d4594e48>,\n",
       " <folium.vector_layers.CircleMarker at 0x7f71d4594e80>,\n",
       " <folium.vector_layers.CircleMarker at 0x7f71d4594278>,\n",
       " <folium.vector_layers.CircleMarker at 0x7f71d4594dd8>,\n",
       " <folium.vector_layers.CircleMarker at 0x7f71d4594a58>,\n",
       " <folium.vector_layers.CircleMarker at 0x7f71d47a0ac8>,\n",
       " <folium.vector_layers.CircleMarker at 0x7f71d45a7908>,\n",
       " <folium.vector_layers.CircleMarker at 0x7f71d45a7940>,\n",
       " <folium.vector_layers.CircleMarker at 0x7f71d45a70b8>,\n",
       " <folium.vector_layers.CircleMarker at 0x7f71d45a7160>,\n",
       " <folium.vector_layers.CircleMarker at 0x7f71d45a7518>,\n",
       " <folium.vector_layers.CircleMarker at 0x7f71d45a73c8>,\n",
       " <folium.vector_layers.CircleMarker at 0x7f71d45a74a8>,\n",
       " <folium.vector_layers.CircleMarker at 0x7f71d45a7b70>,\n",
       " <folium.vector_layers.CircleMarker at 0x7f71d45a7a58>,\n",
       " <folium.vector_layers.CircleMarker at 0x7f71d45a7c88>,\n",
       " <folium.vector_layers.CircleMarker at 0x7f71d45a7cc0>,\n",
       " <folium.vector_layers.CircleMarker at 0x7f71d45a7d68>,\n",
       " <folium.vector_layers.CircleMarker at 0x7f71d45a7e10>,\n",
       " <folium.vector_layers.CircleMarker at 0x7f71d45a7eb8>,\n",
       " <folium.vector_layers.CircleMarker at 0x7f71d45a7f60>,\n",
       " <folium.vector_layers.CircleMarker at 0x7f71d45a7ef0>,\n",
       " <folium.vector_layers.CircleMarker at 0x7f71d45dee10>,\n",
       " <folium.vector_layers.CircleMarker at 0x7f71d4594198>,\n",
       " <folium.vector_layers.CircleMarker at 0x7f71d4594f98>,\n",
       " <folium.vector_layers.CircleMarker at 0x7f71d47a01d0>,\n",
       " <folium.vector_layers.CircleMarker at 0x7f71d47a0828>,\n",
       " <folium.vector_layers.CircleMarker at 0x7f71d46082e8>,\n",
       " <folium.vector_layers.CircleMarker at 0x7f71d4594710>,\n",
       " <folium.vector_layers.CircleMarker at 0x7f71d45a7f28>,\n",
       " <folium.vector_layers.CircleMarker at 0x7f71d45a7dd8>,\n",
       " <folium.vector_layers.CircleMarker at 0x7f71d45a7be0>,\n",
       " <folium.vector_layers.CircleMarker at 0x7f71d45a7c50>,\n",
       " <folium.vector_layers.CircleMarker at 0x7f71d45a7320>,\n",
       " <folium.vector_layers.CircleMarker at 0x7f71d45a70f0>,\n",
       " <folium.vector_layers.CircleMarker at 0x7f71d45a7780>,\n",
       " <folium.vector_layers.CircleMarker at 0x7f71d45a77b8>,\n",
       " <folium.vector_layers.CircleMarker at 0x7f71d45a79e8>,\n",
       " <folium.vector_layers.CircleMarker at 0x7f71d45a79b0>,\n",
       " <folium.vector_layers.CircleMarker at 0x7f71d45a7a90>,\n",
       " <folium.vector_layers.CircleMarker at 0x7f71d45bc048>,\n",
       " <folium.vector_layers.CircleMarker at 0x7f71d45bc128>,\n",
       " <folium.vector_layers.CircleMarker at 0x7f71d45bc240>,\n",
       " <folium.vector_layers.CircleMarker at 0x7f71d45bc2e8>,\n",
       " <folium.vector_layers.CircleMarker at 0x7f71d45a7080>,\n",
       " <folium.vector_layers.CircleMarker at 0x7f71d45a7208>,\n",
       " <folium.vector_layers.CircleMarker at 0x7f71d45a7668>,\n",
       " <folium.vector_layers.CircleMarker at 0x7f71d45a7470>,\n",
       " <folium.vector_layers.CircleMarker at 0x7f71d45a7ba8>,\n",
       " <folium.vector_layers.CircleMarker at 0x7f71d45a7da0>,\n",
       " <folium.vector_layers.CircleMarker at 0x7f71d46084a8>,\n",
       " <folium.vector_layers.CircleMarker at 0x7f71d47a0a20>,\n",
       " <folium.vector_layers.CircleMarker at 0x7f71d45a7cf8>,\n",
       " <folium.vector_layers.CircleMarker at 0x7f71d45a7fd0>,\n",
       " <folium.vector_layers.CircleMarker at 0x7f71d45941d0>,\n",
       " <folium.vector_layers.CircleMarker at 0x7f71d45946a0>,\n",
       " <folium.vector_layers.CircleMarker at 0x7f71d45bc0b8>,\n",
       " <folium.vector_layers.CircleMarker at 0x7f71d45bc080>,\n",
       " <folium.vector_layers.CircleMarker at 0x7f71d45bc278>,\n",
       " <folium.vector_layers.CircleMarker at 0x7f71d45bc4a8>,\n",
       " <folium.vector_layers.CircleMarker at 0x7f71d45bc4e0>,\n",
       " <folium.vector_layers.CircleMarker at 0x7f71d45bc588>,\n",
       " <folium.vector_layers.CircleMarker at 0x7f71d45bc630>,\n",
       " <folium.vector_layers.CircleMarker at 0x7f71d45bc6d8>,\n",
       " <folium.vector_layers.CircleMarker at 0x7f71d45bc780>,\n",
       " <folium.vector_layers.CircleMarker at 0x7f71d45bc828>,\n",
       " <folium.vector_layers.CircleMarker at 0x7f71d47a07b8>,\n",
       " <folium.vector_layers.CircleMarker at 0x7f71d4594518>,\n",
       " <folium.vector_layers.CircleMarker at 0x7f71d4594c50>,\n",
       " <folium.vector_layers.CircleMarker at 0x7f71d45a7710>,\n",
       " <folium.vector_layers.CircleMarker at 0x7f71d45a7b38>,\n",
       " <folium.vector_layers.CircleMarker at 0x7f71d45a7278>,\n",
       " <folium.vector_layers.CircleMarker at 0x7f71d45a7f98>,\n",
       " <folium.vector_layers.CircleMarker at 0x7f71d45a7898>,\n",
       " <folium.vector_layers.CircleMarker at 0x7f71d45bc748>,\n",
       " <folium.vector_layers.CircleMarker at 0x7f71d45bc5f8>,\n",
       " <folium.vector_layers.CircleMarker at 0x7f71d45bc390>,\n",
       " <folium.vector_layers.CircleMarker at 0x7f71d45bc470>,\n",
       " <folium.vector_layers.CircleMarker at 0x7f71d45bc198>,\n",
       " <folium.vector_layers.CircleMarker at 0x7f71d45bc8d0>,\n",
       " <folium.vector_layers.CircleMarker at 0x7f71d45bc7b8>,\n",
       " <folium.vector_layers.CircleMarker at 0x7f71d45bc9e8>,\n",
       " <folium.vector_layers.CircleMarker at 0x7f71d45bca20>,\n",
       " <folium.vector_layers.CircleMarker at 0x7f71d45bcac8>,\n",
       " <folium.vector_layers.CircleMarker at 0x7f71d45bcb70>,\n",
       " <folium.vector_layers.CircleMarker at 0x7f71d45bcc18>,\n",
       " <folium.vector_layers.CircleMarker at 0x7f71d45bccc0>,\n",
       " <folium.vector_layers.CircleMarker at 0x7f71d45bcd68>,\n",
       " <folium.vector_layers.CircleMarker at 0x7f71d4594b38>,\n",
       " <folium.vector_layers.CircleMarker at 0x7f71d4608358>,\n",
       " <folium.vector_layers.CircleMarker at 0x7f71d45a7c18>,\n",
       " <folium.vector_layers.CircleMarker at 0x7f71d45a7748>,\n",
       " <folium.vector_layers.CircleMarker at 0x7f71d45a75f8>,\n",
       " <folium.vector_layers.CircleMarker at 0x7f71d45bcc88>,\n",
       " <folium.vector_layers.CircleMarker at 0x7f71d45bcb38>,\n",
       " <folium.vector_layers.CircleMarker at 0x7f71d45bc940>,\n",
       " <folium.vector_layers.CircleMarker at 0x7f71d45bc9b0>,\n",
       " <folium.vector_layers.CircleMarker at 0x7f71d45bc208>,\n",
       " <folium.vector_layers.CircleMarker at 0x7f71d45bc400>,\n",
       " <folium.vector_layers.CircleMarker at 0x7f71d45bc5c0>,\n",
       " <folium.vector_layers.CircleMarker at 0x7f71d45bc6a0>,\n",
       " <folium.vector_layers.CircleMarker at 0x7f71d45bce10>,\n",
       " <folium.vector_layers.CircleMarker at 0x7f71d45bccf8>,\n",
       " <folium.vector_layers.CircleMarker at 0x7f71d45bcf28>,\n",
       " <folium.vector_layers.CircleMarker at 0x7f71d45bcf60>,\n",
       " <folium.vector_layers.CircleMarker at 0x7f71d45bcda0>,\n",
       " <folium.vector_layers.CircleMarker at 0x7f71d45cf048>,\n",
       " <folium.vector_layers.CircleMarker at 0x7f71d45cf128>,\n",
       " <folium.vector_layers.CircleMarker at 0x7f71d45cf240>,\n",
       " <folium.vector_layers.CircleMarker at 0x7f71d45cf2e8>,\n",
       " <folium.vector_layers.CircleMarker at 0x7f71d45bcba8>,\n",
       " <folium.vector_layers.CircleMarker at 0x7f71d45bc668>,\n",
       " <folium.vector_layers.CircleMarker at 0x7f71d45bc518>,\n",
       " <folium.vector_layers.CircleMarker at 0x7f71d45bc320>,\n",
       " <folium.vector_layers.CircleMarker at 0x7f71d45bc1d0>,\n",
       " <folium.vector_layers.CircleMarker at 0x7f71d45bc908>,\n",
       " <folium.vector_layers.CircleMarker at 0x7f71d45bcb00>,\n",
       " <folium.vector_layers.CircleMarker at 0x7f71d47a0f60>,\n",
       " <folium.vector_layers.CircleMarker at 0x7f71d45940b8>,\n",
       " <folium.vector_layers.CircleMarker at 0x7f71d45bca90>,\n",
       " <folium.vector_layers.CircleMarker at 0x7f71d45a7e80>,\n",
       " <folium.vector_layers.CircleMarker at 0x7f71d45a7128>,\n",
       " <folium.vector_layers.CircleMarker at 0x7f71d45cf198>,\n",
       " <folium.vector_layers.CircleMarker at 0x7f71d45cf390>,\n",
       " <folium.vector_layers.CircleMarker at 0x7f71d45cf278>,\n",
       " <folium.vector_layers.CircleMarker at 0x7f71d45cf4a8>,\n",
       " <folium.vector_layers.CircleMarker at 0x7f71d45cf4e0>,\n",
       " <folium.vector_layers.CircleMarker at 0x7f71d45cf588>,\n",
       " <folium.vector_layers.CircleMarker at 0x7f71d45cf630>,\n",
       " <folium.vector_layers.CircleMarker at 0x7f71d45cf6d8>,\n",
       " <folium.vector_layers.CircleMarker at 0x7f71d45cf780>,\n",
       " <folium.vector_layers.CircleMarker at 0x7f71d45cf828>,\n",
       " <folium.vector_layers.CircleMarker at 0x7f71d4594be0>,\n",
       " <folium.vector_layers.CircleMarker at 0x7f71d45a76a0>,\n",
       " <folium.vector_layers.CircleMarker at 0x7f71d45bcbe0>,\n",
       " <folium.vector_layers.CircleMarker at 0x7f71d45bcc50>,\n",
       " <folium.vector_layers.CircleMarker at 0x7f71d45bc0f0>,\n",
       " <folium.vector_layers.CircleMarker at 0x7f71d45bc550>,\n",
       " <folium.vector_layers.CircleMarker at 0x7f71d45bceb8>,\n",
       " <folium.vector_layers.CircleMarker at 0x7f71d45bcfd0>,\n",
       " <folium.vector_layers.CircleMarker at 0x7f71d45cf518>,\n",
       " <folium.vector_layers.CircleMarker at 0x7f71d45cf438>,\n",
       " <folium.vector_layers.CircleMarker at 0x7f71d45cf208>,\n",
       " <folium.vector_layers.CircleMarker at 0x7f71d45cf1d0>,\n",
       " <folium.vector_layers.CircleMarker at 0x7f71d45cf080>,\n",
       " <folium.vector_layers.CircleMarker at 0x7f71d45cf8d0>,\n",
       " <folium.vector_layers.CircleMarker at 0x7f71d45cf7b8>,\n",
       " <folium.vector_layers.CircleMarker at 0x7f71d45cf9e8>,\n",
       " <folium.vector_layers.CircleMarker at 0x7f71d45cfa20>,\n",
       " <folium.vector_layers.CircleMarker at 0x7f71d45cfac8>,\n",
       " <folium.vector_layers.CircleMarker at 0x7f71d45cfb70>,\n",
       " <folium.vector_layers.CircleMarker at 0x7f71d45cfc18>,\n",
       " <folium.vector_layers.CircleMarker at 0x7f71d45cfcc0>,\n",
       " <folium.vector_layers.CircleMarker at 0x7f71d45cfd68>,\n",
       " <folium.vector_layers.CircleMarker at 0x7f71d45bc438>,\n",
       " <folium.vector_layers.CircleMarker at 0x7f71d45bc710>,\n",
       " <folium.vector_layers.CircleMarker at 0x7f71d45a7358>,\n",
       " <folium.vector_layers.CircleMarker at 0x7f71d45bce48>,\n",
       " <folium.vector_layers.CircleMarker at 0x7f71d45bcd30>,\n",
       " <folium.vector_layers.CircleMarker at 0x7f71d45cfc88>,\n",
       " <folium.vector_layers.CircleMarker at 0x7f71d45cfb38>,\n",
       " <folium.vector_layers.CircleMarker at 0x7f71d45cf940>,\n",
       " <folium.vector_layers.CircleMarker at 0x7f71d45cf9b0>,\n",
       " <folium.vector_layers.CircleMarker at 0x7f71d45cf0f0>,\n",
       " <folium.vector_layers.CircleMarker at 0x7f71d45cf160>,\n",
       " <folium.vector_layers.CircleMarker at 0x7f71d45cf748>,\n",
       " <folium.vector_layers.CircleMarker at 0x7f71d45cf320>,\n",
       " <folium.vector_layers.CircleMarker at 0x7f71d45cf898>,\n",
       " <folium.vector_layers.CircleMarker at 0x7f71d45cfe80>,\n",
       " <folium.vector_layers.CircleMarker at 0x7f71d45cfeb8>,\n",
       " <folium.vector_layers.CircleMarker at 0x7f71d45cfda0>,\n",
       " <folium.vector_layers.CircleMarker at 0x7f71d45cff98>,\n",
       " <folium.vector_layers.CircleMarker at 0x7f71d45cf7f0>,\n",
       " <folium.vector_layers.CircleMarker at 0x7f71d45600b8>,\n",
       " <folium.vector_layers.CircleMarker at 0x7f71d45601d0>,\n",
       " <folium.vector_layers.CircleMarker at 0x7f71d45a7b00>,\n",
       " <folium.vector_layers.CircleMarker at 0x7f71d45bce80>,\n",
       " <folium.vector_layers.CircleMarker at 0x7f71d45bc978>,\n",
       " <folium.vector_layers.CircleMarker at 0x7f71d45bcef0>,\n",
       " <folium.vector_layers.CircleMarker at 0x7f71d45cff60>,\n",
       " <folium.vector_layers.CircleMarker at 0x7f71d45cfcf8>,\n",
       " <folium.vector_layers.CircleMarker at 0x7f71d45cf6a0>,\n",
       " <folium.vector_layers.CircleMarker at 0x7f71d45cf5f8>,\n",
       " <folium.vector_layers.CircleMarker at 0x7f71d45cf0b8>,\n",
       " <folium.vector_layers.CircleMarker at 0x7f71d45cf908>,\n",
       " <folium.vector_layers.CircleMarker at 0x7f71d45cfb00>,\n",
       " <folium.vector_layers.CircleMarker at 0x7f71d45cfbe0>,\n",
       " <folium.vector_layers.CircleMarker at 0x7f71d45cfa90>,\n",
       " <folium.vector_layers.CircleMarker at 0x7f71d4560278>,\n",
       " <folium.vector_layers.CircleMarker at 0x7f71d45602b0>,\n",
       " <folium.vector_layers.CircleMarker at 0x7f71d4560390>,\n",
       " <folium.vector_layers.CircleMarker at 0x7f71d45603c8>,\n",
       " <folium.vector_layers.CircleMarker at 0x7f71d4560470>,\n",
       " <folium.vector_layers.CircleMarker at 0x7f71d4560518>,\n",
       " <folium.vector_layers.CircleMarker at 0x7f71d45605c0>,\n",
       " <folium.vector_layers.CircleMarker at 0x7f71d4560668>,\n",
       " <folium.vector_layers.CircleMarker at 0x7f71d4560710>,\n",
       " <folium.vector_layers.CircleMarker at 0x7f71d45cfba8>,\n",
       " <folium.vector_layers.CircleMarker at 0x7f71d45cf860>,\n",
       " <folium.vector_layers.CircleMarker at 0x7f71d45cf400>,\n",
       " <folium.vector_layers.CircleMarker at 0x7f71d45cf710>,\n",
       " <folium.vector_layers.CircleMarker at 0x7f71d45cf5c0>,\n",
       " <folium.vector_layers.CircleMarker at 0x7f71d45a7d30>,\n",
       " <folium.vector_layers.CircleMarker at 0x7f71d45cff28>,\n",
       " <folium.vector_layers.CircleMarker at 0x7f71d45bc860>,\n",
       " <folium.vector_layers.CircleMarker at 0x7f71d45bc3c8>,\n",
       " <folium.vector_layers.CircleMarker at 0x7f71d4560400>,\n",
       " <folium.vector_layers.CircleMarker at 0x7f71d4560128>,\n",
       " <folium.vector_layers.CircleMarker at 0x7f71d45600f0>,\n",
       " <folium.vector_layers.CircleMarker at 0x7f71d4560160>,\n",
       " <folium.vector_layers.CircleMarker at 0x7f71d45607b8>,\n",
       " <folium.vector_layers.CircleMarker at 0x7f71d45606a0>,\n",
       " <folium.vector_layers.CircleMarker at 0x7f71d45608d0>,\n",
       " <folium.vector_layers.CircleMarker at 0x7f71d4560908>,\n",
       " <folium.vector_layers.CircleMarker at 0x7f71d45609b0>,\n",
       " <folium.vector_layers.CircleMarker at 0x7f71d4560a58>,\n",
       " <folium.vector_layers.CircleMarker at 0x7f71d4560b00>,\n",
       " <folium.vector_layers.CircleMarker at 0x7f71d4560ba8>,\n",
       " <folium.vector_layers.CircleMarker at 0x7f71d4560c50>,\n",
       " <folium.vector_layers.CircleMarker at 0x7f71d45bc7f0>,\n",
       " <folium.vector_layers.CircleMarker at 0x7f71d45cffd0>,\n",
       " <folium.vector_layers.CircleMarker at 0x7f71d45cfdd8>,\n",
       " <folium.vector_layers.CircleMarker at 0x7f71d45cf2b0>,\n",
       " <folium.vector_layers.CircleMarker at 0x7f71d45cfc50>,\n",
       " <folium.vector_layers.CircleMarker at 0x7f71d4560a90>,\n",
       " <folium.vector_layers.CircleMarker at 0x7f71d4560ac8>,\n",
       " <folium.vector_layers.CircleMarker at 0x7f71d4560978>,\n",
       " <folium.vector_layers.CircleMarker at 0x7f71d45602e8>,\n",
       " <folium.vector_layers.CircleMarker at 0x7f71d45607f0>,\n",
       " <folium.vector_layers.CircleMarker at 0x7f71d4560588>,\n",
       " <folium.vector_layers.CircleMarker at 0x7f71d4560048>,\n",
       " <folium.vector_layers.CircleMarker at 0x7f71d45604a8>,\n",
       " <folium.vector_layers.CircleMarker at 0x7f71d4560cf8>,\n",
       " <folium.vector_layers.CircleMarker at 0x7f71d4560be0>,\n",
       " <folium.vector_layers.CircleMarker at 0x7f71d4560e10>,\n",
       " <folium.vector_layers.CircleMarker at 0x7f71d4560e48>,\n",
       " <folium.vector_layers.CircleMarker at 0x7f71d4560ef0>,\n",
       " <folium.vector_layers.CircleMarker at 0x7f71d4560f98>,\n",
       " <folium.vector_layers.CircleMarker at 0x7f71d4560f28>,\n",
       " <folium.vector_layers.CircleMarker at 0x7f71d4574080>,\n",
       " <folium.vector_layers.CircleMarker at 0x7f71d4574160>,\n",
       " <folium.vector_layers.CircleMarker at 0x7f71d45609e8>,\n",
       " <folium.vector_layers.CircleMarker at 0x7f71d4560da0>,\n",
       " <folium.vector_layers.CircleMarker at 0x7f71d4560dd8>,\n",
       " <folium.vector_layers.CircleMarker at 0x7f71d4560320>,\n",
       " <folium.vector_layers.CircleMarker at 0x7f71d4560208>,\n",
       " <folium.vector_layers.CircleMarker at 0x7f71d4560828>,\n",
       " <folium.vector_layers.CircleMarker at 0x7f71d4560358>,\n",
       " <folium.vector_layers.CircleMarker at 0x7f71d4560860>,\n",
       " <folium.vector_layers.CircleMarker at 0x7f71d4560c18>,\n",
       " <folium.vector_layers.CircleMarker at 0x7f71d4560940>,\n",
       " <folium.vector_layers.CircleMarker at 0x7f71d45cf470>,\n",
       " <folium.vector_layers.CircleMarker at 0x7f71d45cfef0>,\n",
       " <folium.vector_layers.CircleMarker at 0x7f71d45cf3c8>,\n",
       " <folium.vector_layers.CircleMarker at 0x7f71d4574208>,\n",
       " <folium.vector_layers.CircleMarker at 0x7f71d45740f0>,\n",
       " <folium.vector_layers.CircleMarker at 0x7f71d4574390>,\n",
       " <folium.vector_layers.CircleMarker at 0x7f71d45743c8>,\n",
       " <folium.vector_layers.CircleMarker at 0x7f71d4574470>,\n",
       " <folium.vector_layers.CircleMarker at 0x7f71d4574518>,\n",
       " <folium.vector_layers.CircleMarker at 0x7f71d45745c0>,\n",
       " <folium.vector_layers.CircleMarker at 0x7f71d4574668>,\n",
       " <folium.vector_layers.CircleMarker at 0x7f71d45cfe10>,\n",
       " <folium.vector_layers.CircleMarker at 0x7f71d45bca58>,\n",
       " <folium.vector_layers.CircleMarker at 0x7f71d45cf978>,\n",
       " <folium.vector_layers.CircleMarker at 0x7f71d4560b70>,\n",
       " <folium.vector_layers.CircleMarker at 0x7f71d45604e0>,\n",
       " <folium.vector_layers.CircleMarker at 0x7f71d4560438>,\n",
       " <folium.vector_layers.CircleMarker at 0x7f71d45606d8>,\n",
       " <folium.vector_layers.CircleMarker at 0x7f71d4560e80>,\n",
       " <folium.vector_layers.CircleMarker at 0x7f71d4560d68>,\n",
       " <folium.vector_layers.CircleMarker at 0x7f71d4574630>,\n",
       " <folium.vector_layers.CircleMarker at 0x7f71d45744e0>,\n",
       " <folium.vector_layers.CircleMarker at 0x7f71d4574278>,\n",
       " <folium.vector_layers.CircleMarker at 0x7f71d4574358>,\n",
       " <folium.vector_layers.CircleMarker at 0x7f71d45740b8>,\n",
       " <folium.vector_layers.CircleMarker at 0x7f71d45745f8>,\n",
       " <folium.vector_layers.CircleMarker at 0x7f71d4574828>]"
      ]
     },
     "execution_count": 21,
     "metadata": {},
     "output_type": "execute_result"
    }
   ],
   "source": [
    "first_location = location(first_trip) # [40.64499, -73.78115]\n",
    "first_location # [40.64499, -73.78115]"
   ]
  },
  {
   "cell_type": "markdown",
   "metadata": {},
   "source": [
    "Ok, now that we can turn a trip into a location, let's turn a location into a marker.  Write a function called `to_marker` that takes in a location (in the form of a list) as an argument, and returns a folium `circleMarker` for that location.  The radius of the marker should always equal 6."
   ]
  },
  {
   "cell_type": "code",
   "execution_count": null,
   "metadata": {},
   "outputs": [],
   "source": [
    "def to_marker(location):\n",
    "    pass"
   ]
  },
  {
   "cell_type": "code",
   "execution_count": null,
   "metadata": {},
   "outputs": [],
   "source": [
    "import json\n",
    "times_square_marker = to_marker([40.7589, -73.9851])\n",
    "\n",
    "times_square_marker and times_square_marker.location # [40.7589, -73.9851]\n",
    "times_square_marker and json.loads(times_square_marker.options)['radius'] # 6"
   ]
  },
  {
   "cell_type": "markdown",
   "metadata": {},
   "source": [
    "Ok, now that we know how to produce a single marker, let's write a function to produce lots.  We can write a function called `markers_from_trips` that takes in a list of trips, and returns a marker object for each trip.  "
   ]
  },
  {
   "cell_type": "code",
   "execution_count": null,
   "metadata": {},
   "outputs": [],
   "source": [
    "def markers_from_trips(trips):\n",
    "    pass"
   ]
  },
  {
   "cell_type": "code",
   "execution_count": null,
   "metadata": {},
   "outputs": [],
   "source": [
    "trip_markers = markers_from_trips(cleaned_trips)"
   ]
  },
  {
   "cell_type": "code",
   "execution_count": null,
   "metadata": {},
   "outputs": [],
   "source": [
    "cleaned_trips[0:4]"
   ]
  },
  {
   "cell_type": "code",
   "execution_count": null,
   "metadata": {},
   "outputs": [],
   "source": [
    "trip_markers and len(trip_markers) # 1000\n",
    "\n",
    "list(map(lambda marker: marker.location, trip_markers[0:4]))\n",
    "# [[40.64499, -73.78115],\n",
    "#  [40.766931, -73.982098],\n",
    "#  [40.77773, -73.951902],\n",
    "#  [40.795678, -73.971049]]"
   ]
  },
  {
   "cell_type": "markdown",
   "metadata": {},
   "source": [
    "Ok, now that we have a function that creates locations, and a function that creates markers, it is time to write a function to plot a map. \n",
    "\n",
    "Write a function called `map_from` that, provided the first argument of a list location and second argument an integer representing the `zoom_start`, returns a `folium` map the corresponding location and `zoom_start` attributes.\n",
    "\n",
    "> Hint: The following is how to write a map with folium:\n",
    "> ```python \n",
    "    folium.Map(location=location, zoom_start=zoom_amount)\n",
    "> ```"
   ]
  },
  {
   "cell_type": "code",
   "execution_count": null,
   "metadata": {},
   "outputs": [],
   "source": [
    "def map_from(location, zoom_amount):\n",
    "    pass"
   ]
  },
  {
   "cell_type": "code",
   "execution_count": null,
   "metadata": {},
   "outputs": [],
   "source": [
    "times_square_map = map_from([40.7589, -73.9851], 15)\n",
    "times_square_map and times_square_map.location # [40.7589, -73.9851]\n",
    "times_square_map and times_square_map.zoom_start # 15"
   ]
  },
  {
   "cell_type": "code",
   "execution_count": null,
   "metadata": {
    "scrolled": true
   },
   "outputs": [],
   "source": [
    "times_square_marker and times_square_marker.add_to(times_square_map)\n",
    "times_square_map"
   ]
  },
  {
   "cell_type": "markdown",
   "metadata": {},
   "source": [
    "Now that we have a marker and a map, now let's write a function that adds a lot of markers to a map.  This function should add each marker in the list to the map object then return the updated map object."
   ]
  },
  {
   "cell_type": "code",
   "execution_count": null,
   "metadata": {},
   "outputs": [],
   "source": [
    "manhattan_map = map_from([40.7589, -73.9851], 13)"
   ]
  },
  {
   "cell_type": "code",
   "execution_count": null,
   "metadata": {},
   "outputs": [],
   "source": [
    "def add_markers(markers, map_obj):\n",
    "    pass"
   ]
  },
  {
   "cell_type": "code",
   "execution_count": null,
   "metadata": {
    "scrolled": false
   },
   "outputs": [],
   "source": [
    "map_with_markers = add_markers(trip_markers, manhattan_map)"
   ]
  },
  {
   "cell_type": "code",
   "execution_count": null,
   "metadata": {},
   "outputs": [],
   "source": [
    "map_with_markers"
   ]
  },
  {
   "cell_type": "markdown",
   "metadata": {},
   "source": [
    "### Using Nearest Neighbors"
   ]
  },
  {
   "cell_type": "markdown",
   "metadata": {},
   "source": [
    "Ok, let's write a function that given a latitude and longitude will predict the distance for us.  We'll do this by first finding the nearest trips given a latitude and longitude. "
   ]
  },
  {
   "cell_type": "markdown",
   "metadata": {},
   "source": [
    "Here we once again apply the nearest neighbors formula. As a first step, write a function named `distance_location` that calculates the distance in pickup location between two trips."
   ]
  },
  {
   "cell_type": "code",
   "execution_count": null,
   "metadata": {},
   "outputs": [],
   "source": [
    "import math\n",
    "\n",
    "def distance_location(selected_trip, neighbor_trip):\n",
    "    pass"
   ]
  },
  {
   "cell_type": "code",
   "execution_count": null,
   "metadata": {},
   "outputs": [],
   "source": [
    "first_trip = {'pickup_latitude': 40.64499, 'pickup_longitude': -73.78115, 'trip_distance': 18.38}\n",
    "second_trip = {'pickup_latitude': 40.766931, 'pickup_longitude': -73.982098, 'trip_distance': 1.3}\n",
    "distance_first_and_second = distance_location(first_trip, second_trip)\n",
    "\n",
    "distance_first_and_second and round(distance_first_and_second, 3) # 0.235"
   ]
  },
  {
   "cell_type": "markdown",
   "metadata": {},
   "source": [
    "Ok, next write a function called `distance_between_neighbors` that adds a new key-value pair, called `distance_from_selected`, that calculates the distance of the `neighbor_trip` from the `selected_trip`."
   ]
  },
  {
   "cell_type": "code",
   "execution_count": null,
   "metadata": {},
   "outputs": [],
   "source": [
    "def distance_between_neighbors(selected_trip, neighbor_trip):\n",
    "    pass"
   ]
  },
  {
   "cell_type": "code",
   "execution_count": null,
   "metadata": {},
   "outputs": [],
   "source": [
    "distance_between_neighbors(first_trip, second_trip)\n",
    "\n",
    "# {'distance_from_selected': 0.23505256047318146,\n",
    "#  'pickup_latitude': 40.766931,\n",
    "#  'pickup_longitude': -73.982098,\n",
    "#  'trip_distance': 1.3}"
   ]
  },
  {
   "cell_type": "markdown",
   "metadata": {},
   "source": [
    "Ok, now our `neighbor_trip` has another attribute called `distance_from_selected`, that indicates the distance from the `neighbor_trip`'s pickup location from the `selected_trip`."
   ]
  },
  {
   "cell_type": "markdown",
   "metadata": {},
   "source": [
    "> ** Understand the data:** Our dictionary now has a few attributes, two of which say distance.  Let's make sure we understand the difference. \n",
    "> * **`distance_from_selected`:** This is our calculation of the distance of the neighbor's pickup location from the selected trip.\n",
    "> * **`trip_distance`:** This is the attribute we were provided initially.  It tells us the length of the neighbor's taxi trip from pickup to drop-off.  "
   ]
  },
  {
   "cell_type": "markdown",
   "metadata": {},
   "source": [
    "Next, write a function called `distance_all` that provided a list of neighbors, returns each of those neighbors with their respective `distance_from_selected` numbers."
   ]
  },
  {
   "cell_type": "code",
   "execution_count": null,
   "metadata": {},
   "outputs": [],
   "source": [
    "def distance_all(selected_individual, neighbors):\n",
    "    pass"
   ]
  },
  {
   "cell_type": "code",
   "execution_count": null,
   "metadata": {},
   "outputs": [],
   "source": [
    "cleaned_trips and distance_all(first_trip, cleaned_trips[0:4])"
   ]
  },
  {
   "cell_type": "markdown",
   "metadata": {},
   "source": [
    "Now write the nearest neighbors formula to calculate the distance of the `selected_trip` from all of the `cleaned_trips` in our dataset.  If no number is provided, it should return the top 3 neighbors."
   ]
  },
  {
   "cell_type": "code",
   "execution_count": null,
   "metadata": {},
   "outputs": [],
   "source": [
    "def nearest_neighbors(selected_trip, trips, number = 3):\n",
    "    pass"
   ]
  },
  {
   "cell_type": "code",
   "execution_count": null,
   "metadata": {},
   "outputs": [],
   "source": [
    "new_trip = {'pickup_latitude': 40.64499,\n",
    "'pickup_longitude': -73.78115,\n",
    "'trip_distance': 18.38}\n",
    "\n",
    "nearest_three_neighbors = nearest_neighbors(new_trip, cleaned_trips or [], number = 3)\n",
    "nearest_three_neighbors\n",
    "# [{'distance_from_selected': 0.0004569288784918792,\n",
    "#   'pickup_latitude': 40.64483,\n",
    "#   'pickup_longitude': -73.781578,\n",
    "#   'trip_distance': 7.78},\n",
    "#  {'distance_from_selected': 0.0011292165425673159,\n",
    "#   'pickup_latitude': 40.644657,\n",
    "#   'pickup_longitude': -73.782229,\n",
    "#   'trip_distance': 12.7},\n",
    "#  {'distance_from_selected': 0.0042359798158141185,\n",
    "#   'pickup_latitude': 40.648509,\n",
    "#   'pickup_longitude': -73.783508,\n",
    "#   'trip_distance': 17.3}]"
   ]
  },
  {
   "cell_type": "markdown",
   "metadata": {},
   "source": [
    "Ok great! Now that we can provide a new trip location, and find the distances of the three nearest trips, we can take  calculate an estimate of the trip distance for that new trip location.  \n",
    "\n",
    "We do so simply by calculating the average of it's nearest neighbors."
   ]
  },
  {
   "cell_type": "code",
   "execution_count": null,
   "metadata": {},
   "outputs": [],
   "source": [
    "import statistics\n",
    "def mean_distance(neighbors):\n",
    "    nearest_distances = list(map(lambda neighbor: neighbor['trip_distance'], neighbors))\n",
    "    return round(statistics.mean(nearest_distances), 3)\n",
    "\n",
    "nearest_three_neighbors = nearest_neighbors(new_trip, cleaned_trips or [], number = 3)\n",
    "distance_estimate_of_selected_trip = mean_distance(nearest_three_neighbors) # 12.593\n",
    "distance_estimate_of_selected_trip"
   ]
  },
  {
   "cell_type": "markdown",
   "metadata": {},
   "source": [
    "### Choosing the correct number of neighbors"
   ]
  },
  {
   "cell_type": "markdown",
   "metadata": {},
   "source": [
    "Now, as we know from the last lesson, one tricky element is to determine how many neighbors to choose, our $k$ value,  before calculating the average.  We want to choose our value of $k$ such that it properly matches actual data, and so that it applies to new data.  There are fancy formulas to ensure that we **train** our algorithm so that our formula is optimized for all data, but here let's see different $k$ values manually.  This is the gist of choosing our $k$ value:\n",
    "\n",
    "* If we choose a $k$ value too low, our formula will be too heavily influenced by a single neighbor, whereas if our $k$ value is too high, we will be choosing so many neighbors that our nearest neighbors formula will not be adjust enough according to locations.\n",
    "\n",
    "Ok, let's experiment with this."
   ]
  },
  {
   "cell_type": "markdown",
   "metadata": {},
   "source": [
    "First, let's choose a midtown location, to see what the trip distance would be.  A Google search reveals the coordinates of 51st and 7th avenue to be the following."
   ]
  },
  {
   "cell_type": "code",
   "execution_count": null,
   "metadata": {},
   "outputs": [],
   "source": [
    "midtown_trip = dict(pickup_latitude=40.761710, pickup_longitude=-73.982760)"
   ]
  },
  {
   "cell_type": "code",
   "execution_count": null,
   "metadata": {},
   "outputs": [],
   "source": [
    "seven_closest = nearest_neighbors(midtown_trip, cleaned_trips, number = 7)\n",
    "seven_closest\n",
    "# [{'trip_distance': 0.58,\n",
    "#   'pickup_latitude': 40.761372,\n",
    "#   'pickup_longitude': -73.982602,\n",
    "#   'distance_from_selected': 0.00037310588309379025},\n",
    "#  {'trip_distance': 0.8,\n",
    "#   'pickup_latitude': 40.762444,\n",
    "#   'pickup_longitude': -73.98244,\n",
    "#   'distance_from_selected': 0.00080072217404248},\n",
    "#  {'trip_distance': 1.4,\n",
    "#   'pickup_latitude': 40.762767,\n",
    "#   'pickup_longitude': -73.982293,\n",
    "#   'distance_from_selected': 0.0011555682584735844},\n",
    "#  {'trip_distance': 8.3,\n",
    "#   'pickup_latitude': 40.762868,\n",
    "#   'pickup_longitude': -73.983233,\n",
    "#   'distance_from_selected': 0.0012508768924205918},\n",
    "#  {'trip_distance': 1.26,\n",
    "#   'pickup_latitude': 40.760057,\n",
    "#   'pickup_longitude': -73.983502,\n",
    "#   'distance_from_selected': 0.0018118976240381972},\n",
    "#  {'trip_distance': 0.0,\n",
    "#   'pickup_latitude': 40.760644,\n",
    "#   'pickup_longitude': -73.984531,\n",
    "#   'distance_from_selected': 0.002067074502774709},\n",
    "#  {'trip_distance': 1.72,\n",
    "#   'pickup_latitude': 40.762107,\n",
    "#   'pickup_longitude': -73.98479,\n",
    "#   'distance_from_selected': 0.0020684557041472677}]"
   ]
  },
  {
   "cell_type": "markdown",
   "metadata": {},
   "source": [
    "Looking at the `distance_from_selected` it appears that our our trips are still fairly close to our selected trip.  Notice that most of the data is within a distance of .002 away, so going to the top 7 nearest neighbors didn't seem to give us neighbors too far from each other, which is a good sign.\n",
    "\n",
    "Still, it's hard to know what distance in latitude and longitude really look like, so let's map the data. "
   ]
  },
  {
   "cell_type": "code",
   "execution_count": null,
   "metadata": {},
   "outputs": [],
   "source": [
    "midtown_location = location(midtown_trip) # [40.76171, -73.98276]\n",
    "midtown_map = map_from(midtown_location, 16)\n",
    "closest_markers = markers_from_trips(seven_closest)\n",
    "\n",
    "add_markers(closest_markers, midtown_map)"
   ]
  },
  {
   "cell_type": "markdown",
   "metadata": {},
   "source": [
    "Ok.  These locations stay fairly close to our estimated location of 51st street and 7th Avenue.  So they could be a good estimate of a trip distance."
   ]
  },
  {
   "cell_type": "code",
   "execution_count": null,
   "metadata": {},
   "outputs": [],
   "source": [
    "mean_distance(seven_closest) # 2.009"
   ]
  },
  {
   "cell_type": "markdown",
   "metadata": {},
   "source": [
    "Ok, now let's try a different location"
   ]
  },
  {
   "cell_type": "code",
   "execution_count": null,
   "metadata": {},
   "outputs": [],
   "source": [
    "charging_bull_closest = nearest_neighbors({'pickup_latitude': 40.7049, 'pickup_longitude': -74.0137}, cleaned_trips, number = 12)"
   ]
  },
  {
   "cell_type": "code",
   "execution_count": null,
   "metadata": {
    "scrolled": true
   },
   "outputs": [],
   "source": [
    "mean_distance(charging_bull_closest) # 3.145"
   ]
  },
  {
   "cell_type": "markdown",
   "metadata": {},
   "source": [
    "Ok, so there appears to be a significant difference between choosing a location near Times Square versus choosing a location at Wall Street."
   ]
  },
  {
   "cell_type": "markdown",
   "metadata": {},
   "source": [
    "### Summary"
   ]
  },
  {
   "cell_type": "markdown",
   "metadata": {},
   "source": [
    "In this lab, we used the nearest neighbors function to predict the length of a taxi ride.  To do so, we selected a location, then found a number of taxi rides closest to that location, and finally took the average trip lengths of the nearest taxi rides to find an estimate of the new ride's trip length.  You can see that even with just a little bit of math and programming we can begin to make meaningful predictions with data."
   ]
  }
 ],
 "metadata": {
  "kernelspec": {
   "display_name": "Python 3",
   "language": "python",
   "name": "python3"
  },
  "language_info": {
   "codemirror_mode": {
    "name": "ipython",
    "version": 3
   },
   "file_extension": ".py",
   "mimetype": "text/x-python",
   "name": "python",
   "nbconvert_exporter": "python",
   "pygments_lexer": "ipython3",
   "version": "3.6.4"
  }
 },
 "nbformat": 4,
 "nbformat_minor": 2
}
