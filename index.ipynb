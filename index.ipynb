{
 "cells": [
  {
   "cell_type": "markdown",
   "metadata": {},
   "source": [
    "# Nearest Neighbors Lab"
   ]
  },
  {
   "cell_type": "markdown",
   "metadata": {},
   "source": [
    "### Introduction\n",
    "\n",
    "In this lab, you apply nearest neighbors technique to help a taxi company predict the length of their rides.  Imagine that we are hired to consult for LiftOff, a limo and taxi service that is just opening up in NYC.  Liftoff wants it's taxi drivers to target longer rides, as the longer the ride the more money it makes.  LiftOff has the following theory:\n",
    "\n",
    "* the pickup location of a taxi ride can help predict the length of the ride.  \n",
    "\n",
    "\n",
    "\n",
    "LiftOff asks us to do some analysis to write a function that will allow it to **predict the length of a taxi ride for any given location **.\n",
    "\n",
    "Our technique will be the following:\n",
    "  * **Collect** Obtain the data containing all of the taxi information, and only select the attributes of taxi trips that we need \n",
    "  * ** Explore ** Examine the attributes of our data, and plot some of our data on a map\n",
    "  * ** Train ** Write our nearest neighbors formula, and change the number of nearby trips to predict the length of a new trip\n",
    "  * ** Predict ** Use our function to predict trip lengths of new locations"
   ]
  },
  {
   "cell_type": "markdown",
   "metadata": {},
   "source": [
    "### Collect and Explore the data"
   ]
  },
  {
   "cell_type": "markdown",
   "metadata": {},
   "source": [
    "#### Collect the Data"
   ]
  },
  {
   "cell_type": "markdown",
   "metadata": {},
   "source": [
    "Luckily for us, [NYC Open Data](https://opendata.cityofnewyork.us/) collects information about NYC taxi trips and provides this data on [its website](https://data.cityofnewyork.us/Transportation/2014-Yellow-Taxi-Trip-Data/gn7m-em8n)."
   ]
  },
  {
   "cell_type": "markdown",
   "metadata": {},
   "source": [
    "![](./nyc-taxi.png)"
   ]
  },
  {
   "cell_type": "markdown",
   "metadata": {},
   "source": [
    "For your reading pleasure, the data has already been downloaded into the [trips.json](https://github.com/learn-co-curriculum/nearest-neighbors-lab/blob/master/trips.json) file in this lab which you can find here.  We'll use Python's `json` library to take the data from the `trips.json` file and store it as a variable in our notebook."
   ]
  },
  {
   "cell_type": "code",
   "execution_count": 1,
   "metadata": {},
   "outputs": [],
   "source": [
    "import json\n",
    "# First, read the file\n",
    "trips_file = open('trips.json')\n",
    "# Then, convert contents to list of dictionaries \n",
    "trips = json.load(trips_file)"
   ]
  },
  {
   "cell_type": "markdown",
   "metadata": {},
   "source": [
    "> Press shift + enter"
   ]
  },
  {
   "cell_type": "markdown",
   "metadata": {},
   "source": [
    "#### Explore the data"
   ]
  },
  {
   "cell_type": "markdown",
   "metadata": {},
   "source": [
    "The next step is to explore the data.  First, let's see how many trips we have."
   ]
  },
  {
   "cell_type": "code",
   "execution_count": 2,
   "metadata": {},
   "outputs": [
    {
     "data": {
      "text/plain": [
       "1000"
      ]
     },
     "execution_count": 2,
     "metadata": {},
     "output_type": "execute_result"
    }
   ],
   "source": [
    "len(trips)"
   ]
  },
  {
   "cell_type": "markdown",
   "metadata": {},
   "source": [
    "Not bad at all.  Now let's see what each individual trip looks like.  Each trip is a dictionary, so we can see the attributes of each trip with the `keys` function."
   ]
  },
  {
   "cell_type": "code",
   "execution_count": 3,
   "metadata": {
    "scrolled": true
   },
   "outputs": [
    {
     "data": {
      "text/plain": [
       "dict_keys(['dropoff_datetime', 'dropoff_latitude', 'dropoff_longitude', 'fare_amount', 'imp_surcharge', 'mta_tax', 'passenger_count', 'payment_type', 'pickup_datetime', 'pickup_latitude', 'pickup_longitude', 'rate_code', 'tip_amount', 'tolls_amount', 'total_amount', 'trip_distance', 'vendor_id'])"
      ]
     },
     "execution_count": 3,
     "metadata": {},
     "output_type": "execute_result"
    }
   ],
   "source": [
    "trips[0].keys()"
   ]
  },
  {
   "cell_type": "markdown",
   "metadata": {},
   "source": [
    "#### Limit our data"
   ]
  },
  {
   "cell_type": "markdown",
   "metadata": {},
   "source": [
    "Ok, now that we have explored some of our data, let's begin to think through what data is relevant for our task."
   ]
  },
  {
   "cell_type": "markdown",
   "metadata": {
    "collapsed": true
   },
   "source": [
    "Remember that our task is to **use the trip location to predict the length of a trip**.  So let's select the `pickup_latitude`, `pickup_longitude`, and `trip_distance` from each trip.  That will give us the trip location and related `trip_distance` for each trip.  Then based on these **actual** trip distances we can use nearest neighbors to predict an **expected** trip distance for a trip, provided an **actual** location."
   ]
  },
  {
   "cell_type": "markdown",
   "metadata": {},
   "source": [
    "** Add in about trip distance ** "
   ]
  },
  {
   "cell_type": "markdown",
   "metadata": {},
   "source": [
    "Write a function called `parse_trips(trips)` that returns a list of the trips with only the following attributes: \n",
    "* `trip_distance`\n",
    "* `pickup_latitude`\n",
    "* `pickup_longitude`"
   ]
  },
  {
   "cell_type": "code",
   "execution_count": 4,
   "metadata": {},
   "outputs": [],
   "source": [
    "def parse_trips(trips):\n",
    "    return list(map(lambda trip: {'trip_distance':trip['trip_distance'], 'pickup_latitude':trip['pickup_latitude'], 'pickup_longitude': trip['pickup_longitude']}, trips))"
   ]
  },
  {
   "cell_type": "code",
   "execution_count": 5,
   "metadata": {},
   "outputs": [
    {
     "data": {
      "text/plain": [
       "{'trip_distance': '18.379999999999999',\n",
       " 'pickup_latitude': '40.64499',\n",
       " 'pickup_longitude': '-73.781149999999997'}"
      ]
     },
     "execution_count": 5,
     "metadata": {},
     "output_type": "execute_result"
    }
   ],
   "source": [
    "parsed_trips = parse_trips(trips)\n",
    "parsed_trips and parsed_trips[0]\n",
    "\n",
    "# {'pickup_latitude': '40.64499',\n",
    "#  'pickup_longitude': '-73.78115',\n",
    "#  'trip_distance': '18.38'}"
   ]
  },
  {
   "cell_type": "markdown",
   "metadata": {},
   "source": [
    "Now, there's just one change to make.  If you look at one of the trips, all of the values are strings.  Let's change them to be floats."
   ]
  },
  {
   "cell_type": "code",
   "execution_count": 6,
   "metadata": {},
   "outputs": [],
   "source": [
    "def float_values(trips):    \n",
    "    return list(map(lambda trip: {'trip_distance': float(trip['trip_distance']), 'pickup_latitude': float(trip['pickup_latitude']), 'pickup_longitude': float(trip['pickup_longitude'])}, trips))"
   ]
  },
  {
   "cell_type": "code",
   "execution_count": 7,
   "metadata": {},
   "outputs": [],
   "source": [
    "cleaned_trips = float_values(parsed_trips)"
   ]
  },
  {
   "cell_type": "code",
   "execution_count": 8,
   "metadata": {},
   "outputs": [
    {
     "data": {
      "text/plain": [
       "{'trip_distance': 18.38,\n",
       " 'pickup_latitude': 40.64499,\n",
       " 'pickup_longitude': -73.78115}"
      ]
     },
     "execution_count": 8,
     "metadata": {},
     "output_type": "execute_result"
    }
   ],
   "source": [
    "cleaned_trips[0]\n",
    "\n",
    "# {'pickup_latitude': 40.64499,\n",
    "#  'pickup_longitude': -73.78115,\n",
    "#  'trip_distance': 18.38}"
   ]
  },
  {
   "cell_type": "markdown",
   "metadata": {},
   "source": [
    "### Exploring the Data"
   ]
  },
  {
   "cell_type": "markdown",
   "metadata": {},
   "source": [
    "Now that we have paired down our data, let's get a sense of our trip data.  We can use the `folium` Python library to plot a map of Manhattan, and our data.  First we must import `folium`, and then use the `Map` function to pass through a `location`, and `zoom_start`.  If a map isn't showing up below, copy and paste the command `pip install -r requirements.txt` into your terminal to install `folium` then try again."
   ]
  },
  {
   "cell_type": "code",
   "execution_count": 9,
   "metadata": {},
   "outputs": [],
   "source": [
    "import folium\n",
    "manhattan_map = folium.Map(location=[40.7589, -73.9851], zoom_start=11)"
   ]
  },
  {
   "cell_type": "code",
   "execution_count": 10,
   "metadata": {
    "scrolled": true
   },
   "outputs": [
    {
     "data": {
      "text/html": [
       "<div style=\"width:100%;\"><div style=\"position:relative;width:100%;height:0;padding-bottom:60%;\"><iframe src=\"data:text/html;charset=utf-8;base64,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\" style=\"position:absolute;width:100%;height:100%;left:0;top:0;border:none !important;\" allowfullscreen webkitallowfullscreen mozallowfullscreen></iframe></div></div>"
      ],
      "text/plain": [
       "<folium.folium.Map at 0x7f71ecb1e9b0>"
      ]
     },
     "execution_count": 10,
     "metadata": {},
     "output_type": "execute_result"
    }
   ],
   "source": [
    "manhattan_map"
   ]
  },
  {
   "cell_type": "markdown",
   "metadata": {},
   "source": [
    "Ok, now let's see how we could add a dot to mark a specific location.  We'll start with Times Square."
   ]
  },
  {
   "cell_type": "code",
   "execution_count": 11,
   "metadata": {},
   "outputs": [
    {
     "data": {
      "text/plain": [
       "<folium.vector_layers.CircleMarker at 0x7f71d4820048>"
      ]
     },
     "execution_count": 11,
     "metadata": {},
     "output_type": "execute_result"
    }
   ],
   "source": [
    "marker = folium.CircleMarker(location = [40.7589, -73.9851], radius=10)\n",
    "marker.add_to(manhattan_map)"
   ]
  },
  {
   "cell_type": "markdown",
   "metadata": {},
   "source": [
    "Above, we first create a marker.  Then we add that circle marker to the `manhattan_map` we created earlier. "
   ]
  },
  {
   "cell_type": "code",
   "execution_count": 12,
   "metadata": {
    "scrolled": false
   },
   "outputs": [
    {
     "data": {
      "text/html": [
       "<div style=\"width:100%;\"><div style=\"position:relative;width:100%;height:0;padding-bottom:60%;\"><iframe src=\"data:text/html;charset=utf-8;base64,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\" style=\"position:absolute;width:100%;height:100%;left:0;top:0;border:none !important;\" allowfullscreen webkitallowfullscreen mozallowfullscreen></iframe></div></div>"
      ],
      "text/plain": [
       "<folium.folium.Map at 0x7f71ecb1e9b0>"
      ]
     },
     "execution_count": 12,
     "metadata": {},
     "output_type": "execute_result"
    }
   ],
   "source": [
    "manhattan_map"
   ]
  },
  {
   "cell_type": "markdown",
   "metadata": {},
   "source": [
    "Do you see that blue dot near Time's Square?  That is our marker.  \n",
    "\n",
    "So now that we can plot one marker on a map, we should have a sense of how we can plot many markers on a map to display our taxi ride data.  We simply plot a map, and then we add a marker for each location of a taxi trip.\n",
    "\n",
    "Now let's write some functions to allow us to plot maps and add markers a little more easily.  "
   ]
  },
  {
   "cell_type": "markdown",
   "metadata": {},
   "source": [
    "#### Writing some map plotting functions"
   ]
  },
  {
   "cell_type": "markdown",
   "metadata": {},
   "source": [
    "As a first step towards this, note that the functions to create both a marker and map each take in a location as two element list, representing the latitude and longitude values.  Take another look:\n",
    "\n",
    "```python\n",
    "marker = folium.CircleMarker(location = [40.7589, -73.9851])\n",
    "manhattan_map = folium.Map(location=[40.7589, -73.9851])\n",
    "```\n",
    "\n",
    "So let's write a function called to create this two element list from a trip.  Write a function called `location` that  takes in a trip as an argument and returns a list where the first element is the latitude and the second is the longitude.  Remember that a location looks like the following:"
   ]
  },
  {
   "cell_type": "code",
   "execution_count": 13,
   "metadata": {},
   "outputs": [
    {
     "data": {
      "text/plain": [
       "{'pickup_latitude': 40.64499,\n",
       " 'pickup_longitude': -73.78115,\n",
       " 'trip_distance': 18.38}"
      ]
     },
     "execution_count": 13,
     "metadata": {},
     "output_type": "execute_result"
    }
   ],
   "source": [
    "first_trip = {'pickup_latitude': 40.64499, 'pickup_longitude': -73.78115,  'trip_distance': 18.38}\n",
    "first_trip"
   ]
  },
  {
   "cell_type": "code",
   "execution_count": 18,
   "metadata": {},
   "outputs": [],
   "source": [
    "def location(trip):\n",
    "    return list(map(lambda trip: folium.CircleMarker(location =[(trip['pickup_latitude']),(trip['pickup_longitude'])]), cleaned_trips))"
   ]
  },
  {
   "cell_type": "code",
   "execution_count": 19,
   "metadata": {},
   "outputs": [
    {
     "data": {
      "text/plain": [
       "[<folium.vector_layers.CircleMarker at 0x7f71d475e128>,\n",
       " <folium.vector_layers.CircleMarker at 0x7f71d475e160>,\n",
       " <folium.vector_layers.CircleMarker at 0x7f71d475e240>,\n",
       " <folium.vector_layers.CircleMarker at 0x7f71d475e390>,\n",
       " <folium.vector_layers.CircleMarker at 0x7f71d475e470>,\n",
       " <folium.vector_layers.CircleMarker at 0x7f71d475e320>,\n",
       " <folium.vector_layers.CircleMarker at 0x7f71d475e2b0>,\n",
       " <folium.vector_layers.CircleMarker at 0x7f71d475e588>,\n",
       " <folium.vector_layers.CircleMarker at 0x7f71d475e630>,\n",
       " <folium.vector_layers.CircleMarker at 0x7f71d475e438>,\n",
       " <folium.vector_layers.CircleMarker at 0x7f71d475e6d8>,\n",
       " <folium.vector_layers.CircleMarker at 0x7f71d475e400>,\n",
       " <folium.vector_layers.CircleMarker at 0x7f71d475e7b8>,\n",
       " <folium.vector_layers.CircleMarker at 0x7f71d475e710>,\n",
       " <folium.vector_layers.CircleMarker at 0x7f71d475e908>,\n",
       " <folium.vector_layers.CircleMarker at 0x7f71d475e9b0>,\n",
       " <folium.vector_layers.CircleMarker at 0x7f71d475ea58>,\n",
       " <folium.vector_layers.CircleMarker at 0x7f71d475eb00>,\n",
       " <folium.vector_layers.CircleMarker at 0x7f71d475eba8>,\n",
       " <folium.vector_layers.CircleMarker at 0x7f71d475ec50>,\n",
       " <folium.vector_layers.CircleMarker at 0x7f71d475ecf8>,\n",
       " <folium.vector_layers.CircleMarker at 0x7f71d475eda0>,\n",
       " <folium.vector_layers.CircleMarker at 0x7f71d475ee48>,\n",
       " <folium.vector_layers.CircleMarker at 0x7f71d475eef0>,\n",
       " <folium.vector_layers.CircleMarker at 0x7f71d475ef98>,\n",
       " <folium.vector_layers.CircleMarker at 0x7f71d475ef28>,\n",
       " <folium.vector_layers.CircleMarker at 0x7f71d475ed30>,\n",
       " <folium.vector_layers.CircleMarker at 0x7f71d475ed68>,\n",
       " <folium.vector_layers.CircleMarker at 0x7f71d475ea90>,\n",
       " <folium.vector_layers.CircleMarker at 0x7f71d475eb70>,\n",
       " <folium.vector_layers.CircleMarker at 0x7f71d475e6a0>,\n",
       " <folium.vector_layers.CircleMarker at 0x7f71d475e978>,\n",
       " <folium.vector_layers.CircleMarker at 0x7f71d475e860>,\n",
       " <folium.vector_layers.CircleMarker at 0x7f71d475e208>,\n",
       " <folium.vector_layers.CircleMarker at 0x7f71d475e4e0>,\n",
       " <folium.vector_layers.CircleMarker at 0x7f71d475e5f8>,\n",
       " <folium.vector_layers.CircleMarker at 0x7f71d475e198>,\n",
       " <folium.vector_layers.CircleMarker at 0x7f71d475e278>,\n",
       " <folium.vector_layers.CircleMarker at 0x7f71d475e518>,\n",
       " <folium.vector_layers.CircleMarker at 0x7f71d475f128>,\n",
       " <folium.vector_layers.CircleMarker at 0x7f71d475f208>,\n",
       " <folium.vector_layers.CircleMarker at 0x7f71d475f2b0>,\n",
       " <folium.vector_layers.CircleMarker at 0x7f71d475f358>,\n",
       " <folium.vector_layers.CircleMarker at 0x7f71d475f400>,\n",
       " <folium.vector_layers.CircleMarker at 0x7f71d475f4a8>,\n",
       " <folium.vector_layers.CircleMarker at 0x7f71d475f550>,\n",
       " <folium.vector_layers.CircleMarker at 0x7f71d475f5f8>,\n",
       " <folium.vector_layers.CircleMarker at 0x7f71d475ebe0>,\n",
       " <folium.vector_layers.CircleMarker at 0x7f71d475e5c0>,\n",
       " <folium.vector_layers.CircleMarker at 0x7f71d475ea20>,\n",
       " <folium.vector_layers.CircleMarker at 0x7f71d475e8d0>,\n",
       " <folium.vector_layers.CircleMarker at 0x7f71d475eb38>,\n",
       " <folium.vector_layers.CircleMarker at 0x7f71d475e9e8>,\n",
       " <folium.vector_layers.CircleMarker at 0x7f71d475ee10>,\n",
       " <folium.vector_layers.CircleMarker at 0x7f71d475efd0>,\n",
       " <folium.vector_layers.CircleMarker at 0x7f71d475edd8>,\n",
       " <folium.vector_layers.CircleMarker at 0x7f71d475f2e8>,\n",
       " <folium.vector_layers.CircleMarker at 0x7f71d475f160>,\n",
       " <folium.vector_layers.CircleMarker at 0x7f71d475f278>,\n",
       " <folium.vector_layers.CircleMarker at 0x7f71d475f0b8>,\n",
       " <folium.vector_layers.CircleMarker at 0x7f71d475f6a0>,\n",
       " <folium.vector_layers.CircleMarker at 0x7f71d475f588>,\n",
       " <folium.vector_layers.CircleMarker at 0x7f71d475f7b8>,\n",
       " <folium.vector_layers.CircleMarker at 0x7f71d475f7f0>,\n",
       " <folium.vector_layers.CircleMarker at 0x7f71d475f898>,\n",
       " <folium.vector_layers.CircleMarker at 0x7f71d475f940>,\n",
       " <folium.vector_layers.CircleMarker at 0x7f71d475f9e8>,\n",
       " <folium.vector_layers.CircleMarker at 0x7f71d475fa90>,\n",
       " <folium.vector_layers.CircleMarker at 0x7f71d475fb38>,\n",
       " <folium.vector_layers.CircleMarker at 0x7f71d475e748>,\n",
       " <folium.vector_layers.CircleMarker at 0x7f71d475ecc0>,\n",
       " <folium.vector_layers.CircleMarker at 0x7f71d475e080>,\n",
       " <folium.vector_layers.CircleMarker at 0x7f71d475e358>,\n",
       " <folium.vector_layers.CircleMarker at 0x7f71d475e940>,\n",
       " <folium.vector_layers.CircleMarker at 0x7f71d475f978>,\n",
       " <folium.vector_layers.CircleMarker at 0x7f71d475f9b0>,\n",
       " <folium.vector_layers.CircleMarker at 0x7f71d475f860>,\n",
       " <folium.vector_layers.CircleMarker at 0x7f71d475f048>,\n",
       " <folium.vector_layers.CircleMarker at 0x7f71d475f6d8>,\n",
       " <folium.vector_layers.CircleMarker at 0x7f71d475f470>,\n",
       " <folium.vector_layers.CircleMarker at 0x7f71d475f0f0>,\n",
       " <folium.vector_layers.CircleMarker at 0x7f71d475f390>,\n",
       " <folium.vector_layers.CircleMarker at 0x7f71d475fbe0>,\n",
       " <folium.vector_layers.CircleMarker at 0x7f71d475fac8>,\n",
       " <folium.vector_layers.CircleMarker at 0x7f71d475fcf8>,\n",
       " <folium.vector_layers.CircleMarker at 0x7f71d475fd30>,\n",
       " <folium.vector_layers.CircleMarker at 0x7f71d475fdd8>,\n",
       " <folium.vector_layers.CircleMarker at 0x7f71d475fe80>,\n",
       " <folium.vector_layers.CircleMarker at 0x7f71d475ff28>,\n",
       " <folium.vector_layers.CircleMarker at 0x7f71d475ffd0>,\n",
       " <folium.vector_layers.CircleMarker at 0x7f71d475feb8>,\n",
       " <folium.vector_layers.CircleMarker at 0x7f71d475fb70>,\n",
       " <folium.vector_layers.CircleMarker at 0x7f71d475fc50>,\n",
       " <folium.vector_layers.CircleMarker at 0x7f71d475fcc0>,\n",
       " <folium.vector_layers.CircleMarker at 0x7f71d475f198>,\n",
       " <folium.vector_layers.CircleMarker at 0x7f71d475f240>,\n",
       " <folium.vector_layers.CircleMarker at 0x7f71d475f710>,\n",
       " <folium.vector_layers.CircleMarker at 0x7f71d475f1d0>,\n",
       " <folium.vector_layers.CircleMarker at 0x7f71d475f748>,\n",
       " <folium.vector_layers.CircleMarker at 0x7f71d475fb00>,\n",
       " <folium.vector_layers.CircleMarker at 0x7f71d475f908>,\n",
       " <folium.vector_layers.CircleMarker at 0x7f71d475e550>,\n",
       " <folium.vector_layers.CircleMarker at 0x7f71d475eeb8>,\n",
       " <folium.vector_layers.CircleMarker at 0x7f71d475ec88>,\n",
       " <folium.vector_layers.CircleMarker at 0x7f71d475ef60>,\n",
       " <folium.vector_layers.CircleMarker at 0x7f71d4785128>,\n",
       " <folium.vector_layers.CircleMarker at 0x7f71d4785208>,\n",
       " <folium.vector_layers.CircleMarker at 0x7f71d47852b0>,\n",
       " <folium.vector_layers.CircleMarker at 0x7f71d4785358>,\n",
       " <folium.vector_layers.CircleMarker at 0x7f71d4785400>,\n",
       " <folium.vector_layers.CircleMarker at 0x7f71d47854a8>,\n",
       " <folium.vector_layers.CircleMarker at 0x7f71d4785550>,\n",
       " <folium.vector_layers.CircleMarker at 0x7f71d475e2e8>,\n",
       " <folium.vector_layers.CircleMarker at 0x7f71d475e780>,\n",
       " <folium.vector_layers.CircleMarker at 0x7f71d475fba8>,\n",
       " <folium.vector_layers.CircleMarker at 0x7f71d475f780>,\n",
       " <folium.vector_layers.CircleMarker at 0x7f71d475f3c8>,\n",
       " <folium.vector_layers.CircleMarker at 0x7f71d475f320>,\n",
       " <folium.vector_layers.CircleMarker at 0x7f71d475fc88>,\n",
       " <folium.vector_layers.CircleMarker at 0x7f71d475fef0>,\n",
       " <folium.vector_layers.CircleMarker at 0x7f71d475fe10>,\n",
       " <folium.vector_layers.CircleMarker at 0x7f71d4785390>,\n",
       " <folium.vector_layers.CircleMarker at 0x7f71d47853c8>,\n",
       " <folium.vector_layers.CircleMarker at 0x7f71d4785278>,\n",
       " <folium.vector_layers.CircleMarker at 0x7f71d47850b8>,\n",
       " <folium.vector_layers.CircleMarker at 0x7f71d47855f8>,\n",
       " <folium.vector_layers.CircleMarker at 0x7f71d47854e0>,\n",
       " <folium.vector_layers.CircleMarker at 0x7f71d4785710>,\n",
       " <folium.vector_layers.CircleMarker at 0x7f71d4785748>,\n",
       " <folium.vector_layers.CircleMarker at 0x7f71d47857f0>,\n",
       " <folium.vector_layers.CircleMarker at 0x7f71d4785898>,\n",
       " <folium.vector_layers.CircleMarker at 0x7f71d4785940>,\n",
       " <folium.vector_layers.CircleMarker at 0x7f71d47859e8>,\n",
       " <folium.vector_layers.CircleMarker at 0x7f71d4785a90>,\n",
       " <folium.vector_layers.CircleMarker at 0x7f71d475f828>,\n",
       " <folium.vector_layers.CircleMarker at 0x7f71d475fda0>,\n",
       " <folium.vector_layers.CircleMarker at 0x7f71d475f630>,\n",
       " <folium.vector_layers.CircleMarker at 0x7f71d475eac8>,\n",
       " <folium.vector_layers.CircleMarker at 0x7f71d475e668>,\n",
       " <folium.vector_layers.CircleMarker at 0x7f71d475f080>,\n",
       " <folium.vector_layers.CircleMarker at 0x7f71d47859b0>,\n",
       " <folium.vector_layers.CircleMarker at 0x7f71d4785860>,\n",
       " <folium.vector_layers.CircleMarker at 0x7f71d4785668>,\n",
       " <folium.vector_layers.CircleMarker at 0x7f71d47856d8>,\n",
       " <folium.vector_layers.CircleMarker at 0x7f71d4785160>,\n",
       " <folium.vector_layers.CircleMarker at 0x7f71d4785198>,\n",
       " <folium.vector_layers.CircleMarker at 0x7f71d4785470>,\n",
       " <folium.vector_layers.CircleMarker at 0x7f71d4785b38>,\n",
       " <folium.vector_layers.CircleMarker at 0x7f71d4785a20>,\n",
       " <folium.vector_layers.CircleMarker at 0x7f71d4785c50>,\n",
       " <folium.vector_layers.CircleMarker at 0x7f71d4785c88>,\n",
       " <folium.vector_layers.CircleMarker at 0x7f71d4785d30>,\n",
       " <folium.vector_layers.CircleMarker at 0x7f71d4785dd8>,\n",
       " <folium.vector_layers.CircleMarker at 0x7f71d4785e80>,\n",
       " <folium.vector_layers.CircleMarker at 0x7f71d4785f28>,\n",
       " <folium.vector_layers.CircleMarker at 0x7f71d4785fd0>,\n",
       " <folium.vector_layers.CircleMarker at 0x7f71d475fa20>,\n",
       " <folium.vector_layers.CircleMarker at 0x7f71d475fa58>,\n",
       " <folium.vector_layers.CircleMarker at 0x7f71d475ff60>,\n",
       " <folium.vector_layers.CircleMarker at 0x7f71d475fc18>,\n",
       " <folium.vector_layers.CircleMarker at 0x7f71d475e828>,\n",
       " <folium.vector_layers.CircleMarker at 0x7f71d475ee80>,\n",
       " <folium.vector_layers.CircleMarker at 0x7f71d475e898>,\n",
       " <folium.vector_layers.CircleMarker at 0x7f71d4785ef0>,\n",
       " <folium.vector_layers.CircleMarker at 0x7f71d4785da0>,\n",
       " <folium.vector_layers.CircleMarker at 0x7f71d4785ba8>,\n",
       " <folium.vector_layers.CircleMarker at 0x7f71d4785c18>,\n",
       " <folium.vector_layers.CircleMarker at 0x7f71d4785438>,\n",
       " <folium.vector_layers.CircleMarker at 0x7f71d4785320>,\n",
       " <folium.vector_layers.CircleMarker at 0x7f71d47856a0>,\n",
       " <folium.vector_layers.CircleMarker at 0x7f71d4785048>,\n",
       " <folium.vector_layers.CircleMarker at 0x7f71d4785588>,\n",
       " <folium.vector_layers.CircleMarker at 0x7f71d4785b00>,\n",
       " <folium.vector_layers.CircleMarker at 0x7f71d4785eb8>,\n",
       " <folium.vector_layers.CircleMarker at 0x7f71d4785908>,\n",
       " <folium.vector_layers.CircleMarker at 0x7f71d471a0f0>,\n",
       " <folium.vector_layers.CircleMarker at 0x7f71d471a208>,\n",
       " <folium.vector_layers.CircleMarker at 0x7f71d471a2b0>,\n",
       " <folium.vector_layers.CircleMarker at 0x7f71d475ec18>,\n",
       " <folium.vector_layers.CircleMarker at 0x7f71d475e1d0>,\n",
       " <folium.vector_layers.CircleMarker at 0x7f71d4785f60>,\n",
       " <folium.vector_layers.CircleMarker at 0x7f71d4785978>,\n",
       " <folium.vector_layers.CircleMarker at 0x7f71d4785240>,\n",
       " <folium.vector_layers.CircleMarker at 0x7f71d4785be0>,\n",
       " <folium.vector_layers.CircleMarker at 0x7f71d4785518>,\n",
       " <folium.vector_layers.CircleMarker at 0x7f71d4785ac8>,\n",
       " <folium.vector_layers.CircleMarker at 0x7f71d47858d0>,\n",
       " <folium.vector_layers.CircleMarker at 0x7f71d4785d68>,\n",
       " <folium.vector_layers.CircleMarker at 0x7f71d475fe48>,\n",
       " <folium.vector_layers.CircleMarker at 0x7f71d475f5c0>,\n",
       " <folium.vector_layers.CircleMarker at 0x7f71d475f668>,\n",
       " <folium.vector_layers.CircleMarker at 0x7f71d471a080>,\n",
       " <folium.vector_layers.CircleMarker at 0x7f71d471a3c8>,\n",
       " <folium.vector_layers.CircleMarker at 0x7f71d471a400>,\n",
       " <folium.vector_layers.CircleMarker at 0x7f71d471a2e8>,\n",
       " <folium.vector_layers.CircleMarker at 0x7f71d471a4e0>,\n",
       " <folium.vector_layers.CircleMarker at 0x7f71d471a588>,\n",
       " <folium.vector_layers.CircleMarker at 0x7f71d471a630>,\n",
       " <folium.vector_layers.CircleMarker at 0x7f71d471a6d8>,\n",
       " <folium.vector_layers.CircleMarker at 0x7f71d471a780>,\n",
       " <folium.vector_layers.CircleMarker at 0x7f71d475fd68>,\n",
       " <folium.vector_layers.CircleMarker at 0x7f71d475f8d0>,\n",
       " <folium.vector_layers.CircleMarker at 0x7f71d4785b70>,\n",
       " <folium.vector_layers.CircleMarker at 0x7f71d4785cc0>,\n",
       " <folium.vector_layers.CircleMarker at 0x7f71d475e7f0>,\n",
       " <folium.vector_layers.CircleMarker at 0x7f71d47857b8>,\n",
       " <folium.vector_layers.CircleMarker at 0x7f71d4785e10>,\n",
       " <folium.vector_layers.CircleMarker at 0x7f71d4785080>,\n",
       " <folium.vector_layers.CircleMarker at 0x7f71d471a6a0>,\n",
       " <folium.vector_layers.CircleMarker at 0x7f71d471a550>,\n",
       " <folium.vector_layers.CircleMarker at 0x7f71d471a048>,\n",
       " <folium.vector_layers.CircleMarker at 0x7f71d471a240>,\n",
       " <folium.vector_layers.CircleMarker at 0x7f71d471a1d0>,\n",
       " <folium.vector_layers.CircleMarker at 0x7f71d471a828>,\n",
       " <folium.vector_layers.CircleMarker at 0x7f71d471a710>,\n",
       " <folium.vector_layers.CircleMarker at 0x7f71d471a940>,\n",
       " <folium.vector_layers.CircleMarker at 0x7f71d471a978>,\n",
       " <folium.vector_layers.CircleMarker at 0x7f71d471aa20>,\n",
       " <folium.vector_layers.CircleMarker at 0x7f71d471aac8>,\n",
       " <folium.vector_layers.CircleMarker at 0x7f71d471ab70>,\n",
       " <folium.vector_layers.CircleMarker at 0x7f71d471ac18>,\n",
       " <folium.vector_layers.CircleMarker at 0x7f71d471acc0>,\n",
       " <folium.vector_layers.CircleMarker at 0x7f71d4785a58>,\n",
       " <folium.vector_layers.CircleMarker at 0x7f71d47852e8>,\n",
       " <folium.vector_layers.CircleMarker at 0x7f71d475f438>,\n",
       " <folium.vector_layers.CircleMarker at 0x7f71d4785cf8>,\n",
       " <folium.vector_layers.CircleMarker at 0x7f71d4785e48>,\n",
       " <folium.vector_layers.CircleMarker at 0x7f71d471abe0>,\n",
       " <folium.vector_layers.CircleMarker at 0x7f71d471aa90>,\n",
       " <folium.vector_layers.CircleMarker at 0x7f71d471a898>,\n",
       " <folium.vector_layers.CircleMarker at 0x7f71d471a908>,\n",
       " <folium.vector_layers.CircleMarker at 0x7f71d471a470>,\n",
       " <folium.vector_layers.CircleMarker at 0x7f71d471a160>,\n",
       " <folium.vector_layers.CircleMarker at 0x7f71d471a518>,\n",
       " <folium.vector_layers.CircleMarker at 0x7f71d471a5f8>,\n",
       " <folium.vector_layers.CircleMarker at 0x7f71d471ad68>,\n",
       " <folium.vector_layers.CircleMarker at 0x7f71d471ac50>,\n",
       " <folium.vector_layers.CircleMarker at 0x7f71d471ae80>,\n",
       " <folium.vector_layers.CircleMarker at 0x7f71d471aeb8>,\n",
       " <folium.vector_layers.CircleMarker at 0x7f71d471af60>,\n",
       " <folium.vector_layers.CircleMarker at 0x7f71d471aef0>,\n",
       " <folium.vector_layers.CircleMarker at 0x7f71d472d048>,\n",
       " <folium.vector_layers.CircleMarker at 0x7f71d472d128>,\n",
       " <folium.vector_layers.CircleMarker at 0x7f71d475ff98>,\n",
       " <folium.vector_layers.CircleMarker at 0x7f71d47850f0>,\n",
       " <folium.vector_layers.CircleMarker at 0x7f71d4785f98>,\n",
       " <folium.vector_layers.CircleMarker at 0x7f71d471af98>,\n",
       " <folium.vector_layers.CircleMarker at 0x7f71d471af28>,\n",
       " <folium.vector_layers.CircleMarker at 0x7f71d471ae48>,\n",
       " <folium.vector_layers.CircleMarker at 0x7f71d471a128>,\n",
       " <folium.vector_layers.CircleMarker at 0x7f71d471a438>,\n",
       " <folium.vector_layers.CircleMarker at 0x7f71d471a278>,\n",
       " <folium.vector_layers.CircleMarker at 0x7f71d471a860>,\n",
       " <folium.vector_layers.CircleMarker at 0x7f71d475e4a8>,\n",
       " <folium.vector_layers.CircleMarker at 0x7f71d471a390>,\n",
       " <folium.vector_layers.CircleMarker at 0x7f71d471a9b0>,\n",
       " <folium.vector_layers.CircleMarker at 0x7f71d471a9e8>,\n",
       " <folium.vector_layers.CircleMarker at 0x7f71d472d278>,\n",
       " <folium.vector_layers.CircleMarker at 0x7f71d472d358>,\n",
       " <folium.vector_layers.CircleMarker at 0x7f71d472d390>,\n",
       " <folium.vector_layers.CircleMarker at 0x7f71d472d438>,\n",
       " <folium.vector_layers.CircleMarker at 0x7f71d472d4e0>,\n",
       " <folium.vector_layers.CircleMarker at 0x7f71d472d588>,\n",
       " <folium.vector_layers.CircleMarker at 0x7f71d472d630>,\n",
       " <folium.vector_layers.CircleMarker at 0x7f71d472d6d8>,\n",
       " <folium.vector_layers.CircleMarker at 0x7f71d471acf8>,\n",
       " <folium.vector_layers.CircleMarker at 0x7f71d471aa58>,\n",
       " <folium.vector_layers.CircleMarker at 0x7f71d471a4a8>,\n",
       " <folium.vector_layers.CircleMarker at 0x7f71d471a668>,\n",
       " <folium.vector_layers.CircleMarker at 0x7f71d471a748>,\n",
       " <folium.vector_layers.CircleMarker at 0x7f71d475f4e0>,\n",
       " <folium.vector_layers.CircleMarker at 0x7f71d471a5c0>,\n",
       " <folium.vector_layers.CircleMarker at 0x7f71d47855c0>,\n",
       " <folium.vector_layers.CircleMarker at 0x7f71d4785780>,\n",
       " <folium.vector_layers.CircleMarker at 0x7f71d472d3c8>,\n",
       " <folium.vector_layers.CircleMarker at 0x7f71d472d0f0>,\n",
       " <folium.vector_layers.CircleMarker at 0x7f71d472d160>,\n",
       " <folium.vector_layers.CircleMarker at 0x7f71d472d0b8>,\n",
       " <folium.vector_layers.CircleMarker at 0x7f71d472d780>,\n",
       " <folium.vector_layers.CircleMarker at 0x7f71d472d668>,\n",
       " <folium.vector_layers.CircleMarker at 0x7f71d472d898>,\n",
       " <folium.vector_layers.CircleMarker at 0x7f71d472d8d0>,\n",
       " <folium.vector_layers.CircleMarker at 0x7f71d472d978>,\n",
       " <folium.vector_layers.CircleMarker at 0x7f71d472da20>,\n",
       " <folium.vector_layers.CircleMarker at 0x7f71d472dac8>,\n",
       " <folium.vector_layers.CircleMarker at 0x7f71d472db70>,\n",
       " <folium.vector_layers.CircleMarker at 0x7f71d472dc18>,\n",
       " <folium.vector_layers.CircleMarker at 0x7f71d4785630>,\n",
       " <folium.vector_layers.CircleMarker at 0x7f71d471ab00>,\n",
       " <folium.vector_layers.CircleMarker at 0x7f71d471ab38>,\n",
       " <folium.vector_layers.CircleMarker at 0x7f71d471a0b8>,\n",
       " <folium.vector_layers.CircleMarker at 0x7f71d471add8>,\n",
       " <folium.vector_layers.CircleMarker at 0x7f71d472da58>,\n",
       " <folium.vector_layers.CircleMarker at 0x7f71d472da90>,\n",
       " <folium.vector_layers.CircleMarker at 0x7f71d472d940>,\n",
       " <folium.vector_layers.CircleMarker at 0x7f71d472d240>,\n",
       " <folium.vector_layers.CircleMarker at 0x7f71d472d7b8>,\n",
       " <folium.vector_layers.CircleMarker at 0x7f71d472d550>,\n",
       " <folium.vector_layers.CircleMarker at 0x7f71d472d080>,\n",
       " <folium.vector_layers.CircleMarker at 0x7f71d472d470>,\n",
       " <folium.vector_layers.CircleMarker at 0x7f71d472dcc0>,\n",
       " <folium.vector_layers.CircleMarker at 0x7f71d472dba8>,\n",
       " <folium.vector_layers.CircleMarker at 0x7f71d472ddd8>,\n",
       " <folium.vector_layers.CircleMarker at 0x7f71d472de10>,\n",
       " <folium.vector_layers.CircleMarker at 0x7f71d472deb8>,\n",
       " <folium.vector_layers.CircleMarker at 0x7f71d472df60>,\n",
       " <folium.vector_layers.CircleMarker at 0x7f71d472def0>,\n",
       " <folium.vector_layers.CircleMarker at 0x7f71d4740048>,\n",
       " <folium.vector_layers.CircleMarker at 0x7f71d4740160>,\n",
       " <folium.vector_layers.CircleMarker at 0x7f71d472d9b0>,\n",
       " <folium.vector_layers.CircleMarker at 0x7f71d472df28>,\n",
       " <folium.vector_layers.CircleMarker at 0x7f71d472d518>,\n",
       " <folium.vector_layers.CircleMarker at 0x7f71d472dcf8>,\n",
       " <folium.vector_layers.CircleMarker at 0x7f71d472d400>,\n",
       " <folium.vector_layers.CircleMarker at 0x7f71d472d5f8>,\n",
       " <folium.vector_layers.CircleMarker at 0x7f71d472d710>,\n",
       " <folium.vector_layers.CircleMarker at 0x7f71d472d2b0>,\n",
       " <folium.vector_layers.CircleMarker at 0x7f71d472db38>,\n",
       " <folium.vector_layers.CircleMarker at 0x7f71d472d828>,\n",
       " <folium.vector_layers.CircleMarker at 0x7f71d471ada0>,\n",
       " <folium.vector_layers.CircleMarker at 0x7f71d471a358>,\n",
       " <folium.vector_layers.CircleMarker at 0x7f71d471aba8>,\n",
       " <folium.vector_layers.CircleMarker at 0x7f71d47400f0>,\n",
       " <folium.vector_layers.CircleMarker at 0x7f71d4740278>,\n",
       " <folium.vector_layers.CircleMarker at 0x7f71d4740358>,\n",
       " <folium.vector_layers.CircleMarker at 0x7f71d4740390>,\n",
       " <folium.vector_layers.CircleMarker at 0x7f71d4740438>,\n",
       " <folium.vector_layers.CircleMarker at 0x7f71d47404e0>,\n",
       " <folium.vector_layers.CircleMarker at 0x7f71d4740588>,\n",
       " <folium.vector_layers.CircleMarker at 0x7f71d4740630>,\n",
       " <folium.vector_layers.CircleMarker at 0x7f71d47406d8>,\n",
       " <folium.vector_layers.CircleMarker at 0x7f71d4785828>,\n",
       " <folium.vector_layers.CircleMarker at 0x7f71d471ae10>,\n",
       " <folium.vector_layers.CircleMarker at 0x7f71d472dbe0>,\n",
       " <folium.vector_layers.CircleMarker at 0x7f71d472d198>,\n",
       " <folium.vector_layers.CircleMarker at 0x7f71d472dda0>,\n",
       " <folium.vector_layers.CircleMarker at 0x7f71d472db00>,\n",
       " <folium.vector_layers.CircleMarker at 0x7f71d472dd30>,\n",
       " <folium.vector_layers.CircleMarker at 0x7f71d472de48>,\n",
       " <folium.vector_layers.CircleMarker at 0x7f71d472dfd0>,\n",
       " <folium.vector_layers.CircleMarker at 0x7f71d47403c8>,\n",
       " <folium.vector_layers.CircleMarker at 0x7f71d4740128>,\n",
       " <folium.vector_layers.CircleMarker at 0x7f71d47400b8>,\n",
       " <folium.vector_layers.CircleMarker at 0x7f71d4740240>,\n",
       " <folium.vector_layers.CircleMarker at 0x7f71d4740780>,\n",
       " <folium.vector_layers.CircleMarker at 0x7f71d4740668>,\n",
       " <folium.vector_layers.CircleMarker at 0x7f71d4740898>,\n",
       " <folium.vector_layers.CircleMarker at 0x7f71d47408d0>,\n",
       " <folium.vector_layers.CircleMarker at 0x7f71d4740978>,\n",
       " <folium.vector_layers.CircleMarker at 0x7f71d4740a20>,\n",
       " <folium.vector_layers.CircleMarker at 0x7f71d4740ac8>,\n",
       " <folium.vector_layers.CircleMarker at 0x7f71d4740b70>,\n",
       " <folium.vector_layers.CircleMarker at 0x7f71d4740c18>,\n",
       " <folium.vector_layers.CircleMarker at 0x7f71d472d860>,\n",
       " <folium.vector_layers.CircleMarker at 0x7f71d472d9e8>,\n",
       " <folium.vector_layers.CircleMarker at 0x7f71d472d6a0>,\n",
       " <folium.vector_layers.CircleMarker at 0x7f71d472d908>,\n",
       " <folium.vector_layers.CircleMarker at 0x7f71d471afd0>,\n",
       " <folium.vector_layers.CircleMarker at 0x7f71d4740a58>,\n",
       " <folium.vector_layers.CircleMarker at 0x7f71d4740a90>,\n",
       " <folium.vector_layers.CircleMarker at 0x7f71d4740940>,\n",
       " <folium.vector_layers.CircleMarker at 0x7f71d4740080>,\n",
       " <folium.vector_layers.CircleMarker at 0x7f71d47407b8>,\n",
       " <folium.vector_layers.CircleMarker at 0x7f71d4740550>,\n",
       " <folium.vector_layers.CircleMarker at 0x7f71d47402b0>,\n",
       " <folium.vector_layers.CircleMarker at 0x7f71d4740470>,\n",
       " <folium.vector_layers.CircleMarker at 0x7f71d4740c88>,\n",
       " <folium.vector_layers.CircleMarker at 0x7f71d4740d30>,\n",
       " <folium.vector_layers.CircleMarker at 0x7f71d4740d68>,\n",
       " <folium.vector_layers.CircleMarker at 0x7f71d4740c50>,\n",
       " <folium.vector_layers.CircleMarker at 0x7f71d4740e48>,\n",
       " <folium.vector_layers.CircleMarker at 0x7f71d4740ef0>,\n",
       " <folium.vector_layers.CircleMarker at 0x7f71d4740f98>,\n",
       " <folium.vector_layers.CircleMarker at 0x7f71d4740f28>,\n",
       " <folium.vector_layers.CircleMarker at 0x7f71d47409b0>,\n",
       " <folium.vector_layers.CircleMarker at 0x7f71d4740da0>,\n",
       " <folium.vector_layers.CircleMarker at 0x7f71d4740dd8>,\n",
       " <folium.vector_layers.CircleMarker at 0x7f71d47404a8>,\n",
       " <folium.vector_layers.CircleMarker at 0x7f71d4740748>,\n",
       " <folium.vector_layers.CircleMarker at 0x7f71d4740860>,\n",
       " <folium.vector_layers.CircleMarker at 0x7f71d47405c0>,\n",
       " <folium.vector_layers.CircleMarker at 0x7f71d4740908>,\n",
       " <folium.vector_layers.CircleMarker at 0x7f71d47409e8>,\n",
       " <folium.vector_layers.CircleMarker at 0x7f71d471a7b8>,\n",
       " <folium.vector_layers.CircleMarker at 0x7f71d471a8d0>,\n",
       " <folium.vector_layers.CircleMarker at 0x7f71d4740b00>,\n",
       " <folium.vector_layers.CircleMarker at 0x7f71d472d4a8>,\n",
       " <folium.vector_layers.CircleMarker at 0x7f71d472d5c0>,\n",
       " <folium.vector_layers.CircleMarker at 0x7f71d46d50f0>,\n",
       " <folium.vector_layers.CircleMarker at 0x7f71d46d5208>,\n",
       " <folium.vector_layers.CircleMarker at 0x7f71d46d5278>,\n",
       " <folium.vector_layers.CircleMarker at 0x7f71d46d5320>,\n",
       " <folium.vector_layers.CircleMarker at 0x7f71d46d53c8>,\n",
       " <folium.vector_layers.CircleMarker at 0x7f71d46d5470>,\n",
       " <folium.vector_layers.CircleMarker at 0x7f71d46d5518>,\n",
       " <folium.vector_layers.CircleMarker at 0x7f71d46d55c0>,\n",
       " <folium.vector_layers.CircleMarker at 0x7f71d471ac88>,\n",
       " <folium.vector_layers.CircleMarker at 0x7f71d472de80>,\n",
       " <folium.vector_layers.CircleMarker at 0x7f71d472dd68>,\n",
       " <folium.vector_layers.CircleMarker at 0x7f71d47405f8>,\n",
       " <folium.vector_layers.CircleMarker at 0x7f71d4740cc0>,\n",
       " <folium.vector_layers.CircleMarker at 0x7f71d4740198>,\n",
       " <folium.vector_layers.CircleMarker at 0x7f71d47406a0>,\n",
       " <folium.vector_layers.CircleMarker at 0x7f71d4740cf8>,\n",
       " <folium.vector_layers.CircleMarker at 0x7f71d4740ba8>,\n",
       " <folium.vector_layers.CircleMarker at 0x7f71d46d5400>,\n",
       " <folium.vector_layers.CircleMarker at 0x7f71d46d5438>,\n",
       " <folium.vector_layers.CircleMarker at 0x7f71d46d52e8>,\n",
       " <folium.vector_layers.CircleMarker at 0x7f71d46d5198>,\n",
       " <folium.vector_layers.CircleMarker at 0x7f71d46d5668>,\n",
       " <folium.vector_layers.CircleMarker at 0x7f71d46d5550>,\n",
       " <folium.vector_layers.CircleMarker at 0x7f71d46d5780>,\n",
       " <folium.vector_layers.CircleMarker at 0x7f71d46d57b8>,\n",
       " <folium.vector_layers.CircleMarker at 0x7f71d46d5860>,\n",
       " <folium.vector_layers.CircleMarker at 0x7f71d46d5908>,\n",
       " <folium.vector_layers.CircleMarker at 0x7f71d46d59b0>,\n",
       " <folium.vector_layers.CircleMarker at 0x7f71d46d5a58>,\n",
       " <folium.vector_layers.CircleMarker at 0x7f71d46d5b00>,\n",
       " <folium.vector_layers.CircleMarker at 0x7f71d4740208>,\n",
       " <folium.vector_layers.CircleMarker at 0x7f71d4740e10>,\n",
       " <folium.vector_layers.CircleMarker at 0x7f71d47851d0>,\n",
       " <folium.vector_layers.CircleMarker at 0x7f71d4740e80>,\n",
       " <folium.vector_layers.CircleMarker at 0x7f71d4740828>,\n",
       " <folium.vector_layers.CircleMarker at 0x7f71d4740400>,\n",
       " <folium.vector_layers.CircleMarker at 0x7f71d472d320>,\n",
       " <folium.vector_layers.CircleMarker at 0x7f71d472dc88>,\n",
       " <folium.vector_layers.CircleMarker at 0x7f71d471a198>,\n",
       " <folium.vector_layers.CircleMarker at 0x7f71d471a320>,\n",
       " <folium.vector_layers.CircleMarker at 0x7f71d472d2e8>,\n",
       " <folium.vector_layers.CircleMarker at 0x7f71d46d57f0>,\n",
       " <folium.vector_layers.CircleMarker at 0x7f71d46d5710>,\n",
       " <folium.vector_layers.CircleMarker at 0x7f71d46d5128>,\n",
       " <folium.vector_layers.CircleMarker at 0x7f71d46d5048>,\n",
       " <folium.vector_layers.CircleMarker at 0x7f71d46d54a8>,\n",
       " <folium.vector_layers.CircleMarker at 0x7f71d46d51d0>,\n",
       " <folium.vector_layers.CircleMarker at 0x7f71d46d5588>,\n",
       " <folium.vector_layers.CircleMarker at 0x7f71d46d59e8>,\n",
       " <folium.vector_layers.CircleMarker at 0x7f71d46d5be0>,\n",
       " <folium.vector_layers.CircleMarker at 0x7f71d46d5c88>,\n",
       " <folium.vector_layers.CircleMarker at 0x7f71d46d5358>,\n",
       " <folium.vector_layers.CircleMarker at 0x7f71d471a7f0>,\n",
       " <folium.vector_layers.CircleMarker at 0x7f71d475e048>,\n",
       " <folium.vector_layers.CircleMarker at 0x7f71d472d1d0>,\n",
       " <folium.vector_layers.CircleMarker at 0x7f71d472d208>,\n",
       " <folium.vector_layers.CircleMarker at 0x7f71d4740710>,\n",
       " <folium.vector_layers.CircleMarker at 0x7f71d47407f0>,\n",
       " <folium.vector_layers.CircleMarker at 0x7f71d4740320>,\n",
       " <folium.vector_layers.CircleMarker at 0x7f71d46d5c50>,\n",
       " <folium.vector_layers.CircleMarker at 0x7f71d46d5080>,\n",
       " <folium.vector_layers.CircleMarker at 0x7f71d46d5160>,\n",
       " <folium.vector_layers.CircleMarker at 0x7f71d46d5240>,\n",
       " <folium.vector_layers.CircleMarker at 0x7f71d46d5a20>,\n",
       " <folium.vector_layers.CircleMarker at 0x7f71d46d55f8>,\n",
       " <folium.vector_layers.CircleMarker at 0x7f71d46d5d68>,\n",
       " <folium.vector_layers.CircleMarker at 0x7f71d46d5cc0>,\n",
       " <folium.vector_layers.CircleMarker at 0x7f71d46d5e80>,\n",
       " <folium.vector_layers.CircleMarker at 0x7f71d46d5eb8>,\n",
       " <folium.vector_layers.CircleMarker at 0x7f71d46d5f60>,\n",
       " <folium.vector_layers.CircleMarker at 0x7f71d46d5ef0>,\n",
       " <folium.vector_layers.CircleMarker at 0x7f71d46eb048>,\n",
       " <folium.vector_layers.CircleMarker at 0x7f71d46eb128>,\n",
       " <folium.vector_layers.CircleMarker at 0x7f71d46eb240>,\n",
       " <folium.vector_layers.CircleMarker at 0x7f71d46d5ba8>,\n",
       " <folium.vector_layers.CircleMarker at 0x7f71d46d5f28>,\n",
       " <folium.vector_layers.CircleMarker at 0x7f71d46d56d8>,\n",
       " <folium.vector_layers.CircleMarker at 0x7f71d46d5940>,\n",
       " <folium.vector_layers.CircleMarker at 0x7f71d46d56a0>,\n",
       " <folium.vector_layers.CircleMarker at 0x7f71d46d5828>,\n",
       " <folium.vector_layers.CircleMarker at 0x7f71d46d52b0>,\n",
       " <folium.vector_layers.CircleMarker at 0x7f71d46d5630>,\n",
       " <folium.vector_layers.CircleMarker at 0x7f71d475f518>,\n",
       " <folium.vector_layers.CircleMarker at 0x7f71d471ad30>,\n",
       " <folium.vector_layers.CircleMarker at 0x7f71d472dc50>,\n",
       " <folium.vector_layers.CircleMarker at 0x7f71d472df98>,\n",
       " <folium.vector_layers.CircleMarker at 0x7f71d4740be0>,\n",
       " <folium.vector_layers.CircleMarker at 0x7f71d46eb0b8>,\n",
       " <folium.vector_layers.CircleMarker at 0x7f71d46eb160>,\n",
       " <folium.vector_layers.CircleMarker at 0x7f71d46eb400>,\n",
       " <folium.vector_layers.CircleMarker at 0x7f71d46eb438>,\n",
       " <folium.vector_layers.CircleMarker at 0x7f71d46eb4e0>,\n",
       " <folium.vector_layers.CircleMarker at 0x7f71d46eb588>,\n",
       " <folium.vector_layers.CircleMarker at 0x7f71d46eb630>,\n",
       " <folium.vector_layers.CircleMarker at 0x7f71d46eb6d8>,\n",
       " <folium.vector_layers.CircleMarker at 0x7f71d46eb780>,\n",
       " <folium.vector_layers.CircleMarker at 0x7f71d472d748>,\n",
       " <folium.vector_layers.CircleMarker at 0x7f71d47402e8>,\n",
       " <folium.vector_layers.CircleMarker at 0x7f71d4740518>,\n",
       " <folium.vector_layers.CircleMarker at 0x7f71d46d50b8>,\n",
       " <folium.vector_layers.CircleMarker at 0x7f71d46d5dd8>,\n",
       " <folium.vector_layers.CircleMarker at 0x7f71d46d5978>,\n",
       " <folium.vector_layers.CircleMarker at 0x7f71d46d5e10>,\n",
       " <folium.vector_layers.CircleMarker at 0x7f71d46d5898>,\n",
       " <folium.vector_layers.CircleMarker at 0x7f71d46eb6a0>,\n",
       " <folium.vector_layers.CircleMarker at 0x7f71d46eb550>,\n",
       " <folium.vector_layers.CircleMarker at 0x7f71d46eb2e8>,\n",
       " <folium.vector_layers.CircleMarker at 0x7f71d46eb3c8>,\n",
       " <folium.vector_layers.CircleMarker at 0x7f71d46eb0f0>,\n",
       " <folium.vector_layers.CircleMarker at 0x7f71d46eb828>,\n",
       " <folium.vector_layers.CircleMarker at 0x7f71d46eb710>,\n",
       " <folium.vector_layers.CircleMarker at 0x7f71d46eb940>,\n",
       " <folium.vector_layers.CircleMarker at 0x7f71d46eb978>,\n",
       " <folium.vector_layers.CircleMarker at 0x7f71d46eba20>,\n",
       " <folium.vector_layers.CircleMarker at 0x7f71d46ebac8>,\n",
       " <folium.vector_layers.CircleMarker at 0x7f71d46ebb70>,\n",
       " <folium.vector_layers.CircleMarker at 0x7f71d46ebc18>,\n",
       " <folium.vector_layers.CircleMarker at 0x7f71d46ebcc0>,\n",
       " <folium.vector_layers.CircleMarker at 0x7f71d46d5e48>,\n",
       " <folium.vector_layers.CircleMarker at 0x7f71d46d5b38>,\n",
       " <folium.vector_layers.CircleMarker at 0x7f71d47401d0>,\n",
       " <folium.vector_layers.CircleMarker at 0x7f71d4740eb8>,\n",
       " <folium.vector_layers.CircleMarker at 0x7f71d46d54e0>,\n",
       " <folium.vector_layers.CircleMarker at 0x7f71d46ebbe0>,\n",
       " <folium.vector_layers.CircleMarker at 0x7f71d46eba90>,\n",
       " <folium.vector_layers.CircleMarker at 0x7f71d46eb898>,\n",
       " <folium.vector_layers.CircleMarker at 0x7f71d46eb908>,\n",
       " <folium.vector_layers.CircleMarker at 0x7f71d46eb208>,\n",
       " <folium.vector_layers.CircleMarker at 0x7f71d46eb358>,\n",
       " <folium.vector_layers.CircleMarker at 0x7f71d46eb518>,\n",
       " <folium.vector_layers.CircleMarker at 0x7f71d46eb5f8>,\n",
       " <folium.vector_layers.CircleMarker at 0x7f71d46ebd68>,\n",
       " <folium.vector_layers.CircleMarker at 0x7f71d46ebc50>,\n",
       " <folium.vector_layers.CircleMarker at 0x7f71d46ebe80>,\n",
       " <folium.vector_layers.CircleMarker at 0x7f71d46ebeb8>,\n",
       " <folium.vector_layers.CircleMarker at 0x7f71d46ebf60>,\n",
       " <folium.vector_layers.CircleMarker at 0x7f71d46ebef0>,\n",
       " <folium.vector_layers.CircleMarker at 0x7f71d46ff048>,\n",
       " <folium.vector_layers.CircleMarker at 0x7f71d46ff128>,\n",
       " <folium.vector_layers.CircleMarker at 0x7f71d46ff240>,\n",
       " <folium.vector_layers.CircleMarker at 0x7f71d4740b38>,\n",
       " <folium.vector_layers.CircleMarker at 0x7f71d46d5da0>,\n",
       " <folium.vector_layers.CircleMarker at 0x7f71d46d5fd0>,\n",
       " <folium.vector_layers.CircleMarker at 0x7f71d46ebf98>,\n",
       " <folium.vector_layers.CircleMarker at 0x7f71d46ebf28>,\n",
       " <folium.vector_layers.CircleMarker at 0x7f71d46ebe48>,\n",
       " <folium.vector_layers.CircleMarker at 0x7f71d46eb470>,\n",
       " <folium.vector_layers.CircleMarker at 0x7f71d46eb278>,\n",
       " <folium.vector_layers.CircleMarker at 0x7f71d46eb198>,\n",
       " <folium.vector_layers.CircleMarker at 0x7f71d46eb860>,\n",
       " <folium.vector_layers.CircleMarker at 0x7f71d46eba58>,\n",
       " <folium.vector_layers.CircleMarker at 0x7f71d46ebb38>,\n",
       " <folium.vector_layers.CircleMarker at 0x7f71d46eb9e8>,\n",
       " <folium.vector_layers.CircleMarker at 0x7f71d46ff1d0>,\n",
       " <folium.vector_layers.CircleMarker at 0x7f71d46ff2e8>,\n",
       " <folium.vector_layers.CircleMarker at 0x7f71d46ff390>,\n",
       " <folium.vector_layers.CircleMarker at 0x7f71d46ff278>,\n",
       " <folium.vector_layers.CircleMarker at 0x7f71d46ff470>,\n",
       " <folium.vector_layers.CircleMarker at 0x7f71d46ff518>,\n",
       " <folium.vector_layers.CircleMarker at 0x7f71d46ff5c0>,\n",
       " <folium.vector_layers.CircleMarker at 0x7f71d46ff668>,\n",
       " <folium.vector_layers.CircleMarker at 0x7f71d46ff710>,\n",
       " <folium.vector_layers.CircleMarker at 0x7f71d46eb9b0>,\n",
       " <folium.vector_layers.CircleMarker at 0x7f71d46eb320>,\n",
       " <folium.vector_layers.CircleMarker at 0x7f71d46eb080>,\n",
       " <folium.vector_layers.CircleMarker at 0x7f71d46ebe10>,\n",
       " <folium.vector_layers.CircleMarker at 0x7f71d46eb5c0>,\n",
       " <folium.vector_layers.CircleMarker at 0x7f71d4740fd0>,\n",
       " <folium.vector_layers.CircleMarker at 0x7f71d46ebfd0>,\n",
       " <folium.vector_layers.CircleMarker at 0x7f71d46d5ac8>,\n",
       " <folium.vector_layers.CircleMarker at 0x7f71d46d5748>,\n",
       " <folium.vector_layers.CircleMarker at 0x7f71d46ff208>,\n",
       " <folium.vector_layers.CircleMarker at 0x7f71d46ff358>,\n",
       " <folium.vector_layers.CircleMarker at 0x7f71d46ff400>,\n",
       " <folium.vector_layers.CircleMarker at 0x7f71d46ff080>,\n",
       " <folium.vector_layers.CircleMarker at 0x7f71d46ff780>,\n",
       " <folium.vector_layers.CircleMarker at 0x7f71d46ff828>,\n",
       " <folium.vector_layers.CircleMarker at 0x7f71d46ff860>,\n",
       " <folium.vector_layers.CircleMarker at 0x7f71d46ff748>,\n",
       " <folium.vector_layers.CircleMarker at 0x7f71d46ff940>,\n",
       " <folium.vector_layers.CircleMarker at 0x7f71d46ff9e8>,\n",
       " <folium.vector_layers.CircleMarker at 0x7f71d46ffa90>,\n",
       " <folium.vector_layers.CircleMarker at 0x7f71d46ffb38>,\n",
       " <folium.vector_layers.CircleMarker at 0x7f71d46d5cf8>,\n",
       " <folium.vector_layers.CircleMarker at 0x7f71d46d5c18>,\n",
       " <folium.vector_layers.CircleMarker at 0x7f71d46ebb00>,\n",
       " <folium.vector_layers.CircleMarker at 0x7f71d46eb8d0>,\n",
       " <folium.vector_layers.CircleMarker at 0x7f71d46ebd30>,\n",
       " <folium.vector_layers.CircleMarker at 0x7f71d46ebba8>,\n",
       " <folium.vector_layers.CircleMarker at 0x7f71d46ff978>,\n",
       " <folium.vector_layers.CircleMarker at 0x7f71d46ff9b0>,\n",
       " <folium.vector_layers.CircleMarker at 0x7f71d46ff8d0>,\n",
       " <folium.vector_layers.CircleMarker at 0x7f71d46ff160>,\n",
       " <folium.vector_layers.CircleMarker at 0x7f71d46ff2b0>,\n",
       " <folium.vector_layers.CircleMarker at 0x7f71d46ff630>,\n",
       " <folium.vector_layers.CircleMarker at 0x7f71d46ff3c8>,\n",
       " <folium.vector_layers.CircleMarker at 0x7f71d46ffbe0>,\n",
       " <folium.vector_layers.CircleMarker at 0x7f71d46ffac8>,\n",
       " <folium.vector_layers.CircleMarker at 0x7f71d46ffcf8>,\n",
       " <folium.vector_layers.CircleMarker at 0x7f71d46ffd30>,\n",
       " <folium.vector_layers.CircleMarker at 0x7f71d46ffdd8>,\n",
       " <folium.vector_layers.CircleMarker at 0x7f71d46ffe80>,\n",
       " <folium.vector_layers.CircleMarker at 0x7f71d46fff28>,\n",
       " <folium.vector_layers.CircleMarker at 0x7f71d46fffd0>,\n",
       " <folium.vector_layers.CircleMarker at 0x7f71d46ffeb8>,\n",
       " <folium.vector_layers.CircleMarker at 0x7f71d46ff0f0>,\n",
       " <folium.vector_layers.CircleMarker at 0x7f71d46ffef0>,\n",
       " <folium.vector_layers.CircleMarker at 0x7f71d46ffc50>,\n",
       " <folium.vector_layers.CircleMarker at 0x7f71d46ffcc0>,\n",
       " <folium.vector_layers.CircleMarker at 0x7f71d46ff588>,\n",
       " <folium.vector_layers.CircleMarker at 0x7f71d46ff4e0>,\n",
       " <folium.vector_layers.CircleMarker at 0x7f71d46ff7f0>,\n",
       " <folium.vector_layers.CircleMarker at 0x7f71d46ff6a0>,\n",
       " <folium.vector_layers.CircleMarker at 0x7f71d46ffa58>,\n",
       " <folium.vector_layers.CircleMarker at 0x7f71d46ff5f8>,\n",
       " <folium.vector_layers.CircleMarker at 0x7f71d46d5390>,\n",
       " <folium.vector_layers.CircleMarker at 0x7f71d46eb7b8>,\n",
       " <folium.vector_layers.CircleMarker at 0x7f71d46ebda0>,\n",
       " <folium.vector_layers.CircleMarker at 0x7f71d46eb390>,\n",
       " <folium.vector_layers.CircleMarker at 0x7f71d4692128>,\n",
       " <folium.vector_layers.CircleMarker at 0x7f71d4692208>,\n",
       " <folium.vector_layers.CircleMarker at 0x7f71d46922b0>,\n",
       " <folium.vector_layers.CircleMarker at 0x7f71d4692358>,\n",
       " <folium.vector_layers.CircleMarker at 0x7f71d4692400>,\n",
       " <folium.vector_layers.CircleMarker at 0x7f71d46924a8>,\n",
       " <folium.vector_layers.CircleMarker at 0x7f71d4692550>,\n",
       " <folium.vector_layers.CircleMarker at 0x7f71d46925f8>,\n",
       " <folium.vector_layers.CircleMarker at 0x7f71d46eb748>,\n",
       " <folium.vector_layers.CircleMarker at 0x7f71d46eb668>,\n",
       " <folium.vector_layers.CircleMarker at 0x7f71d46ebc88>,\n",
       " <folium.vector_layers.CircleMarker at 0x7f71d46ff908>,\n",
       " <folium.vector_layers.CircleMarker at 0x7f71d46ff320>,\n",
       " <folium.vector_layers.CircleMarker at 0x7f71d46ffb70>,\n",
       " <folium.vector_layers.CircleMarker at 0x7f71d46ff4a8>,\n",
       " <folium.vector_layers.CircleMarker at 0x7f71d46ffd68>,\n",
       " <folium.vector_layers.CircleMarker at 0x7f71d46ffc88>,\n",
       " <folium.vector_layers.CircleMarker at 0x7f71d4692518>,\n",
       " <folium.vector_layers.CircleMarker at 0x7f71d46923c8>,\n",
       " <folium.vector_layers.CircleMarker at 0x7f71d46920f0>,\n",
       " <folium.vector_layers.CircleMarker at 0x7f71d4692198>,\n",
       " <folium.vector_layers.CircleMarker at 0x7f71d46926a0>,\n",
       " <folium.vector_layers.CircleMarker at 0x7f71d4692588>,\n",
       " <folium.vector_layers.CircleMarker at 0x7f71d46927b8>,\n",
       " <folium.vector_layers.CircleMarker at 0x7f71d46927f0>,\n",
       " <folium.vector_layers.CircleMarker at 0x7f71d4692898>,\n",
       " <folium.vector_layers.CircleMarker at 0x7f71d4692940>,\n",
       " <folium.vector_layers.CircleMarker at 0x7f71d46929e8>,\n",
       " <folium.vector_layers.CircleMarker at 0x7f71d4692a90>,\n",
       " <folium.vector_layers.CircleMarker at 0x7f71d4692b38>,\n",
       " <folium.vector_layers.CircleMarker at 0x7f71d46ffda0>,\n",
       " <folium.vector_layers.CircleMarker at 0x7f71d46ff550>,\n",
       " <folium.vector_layers.CircleMarker at 0x7f71d46ff898>,\n",
       " <folium.vector_layers.CircleMarker at 0x7f71d46ebdd8>,\n",
       " <folium.vector_layers.CircleMarker at 0x7f71d46ebcf8>,\n",
       " <folium.vector_layers.CircleMarker at 0x7f71d46ff0b8>,\n",
       " <folium.vector_layers.CircleMarker at 0x7f71d4692828>,\n",
       " <folium.vector_layers.CircleMarker at 0x7f71d4692748>,\n",
       " <folium.vector_layers.CircleMarker at 0x7f71d4692080>,\n",
       " <folium.vector_layers.CircleMarker at 0x7f71d4692278>,\n",
       " <folium.vector_layers.CircleMarker at 0x7f71d46924e0>,\n",
       " <folium.vector_layers.CircleMarker at 0x7f71d4692390>,\n",
       " <folium.vector_layers.CircleMarker at 0x7f71d4692470>,\n",
       " <folium.vector_layers.CircleMarker at 0x7f71d4692be0>,\n",
       " <folium.vector_layers.CircleMarker at 0x7f71d4692ac8>,\n",
       " <folium.vector_layers.CircleMarker at 0x7f71d4692cf8>,\n",
       " <folium.vector_layers.CircleMarker at 0x7f71d4692d30>,\n",
       " <folium.vector_layers.CircleMarker at 0x7f71d4692dd8>,\n",
       " <folium.vector_layers.CircleMarker at 0x7f71d4692e80>,\n",
       " <folium.vector_layers.CircleMarker at 0x7f71d4692f28>,\n",
       " <folium.vector_layers.CircleMarker at 0x7f71d4692fd0>,\n",
       " <folium.vector_layers.CircleMarker at 0x7f71d4692eb8>,\n",
       " <folium.vector_layers.CircleMarker at 0x7f71d4692b00>,\n",
       " <folium.vector_layers.CircleMarker at 0x7f71d4692ef0>,\n",
       " <folium.vector_layers.CircleMarker at 0x7f71d4692c50>,\n",
       " <folium.vector_layers.CircleMarker at 0x7f71d4692cc0>,\n",
       " <folium.vector_layers.CircleMarker at 0x7f71d46922e8>,\n",
       " <folium.vector_layers.CircleMarker at 0x7f71d4692240>,\n",
       " <folium.vector_layers.CircleMarker at 0x7f71d4692860>,\n",
       " <folium.vector_layers.CircleMarker at 0x7f71d46eb4a8>,\n",
       " <folium.vector_layers.CircleMarker at 0x7f71d4692710>,\n",
       " <folium.vector_layers.CircleMarker at 0x7f71d4692630>,\n",
       " <folium.vector_layers.CircleMarker at 0x7f71d4692908>,\n",
       " <folium.vector_layers.CircleMarker at 0x7f71d46ff438>,\n",
       " <folium.vector_layers.CircleMarker at 0x7f71d46ff198>,\n",
       " <folium.vector_layers.CircleMarker at 0x7f71d46ff7b8>,\n",
       " <folium.vector_layers.CircleMarker at 0x7f71d46a7128>,\n",
       " <folium.vector_layers.CircleMarker at 0x7f71d46a7208>,\n",
       " <folium.vector_layers.CircleMarker at 0x7f71d46a72b0>,\n",
       " <folium.vector_layers.CircleMarker at 0x7f71d46a7358>,\n",
       " <folium.vector_layers.CircleMarker at 0x7f71d46a7400>,\n",
       " <folium.vector_layers.CircleMarker at 0x7f71d46a74a8>,\n",
       " <folium.vector_layers.CircleMarker at 0x7f71d46a7550>,\n",
       " <folium.vector_layers.CircleMarker at 0x7f71d4692da0>,\n",
       " <folium.vector_layers.CircleMarker at 0x7f71d4692978>,\n",
       " <folium.vector_layers.CircleMarker at 0x7f71d4692320>,\n",
       " <folium.vector_layers.CircleMarker at 0x7f71d46926d8>,\n",
       " <folium.vector_layers.CircleMarker at 0x7f71d4692f98>,\n",
       " <folium.vector_layers.CircleMarker at 0x7f71d4692e48>,\n",
       " <folium.vector_layers.CircleMarker at 0x7f71d4692f60>,\n",
       " <folium.vector_layers.CircleMarker at 0x7f71d4692048>,\n",
       " <folium.vector_layers.CircleMarker at 0x7f71d4692d68>,\n",
       " <folium.vector_layers.CircleMarker at 0x7f71d46ffc18>,\n",
       " <folium.vector_layers.CircleMarker at 0x7f71d46eb2b0>,\n",
       " <folium.vector_layers.CircleMarker at 0x7f71d46ffa20>,\n",
       " <folium.vector_layers.CircleMarker at 0x7f71d46ffba8>,\n",
       " <folium.vector_layers.CircleMarker at 0x7f71d46d5d30>,\n",
       " <folium.vector_layers.CircleMarker at 0x7f71d46a75f8>,\n",
       " <folium.vector_layers.CircleMarker at 0x7f71d46a7470>,\n",
       " <folium.vector_layers.CircleMarker at 0x7f71d46a7320>,\n",
       " <folium.vector_layers.CircleMarker at 0x7f71d46a71d0>,\n",
       " <folium.vector_layers.CircleMarker at 0x7f71d46a7080>,\n",
       " <folium.vector_layers.CircleMarker at 0x7f71d46a76a0>,\n",
       " <folium.vector_layers.CircleMarker at 0x7f71d46a7588>,\n",
       " <folium.vector_layers.CircleMarker at 0x7f71d46a7780>,\n",
       " <folium.vector_layers.CircleMarker at 0x7f71d46a7828>,\n",
       " <folium.vector_layers.CircleMarker at 0x7f71d46d58d0>,\n",
       " <folium.vector_layers.CircleMarker at 0x7f71d46eb7f0>,\n",
       " <folium.vector_layers.CircleMarker at 0x7f71d46fff60>,\n",
       " <folium.vector_layers.CircleMarker at 0x7f71d46ff6d8>,\n",
       " <folium.vector_layers.CircleMarker at 0x7f71d4692668>,\n",
       " <folium.vector_layers.CircleMarker at 0x7f71d4692c88>,\n",
       " <folium.vector_layers.CircleMarker at 0x7f71d46921d0>,\n",
       " <folium.vector_layers.CircleMarker at 0x7f71d46920b8>,\n",
       " <folium.vector_layers.CircleMarker at 0x7f71d4692780>,\n",
       " <folium.vector_layers.CircleMarker at 0x7f71d46a76d8>,\n",
       " <folium.vector_layers.CircleMarker at 0x7f71d46a7710>,\n",
       " <folium.vector_layers.CircleMarker at 0x7f71d46a70b8>,\n",
       " <folium.vector_layers.CircleMarker at 0x7f71d46a7160>,\n",
       " <folium.vector_layers.CircleMarker at 0x7f71d46a7668>,\n",
       " <folium.vector_layers.CircleMarker at 0x7f71d46a7940>,\n",
       " <folium.vector_layers.CircleMarker at 0x7f71d46a7978>,\n",
       " <folium.vector_layers.CircleMarker at 0x7f71d46a7860>,\n",
       " <folium.vector_layers.CircleMarker at 0x7f71d46a7a58>,\n",
       " <folium.vector_layers.CircleMarker at 0x7f71d46a7b00>,\n",
       " <folium.vector_layers.CircleMarker at 0x7f71d46a7ba8>,\n",
       " <folium.vector_layers.CircleMarker at 0x7f71d46a7c50>,\n",
       " <folium.vector_layers.CircleMarker at 0x7f71d4692ba8>,\n",
       " <folium.vector_layers.CircleMarker at 0x7f71d4692a58>,\n",
       " <folium.vector_layers.CircleMarker at 0x7f71d46eb1d0>,\n",
       " <folium.vector_layers.CircleMarker at 0x7f71d46ffe48>,\n",
       " <folium.vector_layers.CircleMarker at 0x7f71d46ffe10>,\n",
       " <folium.vector_layers.CircleMarker at 0x7f71d46925c0>,\n",
       " <folium.vector_layers.CircleMarker at 0x7f71d4692c18>,\n",
       " <folium.vector_layers.CircleMarker at 0x7f71d46a7390>,\n",
       " <folium.vector_layers.CircleMarker at 0x7f71d46a7908>,\n",
       " <folium.vector_layers.CircleMarker at 0x7f71d46a79e8>,\n",
       " <folium.vector_layers.CircleMarker at 0x7f71d46a72e8>,\n",
       " <folium.vector_layers.CircleMarker at 0x7f71d46a7518>,\n",
       " <folium.vector_layers.CircleMarker at 0x7f71d46a7240>,\n",
       " <folium.vector_layers.CircleMarker at 0x7f71d46a77f0>,\n",
       " <folium.vector_layers.CircleMarker at 0x7f71d46a7be0>,\n",
       " <folium.vector_layers.CircleMarker at 0x7f71d46a7e10>,\n",
       " <folium.vector_layers.CircleMarker at 0x7f71d46a7e48>,\n",
       " <folium.vector_layers.CircleMarker at 0x7f71d46a7ef0>,\n",
       " <folium.vector_layers.CircleMarker at 0x7f71d46a7f98>,\n",
       " <folium.vector_layers.CircleMarker at 0x7f71d46a7f28>,\n",
       " <folium.vector_layers.CircleMarker at 0x7f71d46ba0b8>,\n",
       " <folium.vector_layers.CircleMarker at 0x7f71d46ba1d0>,\n",
       " <folium.vector_layers.CircleMarker at 0x7f71d46a7d68>,\n",
       " <folium.vector_layers.CircleMarker at 0x7f71d46a7da0>,\n",
       " <folium.vector_layers.CircleMarker at 0x7f71d46a7dd8>,\n",
       " <folium.vector_layers.CircleMarker at 0x7f71d46a78d0>,\n",
       " <folium.vector_layers.CircleMarker at 0x7f71d46a7278>,\n",
       " <folium.vector_layers.CircleMarker at 0x7f71d46a7b70>,\n",
       " <folium.vector_layers.CircleMarker at 0x7f71d46fff98>,\n",
       " <folium.vector_layers.CircleMarker at 0x7f71d472d7f0>,\n",
       " <folium.vector_layers.CircleMarker at 0x7f71d46d5a90>,\n",
       " <folium.vector_layers.CircleMarker at 0x7f71d46a7cf8>,\n",
       " <folium.vector_layers.CircleMarker at 0x7f71d46a7a90>,\n",
       " <folium.vector_layers.CircleMarker at 0x7f71d46929b0>,\n",
       " <folium.vector_layers.CircleMarker at 0x7f71d4692160>,\n",
       " <folium.vector_layers.CircleMarker at 0x7f71d46ba048>,\n",
       " <folium.vector_layers.CircleMarker at 0x7f71d46ba0f0>,\n",
       " <folium.vector_layers.CircleMarker at 0x7f71d46ba390>,\n",
       " <folium.vector_layers.CircleMarker at 0x7f71d46ba3c8>,\n",
       " <folium.vector_layers.CircleMarker at 0x7f71d46ba470>,\n",
       " <folium.vector_layers.CircleMarker at 0x7f71d46ba518>,\n",
       " <folium.vector_layers.CircleMarker at 0x7f71d46ba5c0>,\n",
       " <folium.vector_layers.CircleMarker at 0x7f71d46ba668>,\n",
       " <folium.vector_layers.CircleMarker at 0x7f71d46ba710>,\n",
       " <folium.vector_layers.CircleMarker at 0x7f71d46d5f98>,\n",
       " <folium.vector_layers.CircleMarker at 0x7f71d4692a20>,\n",
       " <folium.vector_layers.CircleMarker at 0x7f71d46a7ac8>,\n",
       " <folium.vector_layers.CircleMarker at 0x7f71d46a7048>,\n",
       " <folium.vector_layers.CircleMarker at 0x7f71d46a70f0>,\n",
       " <folium.vector_layers.CircleMarker at 0x7f71d46a7c88>,\n",
       " <folium.vector_layers.CircleMarker at 0x7f71d46a7898>,\n",
       " <folium.vector_layers.CircleMarker at 0x7f71d46a7d30>,\n",
       " <folium.vector_layers.CircleMarker at 0x7f71d46ba550>,\n",
       " <folium.vector_layers.CircleMarker at 0x7f71d46ba588>,\n",
       " <folium.vector_layers.CircleMarker at 0x7f71d46ba438>,\n",
       " <folium.vector_layers.CircleMarker at 0x7f71d46ba080>,\n",
       " <folium.vector_layers.CircleMarker at 0x7f71d46ba2e8>,\n",
       " <folium.vector_layers.CircleMarker at 0x7f71d46ba7b8>,\n",
       " <folium.vector_layers.CircleMarker at 0x7f71d46ba6a0>,\n",
       " <folium.vector_layers.CircleMarker at 0x7f71d46ba8d0>,\n",
       " <folium.vector_layers.CircleMarker at 0x7f71d46ba908>,\n",
       " <folium.vector_layers.CircleMarker at 0x7f71d46ba9b0>,\n",
       " <folium.vector_layers.CircleMarker at 0x7f71d46baa58>,\n",
       " <folium.vector_layers.CircleMarker at 0x7f71d46bab00>,\n",
       " <folium.vector_layers.CircleMarker at 0x7f71d46baba8>,\n",
       " <folium.vector_layers.CircleMarker at 0x7f71d46bac50>,\n",
       " <folium.vector_layers.CircleMarker at 0x7f71d46a77b8>,\n",
       " <folium.vector_layers.CircleMarker at 0x7f71d46ffb00>,\n",
       " <folium.vector_layers.CircleMarker at 0x7f71d46a7198>,\n",
       " <folium.vector_layers.CircleMarker at 0x7f71d4692438>,\n",
       " <folium.vector_layers.CircleMarker at 0x7f71d46a7c18>,\n",
       " <folium.vector_layers.CircleMarker at 0x7f71d46baa90>,\n",
       " <folium.vector_layers.CircleMarker at 0x7f71d46baac8>,\n",
       " <folium.vector_layers.CircleMarker at 0x7f71d46ba978>,\n",
       " <folium.vector_layers.CircleMarker at 0x7f71d46ba128>,\n",
       " <folium.vector_layers.CircleMarker at 0x7f71d46ba7f0>,\n",
       " <folium.vector_layers.CircleMarker at 0x7f71d46ba208>,\n",
       " <folium.vector_layers.CircleMarker at 0x7f71d46ba198>,\n",
       " <folium.vector_layers.CircleMarker at 0x7f71d46ba630>,\n",
       " <folium.vector_layers.CircleMarker at 0x7f71d46bacf8>,\n",
       " <folium.vector_layers.CircleMarker at 0x7f71d46babe0>,\n",
       " <folium.vector_layers.CircleMarker at 0x7f71d46bae10>,\n",
       " <folium.vector_layers.CircleMarker at 0x7f71d46bae48>,\n",
       " <folium.vector_layers.CircleMarker at 0x7f71d46baef0>,\n",
       " <folium.vector_layers.CircleMarker at 0x7f71d46baf98>,\n",
       " <folium.vector_layers.CircleMarker at 0x7f71d46baf28>,\n",
       " <folium.vector_layers.CircleMarker at 0x7f71d46d00b8>,\n",
       " <folium.vector_layers.CircleMarker at 0x7f71d46d01d0>,\n",
       " <folium.vector_layers.CircleMarker at 0x7f71d46ba9e8>,\n",
       " <folium.vector_layers.CircleMarker at 0x7f71d46bada0>,\n",
       " <folium.vector_layers.CircleMarker at 0x7f71d46badd8>,\n",
       " <folium.vector_layers.CircleMarker at 0x7f71d46ba2b0>,\n",
       " <folium.vector_layers.CircleMarker at 0x7f71d46ba4e0>,\n",
       " <folium.vector_layers.CircleMarker at 0x7f71d46ba828>,\n",
       " <folium.vector_layers.CircleMarker at 0x7f71d4692e10>,\n",
       " <folium.vector_layers.CircleMarker at 0x7f71d46ba160>,\n",
       " <folium.vector_layers.CircleMarker at 0x7f71d46baa20>,\n",
       " <folium.vector_layers.CircleMarker at 0x7f71d46ba860>,\n",
       " <folium.vector_layers.CircleMarker at 0x7f71d46a7e80>,\n",
       " <folium.vector_layers.CircleMarker at 0x7f71d46a7630>,\n",
       " <folium.vector_layers.CircleMarker at 0x7f71d46a73c8>,\n",
       " <folium.vector_layers.CircleMarker at 0x7f71d46d0048>,\n",
       " <folium.vector_layers.CircleMarker at 0x7f71d46d00f0>,\n",
       " <folium.vector_layers.CircleMarker at 0x7f71d46d0390>,\n",
       " <folium.vector_layers.CircleMarker at 0x7f71d46d03c8>,\n",
       " <folium.vector_layers.CircleMarker at 0x7f71d46d0470>,\n",
       " <folium.vector_layers.CircleMarker at 0x7f71d46d0518>,\n",
       " <folium.vector_layers.CircleMarker at 0x7f71d46d05c0>,\n",
       " <folium.vector_layers.CircleMarker at 0x7f71d46d0668>,\n",
       " <folium.vector_layers.CircleMarker at 0x7f71d46d0710>,\n",
       " <folium.vector_layers.CircleMarker at 0x7f71d46928d0>,\n",
       " <folium.vector_layers.CircleMarker at 0x7f71d46a79b0>,\n",
       " <folium.vector_layers.CircleMarker at 0x7f71d46ba940>,\n",
       " <folium.vector_layers.CircleMarker at 0x7f71d46bab38>,\n",
       " <folium.vector_layers.CircleMarker at 0x7f71d46ba400>,\n",
       " <folium.vector_layers.CircleMarker at 0x7f71d46bac88>,\n",
       " <folium.vector_layers.CircleMarker at 0x7f71d46bad68>,\n",
       " <folium.vector_layers.CircleMarker at 0x7f71d46bafd0>,\n",
       " <folium.vector_layers.CircleMarker at 0x7f71d46bad30>,\n",
       " <folium.vector_layers.CircleMarker at 0x7f71d46d0400>,\n",
       " <folium.vector_layers.CircleMarker at 0x7f71d46d0320>,\n",
       " <folium.vector_layers.CircleMarker at 0x7f71d46d0198>,\n",
       " <folium.vector_layers.CircleMarker at 0x7f71d46d02b0>,\n",
       " <folium.vector_layers.CircleMarker at 0x7f71d46d0240>,\n",
       " <folium.vector_layers.CircleMarker at 0x7f71d46d0828>,\n",
       " <folium.vector_layers.CircleMarker at 0x7f71d46d0860>,\n",
       " <folium.vector_layers.CircleMarker at 0x7f71d46d0748>,\n",
       " <folium.vector_layers.CircleMarker at 0x7f71d46d0940>,\n",
       " <folium.vector_layers.CircleMarker at 0x7f71d46d09e8>,\n",
       " <folium.vector_layers.CircleMarker at 0x7f71d46d0a90>,\n",
       " <folium.vector_layers.CircleMarker at 0x7f71d46d0b38>,\n",
       " <folium.vector_layers.CircleMarker at 0x7f71d46bac18>,\n",
       " <folium.vector_layers.CircleMarker at 0x7f71d46bae80>,\n",
       " <folium.vector_layers.CircleMarker at 0x7f71d46ba320>,\n",
       " <folium.vector_layers.CircleMarker at 0x7f71d46a7a20>,\n",
       " <folium.vector_layers.CircleMarker at 0x7f71d46a7eb8>,\n",
       " <folium.vector_layers.CircleMarker at 0x7f71d46ba278>,\n",
       " <folium.vector_layers.CircleMarker at 0x7f71d46d0b00>,\n",
       " <folium.vector_layers.CircleMarker at 0x7f71d46d09b0>,\n",
       " <folium.vector_layers.CircleMarker at 0x7f71d46d05f8>,\n",
       " <folium.vector_layers.CircleMarker at 0x7f71d46d06a0>,\n",
       " <folium.vector_layers.CircleMarker at 0x7f71d46d0438>,\n",
       " <folium.vector_layers.CircleMarker at 0x7f71d46d0358>,\n",
       " <folium.vector_layers.CircleMarker at 0x7f71d46d04e0>,\n",
       " <folium.vector_layers.CircleMarker at 0x7f71d46d0550>,\n",
       " <folium.vector_layers.CircleMarker at 0x7f71d46d0ac8>,\n",
       " <folium.vector_layers.CircleMarker at 0x7f71d46d0cf8>,\n",
       " <folium.vector_layers.CircleMarker at 0x7f71d46d0d30>,\n",
       " <folium.vector_layers.CircleMarker at 0x7f71d46d0dd8>,\n",
       " <folium.vector_layers.CircleMarker at 0x7f71d46d0e80>,\n",
       " <folium.vector_layers.CircleMarker at 0x7f71d46d0f28>,\n",
       " <folium.vector_layers.CircleMarker at 0x7f71d46d0fd0>,\n",
       " <folium.vector_layers.CircleMarker at 0x7f71d46d0eb8>,\n",
       " <folium.vector_layers.CircleMarker at 0x7f71d46d0be0>,\n",
       " <folium.vector_layers.CircleMarker at 0x7f71d46d0ef0>,\n",
       " <folium.vector_layers.CircleMarker at 0x7f71d46d0780>,\n",
       " <folium.vector_layers.CircleMarker at 0x7f71d46d0cc0>,\n",
       " <folium.vector_layers.CircleMarker at 0x7f71d46d0128>,\n",
       " <folium.vector_layers.CircleMarker at 0x7f71d46d0278>,\n",
       " <folium.vector_layers.CircleMarker at 0x7f71d46d07f0>,\n",
       " <folium.vector_layers.CircleMarker at 0x7f71d46a74e0>,\n",
       " <folium.vector_layers.CircleMarker at 0x7f71d46d0908>,\n",
       " <folium.vector_layers.CircleMarker at 0x7f71d46d0a58>,\n",
       " <folium.vector_layers.CircleMarker at 0x7f71d46d0898>,\n",
       " <folium.vector_layers.CircleMarker at 0x7f71d46ba358>,\n",
       " <folium.vector_layers.CircleMarker at 0x7f71d46ba748>,\n",
       " <folium.vector_layers.CircleMarker at 0x7f71d46bab70>,\n",
       " <folium.vector_layers.CircleMarker at 0x7f71d4664128>,\n",
       " <folium.vector_layers.CircleMarker at 0x7f71d4664208>,\n",
       " <folium.vector_layers.CircleMarker at 0x7f71d46642b0>,\n",
       " <folium.vector_layers.CircleMarker at 0x7f71d4664358>,\n",
       " <folium.vector_layers.CircleMarker at 0x7f71d4664400>,\n",
       " <folium.vector_layers.CircleMarker at 0x7f71d46644a8>,\n",
       " <folium.vector_layers.CircleMarker at 0x7f71d4664550>,\n",
       " <folium.vector_layers.CircleMarker at 0x7f71d46645f8>,\n",
       " <folium.vector_layers.CircleMarker at 0x7f71d46a7748>,\n",
       " <folium.vector_layers.CircleMarker at 0x7f71d46ba6d8>,\n",
       " <folium.vector_layers.CircleMarker at 0x7f71d46d07b8>,\n",
       " <folium.vector_layers.CircleMarker at 0x7f71d46d02e8>,\n",
       " <folium.vector_layers.CircleMarker at 0x7f71d46d0588>,\n",
       " <folium.vector_layers.CircleMarker at 0x7f71d46d0b70>,\n",
       " <folium.vector_layers.CircleMarker at 0x7f71d46d0208>,\n",
       " <folium.vector_layers.CircleMarker at 0x7f71d46d0d68>,\n",
       " <folium.vector_layers.CircleMarker at 0x7f71d46d0c88>,\n",
       " <folium.vector_layers.CircleMarker at 0x7f71d4664518>,\n",
       " <folium.vector_layers.CircleMarker at 0x7f71d46643c8>,\n",
       " <folium.vector_layers.CircleMarker at 0x7f71d46640f0>,\n",
       " <folium.vector_layers.CircleMarker at 0x7f71d4664198>,\n",
       " <folium.vector_layers.CircleMarker at 0x7f71d46646a0>,\n",
       " <folium.vector_layers.CircleMarker at 0x7f71d4664588>,\n",
       " <folium.vector_layers.CircleMarker at 0x7f71d46647b8>,\n",
       " <folium.vector_layers.CircleMarker at 0x7f71d46647f0>,\n",
       " <folium.vector_layers.CircleMarker at 0x7f71d4664898>,\n",
       " <folium.vector_layers.CircleMarker at 0x7f71d4664940>,\n",
       " <folium.vector_layers.CircleMarker at 0x7f71d46649e8>,\n",
       " <folium.vector_layers.CircleMarker at 0x7f71d4664a90>,\n",
       " <folium.vector_layers.CircleMarker at 0x7f71d4664b38>,\n",
       " <folium.vector_layers.CircleMarker at 0x7f71d46d0978>,\n",
       " <folium.vector_layers.CircleMarker at 0x7f71d46d04a8>,\n",
       " <folium.vector_layers.CircleMarker at 0x7f71d46d0160>,\n",
       " <folium.vector_layers.CircleMarker at 0x7f71d46ba4a8>,\n",
       " <folium.vector_layers.CircleMarker at 0x7f71d46ba898>,\n",
       " <folium.vector_layers.CircleMarker at 0x7f71d46d0630>,\n",
       " <folium.vector_layers.CircleMarker at 0x7f71d4664828>,\n",
       " <folium.vector_layers.CircleMarker at 0x7f71d4664748>,\n",
       " <folium.vector_layers.CircleMarker at 0x7f71d4664048>,\n",
       " <folium.vector_layers.CircleMarker at 0x7f71d4664278>,\n",
       " <folium.vector_layers.CircleMarker at 0x7f71d46644e0>,\n",
       " <folium.vector_layers.CircleMarker at 0x7f71d4664390>,\n",
       " <folium.vector_layers.CircleMarker at 0x7f71d4664470>,\n",
       " <folium.vector_layers.CircleMarker at 0x7f71d4664be0>,\n",
       " <folium.vector_layers.CircleMarker at 0x7f71d4664ac8>,\n",
       " <folium.vector_layers.CircleMarker at 0x7f71d4664cf8>,\n",
       " <folium.vector_layers.CircleMarker at 0x7f71d4664d30>,\n",
       " <folium.vector_layers.CircleMarker at 0x7f71d4664dd8>,\n",
       " <folium.vector_layers.CircleMarker at 0x7f71d4664e80>,\n",
       " <folium.vector_layers.CircleMarker at 0x7f71d4664f28>,\n",
       " <folium.vector_layers.CircleMarker at 0x7f71d4664fd0>,\n",
       " <folium.vector_layers.CircleMarker at 0x7f71d4664eb8>,\n",
       " <folium.vector_layers.CircleMarker at 0x7f71d4664b00>,\n",
       " <folium.vector_layers.CircleMarker at 0x7f71d4664ef0>,\n",
       " <folium.vector_layers.CircleMarker at 0x7f71d4664c50>,\n",
       " <folium.vector_layers.CircleMarker at 0x7f71d4664cc0>,\n",
       " <folium.vector_layers.CircleMarker at 0x7f71d46642e8>,\n",
       " <folium.vector_layers.CircleMarker at 0x7f71d4664240>,\n",
       " <folium.vector_layers.CircleMarker at 0x7f71d4664860>,\n",
       " <folium.vector_layers.CircleMarker at 0x7f71d4664780>,\n",
       " <folium.vector_layers.CircleMarker at 0x7f71d4664908>,\n",
       " <folium.vector_layers.CircleMarker at 0x7f71d4664978>,\n",
       " <folium.vector_layers.CircleMarker at 0x7f71d4664080>,\n",
       " <folium.vector_layers.CircleMarker at 0x7f71d4664630>,\n",
       " <folium.vector_layers.CircleMarker at 0x7f71d4692b70>,\n",
       " <folium.vector_layers.CircleMarker at 0x7f71d46d0c18>,\n",
       " <folium.vector_layers.CircleMarker at 0x7f71d46d0da0>,\n",
       " <folium.vector_layers.CircleMarker at 0x7f71d46d0a20>,\n",
       " <folium.vector_layers.CircleMarker at 0x7f71d46bacc0>,\n",
       " <folium.vector_layers.CircleMarker at 0x7f71d46baeb8>,\n",
       " <folium.vector_layers.CircleMarker at 0x7f71d46a7cc0>,\n",
       " <folium.vector_layers.CircleMarker at 0x7f71d46770b8>,\n",
       " <folium.vector_layers.CircleMarker at 0x7f71d4677208>,\n",
       " <folium.vector_layers.CircleMarker at 0x7f71d4677080>,\n",
       " <folium.vector_layers.CircleMarker at 0x7f71d46a7f60>,\n",
       " <folium.vector_layers.CircleMarker at 0x7f71d46ba240>,\n",
       " <folium.vector_layers.CircleMarker at 0x7f71d46d0ba8>,\n",
       " <folium.vector_layers.CircleMarker at 0x7f71d46d0e48>,\n",
       " <folium.vector_layers.CircleMarker at 0x7f71d46d0e10>,\n",
       " <folium.vector_layers.CircleMarker at 0x7f71d4664ba8>,\n",
       " <folium.vector_layers.CircleMarker at 0x7f71d46648d0>,\n",
       " <folium.vector_layers.CircleMarker at 0x7f71d46649b0>,\n",
       " <folium.vector_layers.CircleMarker at 0x7f71d4664438>,\n",
       " <folium.vector_layers.CircleMarker at 0x7f71d4664c18>,\n",
       " <folium.vector_layers.CircleMarker at 0x7f71d4664c88>,\n",
       " <folium.vector_layers.CircleMarker at 0x7f71d4664e10>,\n",
       " <folium.vector_layers.CircleMarker at 0x7f71d4664e48>,\n",
       " <folium.vector_layers.CircleMarker at 0x7f71d4677128>,\n",
       " <folium.vector_layers.CircleMarker at 0x7f71d4677390>,\n",
       " <folium.vector_layers.CircleMarker at 0x7f71d46773c8>,\n",
       " <folium.vector_layers.CircleMarker at 0x7f71d46772b0>,\n",
       " <folium.vector_layers.CircleMarker at 0x7f71d46774a8>,\n",
       " <folium.vector_layers.CircleMarker at 0x7f71d4677550>,\n",
       " <folium.vector_layers.CircleMarker at 0x7f71d46775f8>,\n",
       " <folium.vector_layers.CircleMarker at 0x7f71d46776a0>,\n",
       " <folium.vector_layers.CircleMarker at 0x7f71d4677748>,\n",
       " <folium.vector_layers.CircleMarker at 0x7f71d4664a58>,\n",
       " <folium.vector_layers.CircleMarker at 0x7f71d4664320>,\n",
       " <folium.vector_layers.CircleMarker at 0x7f71d46641d0>,\n",
       " <folium.vector_layers.CircleMarker at 0x7f71d4664668>,\n",
       " <folium.vector_layers.CircleMarker at 0x7f71d4664a20>,\n",
       " <folium.vector_layers.CircleMarker at 0x7f71d46d08d0>,\n",
       " <folium.vector_layers.CircleMarker at 0x7f71d46baf60>,\n",
       " <folium.vector_layers.CircleMarker at 0x7f71d46d0080>,\n",
       " <folium.vector_layers.CircleMarker at 0x7f71d4677588>,\n",
       " <folium.vector_layers.CircleMarker at 0x7f71d46775c0>,\n",
       " <folium.vector_layers.CircleMarker at 0x7f71d4677470>,\n",
       " <folium.vector_layers.CircleMarker at 0x7f71d4677160>,\n",
       " <folium.vector_layers.CircleMarker at 0x7f71d46771d0>]"
      ]
     },
     "execution_count": 19,
     "metadata": {},
     "output_type": "execute_result"
    }
   ],
   "source": [
    "first_location = location(first_trip) # [40.64499, -73.78115]\n",
    "first_location # [40.64499, -73.78115]"
   ]
  },
  {
   "cell_type": "markdown",
   "metadata": {},
   "source": [
    "Ok, now that we can turn a trip into a location, let's turn a location into a marker.  Write a function called `to_marker` that takes in a location (in the form of a list) as an argument, and returns a folium `circleMarker` for that location.  The radius of the marker should always equal 6."
   ]
  },
  {
   "cell_type": "code",
   "execution_count": null,
   "metadata": {},
   "outputs": [],
   "source": [
    "def to_marker(location):\n",
    "    pass"
   ]
  },
  {
   "cell_type": "code",
   "execution_count": null,
   "metadata": {},
   "outputs": [],
   "source": [
    "import json\n",
    "times_square_marker = to_marker([40.7589, -73.9851])\n",
    "\n",
    "times_square_marker and times_square_marker.location # [40.7589, -73.9851]\n",
    "times_square_marker and json.loads(times_square_marker.options)['radius'] # 6"
   ]
  },
  {
   "cell_type": "markdown",
   "metadata": {},
   "source": [
    "Ok, now that we know how to produce a single marker, let's write a function to produce lots.  We can write a function called `markers_from_trips` that takes in a list of trips, and returns a marker object for each trip.  "
   ]
  },
  {
   "cell_type": "code",
   "execution_count": null,
   "metadata": {},
   "outputs": [],
   "source": [
    "def markers_from_trips(trips):\n",
    "    pass"
   ]
  },
  {
   "cell_type": "code",
   "execution_count": null,
   "metadata": {},
   "outputs": [],
   "source": [
    "trip_markers = markers_from_trips(cleaned_trips)"
   ]
  },
  {
   "cell_type": "code",
   "execution_count": null,
   "metadata": {},
   "outputs": [],
   "source": [
    "cleaned_trips[0:4]"
   ]
  },
  {
   "cell_type": "code",
   "execution_count": null,
   "metadata": {},
   "outputs": [],
   "source": [
    "trip_markers and len(trip_markers) # 1000\n",
    "\n",
    "list(map(lambda marker: marker.location, trip_markers[0:4]))\n",
    "# [[40.64499, -73.78115],\n",
    "#  [40.766931, -73.982098],\n",
    "#  [40.77773, -73.951902],\n",
    "#  [40.795678, -73.971049]]"
   ]
  },
  {
   "cell_type": "markdown",
   "metadata": {},
   "source": [
    "Ok, now that we have a function that creates locations, and a function that creates markers, it is time to write a function to plot a map. \n",
    "\n",
    "Write a function called `map_from` that, provided the first argument of a list location and second argument an integer representing the `zoom_start`, returns a `folium` map the corresponding location and `zoom_start` attributes.\n",
    "\n",
    "> Hint: The following is how to write a map with folium:\n",
    "> ```python \n",
    "    folium.Map(location=location, zoom_start=zoom_amount)\n",
    "> ```"
   ]
  },
  {
   "cell_type": "code",
   "execution_count": null,
   "metadata": {},
   "outputs": [],
   "source": [
    "def map_from(location, zoom_amount):\n",
    "    pass"
   ]
  },
  {
   "cell_type": "code",
   "execution_count": null,
   "metadata": {},
   "outputs": [],
   "source": [
    "times_square_map = map_from([40.7589, -73.9851], 15)\n",
    "times_square_map and times_square_map.location # [40.7589, -73.9851]\n",
    "times_square_map and times_square_map.zoom_start # 15"
   ]
  },
  {
   "cell_type": "code",
   "execution_count": null,
   "metadata": {
    "scrolled": true
   },
   "outputs": [],
   "source": [
    "times_square_marker and times_square_marker.add_to(times_square_map)\n",
    "times_square_map"
   ]
  },
  {
   "cell_type": "markdown",
   "metadata": {},
   "source": [
    "Now that we have a marker and a map, now let's write a function that adds a lot of markers to a map.  This function should add each marker in the list to the map object then return the updated map object."
   ]
  },
  {
   "cell_type": "code",
   "execution_count": null,
   "metadata": {},
   "outputs": [],
   "source": [
    "manhattan_map = map_from([40.7589, -73.9851], 13)"
   ]
  },
  {
   "cell_type": "code",
   "execution_count": null,
   "metadata": {},
   "outputs": [],
   "source": [
    "def add_markers(markers, map_obj):\n",
    "    pass"
   ]
  },
  {
   "cell_type": "code",
   "execution_count": null,
   "metadata": {
    "scrolled": false
   },
   "outputs": [],
   "source": [
    "map_with_markers = add_markers(trip_markers, manhattan_map)"
   ]
  },
  {
   "cell_type": "code",
   "execution_count": null,
   "metadata": {},
   "outputs": [],
   "source": [
    "map_with_markers"
   ]
  },
  {
   "cell_type": "markdown",
   "metadata": {},
   "source": [
    "### Using Nearest Neighbors"
   ]
  },
  {
   "cell_type": "markdown",
   "metadata": {},
   "source": [
    "Ok, let's write a function that given a latitude and longitude will predict the distance for us.  We'll do this by first finding the nearest trips given a latitude and longitude. "
   ]
  },
  {
   "cell_type": "markdown",
   "metadata": {},
   "source": [
    "Here we once again apply the nearest neighbors formula. As a first step, write a function named `distance_location` that calculates the distance in pickup location between two trips."
   ]
  },
  {
   "cell_type": "code",
   "execution_count": null,
   "metadata": {},
   "outputs": [],
   "source": [
    "import math\n",
    "\n",
    "def distance_location(selected_trip, neighbor_trip):\n",
    "    pass"
   ]
  },
  {
   "cell_type": "code",
   "execution_count": null,
   "metadata": {},
   "outputs": [],
   "source": [
    "first_trip = {'pickup_latitude': 40.64499, 'pickup_longitude': -73.78115, 'trip_distance': 18.38}\n",
    "second_trip = {'pickup_latitude': 40.766931, 'pickup_longitude': -73.982098, 'trip_distance': 1.3}\n",
    "distance_first_and_second = distance_location(first_trip, second_trip)\n",
    "\n",
    "distance_first_and_second and round(distance_first_and_second, 3) # 0.235"
   ]
  },
  {
   "cell_type": "markdown",
   "metadata": {},
   "source": [
    "Ok, next write a function called `distance_between_neighbors` that adds a new key-value pair, called `distance_from_selected`, that calculates the distance of the `neighbor_trip` from the `selected_trip`."
   ]
  },
  {
   "cell_type": "code",
   "execution_count": null,
   "metadata": {},
   "outputs": [],
   "source": [
    "def distance_between_neighbors(selected_trip, neighbor_trip):\n",
    "    pass"
   ]
  },
  {
   "cell_type": "code",
   "execution_count": null,
   "metadata": {},
   "outputs": [],
   "source": [
    "distance_between_neighbors(first_trip, second_trip)\n",
    "\n",
    "# {'distance_from_selected': 0.23505256047318146,\n",
    "#  'pickup_latitude': 40.766931,\n",
    "#  'pickup_longitude': -73.982098,\n",
    "#  'trip_distance': 1.3}"
   ]
  },
  {
   "cell_type": "markdown",
   "metadata": {},
   "source": [
    "Ok, now our `neighbor_trip` has another attribute called `distance_from_selected`, that indicates the distance from the `neighbor_trip`'s pickup location from the `selected_trip`."
   ]
  },
  {
   "cell_type": "markdown",
   "metadata": {},
   "source": [
    "> ** Understand the data:** Our dictionary now has a few attributes, two of which say distance.  Let's make sure we understand the difference. \n",
    "> * **`distance_from_selected`:** This is our calculation of the distance of the neighbor's pickup location from the selected trip.\n",
    "> * **`trip_distance`:** This is the attribute we were provided initially.  It tells us the length of the neighbor's taxi trip from pickup to drop-off.  "
   ]
  },
  {
   "cell_type": "markdown",
   "metadata": {},
   "source": [
    "Next, write a function called `distance_all` that provided a list of neighbors, returns each of those neighbors with their respective `distance_from_selected` numbers."
   ]
  },
  {
   "cell_type": "code",
   "execution_count": null,
   "metadata": {},
   "outputs": [],
   "source": [
    "def distance_all(selected_individual, neighbors):\n",
    "    pass"
   ]
  },
  {
   "cell_type": "code",
   "execution_count": null,
   "metadata": {},
   "outputs": [],
   "source": [
    "cleaned_trips and distance_all(first_trip, cleaned_trips[0:4])"
   ]
  },
  {
   "cell_type": "markdown",
   "metadata": {},
   "source": [
    "Now write the nearest neighbors formula to calculate the distance of the `selected_trip` from all of the `cleaned_trips` in our dataset.  If no number is provided, it should return the top 3 neighbors."
   ]
  },
  {
   "cell_type": "code",
   "execution_count": null,
   "metadata": {},
   "outputs": [],
   "source": [
    "def nearest_neighbors(selected_trip, trips, number = 3):\n",
    "    pass"
   ]
  },
  {
   "cell_type": "code",
   "execution_count": null,
   "metadata": {},
   "outputs": [],
   "source": [
    "new_trip = {'pickup_latitude': 40.64499,\n",
    "'pickup_longitude': -73.78115,\n",
    "'trip_distance': 18.38}\n",
    "\n",
    "nearest_three_neighbors = nearest_neighbors(new_trip, cleaned_trips or [], number = 3)\n",
    "nearest_three_neighbors\n",
    "# [{'distance_from_selected': 0.0004569288784918792,\n",
    "#   'pickup_latitude': 40.64483,\n",
    "#   'pickup_longitude': -73.781578,\n",
    "#   'trip_distance': 7.78},\n",
    "#  {'distance_from_selected': 0.0011292165425673159,\n",
    "#   'pickup_latitude': 40.644657,\n",
    "#   'pickup_longitude': -73.782229,\n",
    "#   'trip_distance': 12.7},\n",
    "#  {'distance_from_selected': 0.0042359798158141185,\n",
    "#   'pickup_latitude': 40.648509,\n",
    "#   'pickup_longitude': -73.783508,\n",
    "#   'trip_distance': 17.3}]"
   ]
  },
  {
   "cell_type": "markdown",
   "metadata": {},
   "source": [
    "Ok great! Now that we can provide a new trip location, and find the distances of the three nearest trips, we can take  calculate an estimate of the trip distance for that new trip location.  \n",
    "\n",
    "We do so simply by calculating the average of it's nearest neighbors."
   ]
  },
  {
   "cell_type": "code",
   "execution_count": null,
   "metadata": {},
   "outputs": [],
   "source": [
    "import statistics\n",
    "def mean_distance(neighbors):\n",
    "    nearest_distances = list(map(lambda neighbor: neighbor['trip_distance'], neighbors))\n",
    "    return round(statistics.mean(nearest_distances), 3)\n",
    "\n",
    "nearest_three_neighbors = nearest_neighbors(new_trip, cleaned_trips or [], number = 3)\n",
    "distance_estimate_of_selected_trip = mean_distance(nearest_three_neighbors) # 12.593\n",
    "distance_estimate_of_selected_trip"
   ]
  },
  {
   "cell_type": "markdown",
   "metadata": {},
   "source": [
    "### Choosing the correct number of neighbors"
   ]
  },
  {
   "cell_type": "markdown",
   "metadata": {},
   "source": [
    "Now, as we know from the last lesson, one tricky element is to determine how many neighbors to choose, our $k$ value,  before calculating the average.  We want to choose our value of $k$ such that it properly matches actual data, and so that it applies to new data.  There are fancy formulas to ensure that we **train** our algorithm so that our formula is optimized for all data, but here let's see different $k$ values manually.  This is the gist of choosing our $k$ value:\n",
    "\n",
    "* If we choose a $k$ value too low, our formula will be too heavily influenced by a single neighbor, whereas if our $k$ value is too high, we will be choosing so many neighbors that our nearest neighbors formula will not be adjust enough according to locations.\n",
    "\n",
    "Ok, let's experiment with this."
   ]
  },
  {
   "cell_type": "markdown",
   "metadata": {},
   "source": [
    "First, let's choose a midtown location, to see what the trip distance would be.  A Google search reveals the coordinates of 51st and 7th avenue to be the following."
   ]
  },
  {
   "cell_type": "code",
   "execution_count": null,
   "metadata": {},
   "outputs": [],
   "source": [
    "midtown_trip = dict(pickup_latitude=40.761710, pickup_longitude=-73.982760)"
   ]
  },
  {
   "cell_type": "code",
   "execution_count": null,
   "metadata": {},
   "outputs": [],
   "source": [
    "seven_closest = nearest_neighbors(midtown_trip, cleaned_trips, number = 7)\n",
    "seven_closest\n",
    "# [{'trip_distance': 0.58,\n",
    "#   'pickup_latitude': 40.761372,\n",
    "#   'pickup_longitude': -73.982602,\n",
    "#   'distance_from_selected': 0.00037310588309379025},\n",
    "#  {'trip_distance': 0.8,\n",
    "#   'pickup_latitude': 40.762444,\n",
    "#   'pickup_longitude': -73.98244,\n",
    "#   'distance_from_selected': 0.00080072217404248},\n",
    "#  {'trip_distance': 1.4,\n",
    "#   'pickup_latitude': 40.762767,\n",
    "#   'pickup_longitude': -73.982293,\n",
    "#   'distance_from_selected': 0.0011555682584735844},\n",
    "#  {'trip_distance': 8.3,\n",
    "#   'pickup_latitude': 40.762868,\n",
    "#   'pickup_longitude': -73.983233,\n",
    "#   'distance_from_selected': 0.0012508768924205918},\n",
    "#  {'trip_distance': 1.26,\n",
    "#   'pickup_latitude': 40.760057,\n",
    "#   'pickup_longitude': -73.983502,\n",
    "#   'distance_from_selected': 0.0018118976240381972},\n",
    "#  {'trip_distance': 0.0,\n",
    "#   'pickup_latitude': 40.760644,\n",
    "#   'pickup_longitude': -73.984531,\n",
    "#   'distance_from_selected': 0.002067074502774709},\n",
    "#  {'trip_distance': 1.72,\n",
    "#   'pickup_latitude': 40.762107,\n",
    "#   'pickup_longitude': -73.98479,\n",
    "#   'distance_from_selected': 0.0020684557041472677}]"
   ]
  },
  {
   "cell_type": "markdown",
   "metadata": {},
   "source": [
    "Looking at the `distance_from_selected` it appears that our our trips are still fairly close to our selected trip.  Notice that most of the data is within a distance of .002 away, so going to the top 7 nearest neighbors didn't seem to give us neighbors too far from each other, which is a good sign.\n",
    "\n",
    "Still, it's hard to know what distance in latitude and longitude really look like, so let's map the data. "
   ]
  },
  {
   "cell_type": "code",
   "execution_count": null,
   "metadata": {},
   "outputs": [],
   "source": [
    "midtown_location = location(midtown_trip) # [40.76171, -73.98276]\n",
    "midtown_map = map_from(midtown_location, 16)\n",
    "closest_markers = markers_from_trips(seven_closest)\n",
    "\n",
    "add_markers(closest_markers, midtown_map)"
   ]
  },
  {
   "cell_type": "markdown",
   "metadata": {},
   "source": [
    "Ok.  These locations stay fairly close to our estimated location of 51st street and 7th Avenue.  So they could be a good estimate of a trip distance."
   ]
  },
  {
   "cell_type": "code",
   "execution_count": null,
   "metadata": {},
   "outputs": [],
   "source": [
    "mean_distance(seven_closest) # 2.009"
   ]
  },
  {
   "cell_type": "markdown",
   "metadata": {},
   "source": [
    "Ok, now let's try a different location"
   ]
  },
  {
   "cell_type": "code",
   "execution_count": null,
   "metadata": {},
   "outputs": [],
   "source": [
    "charging_bull_closest = nearest_neighbors({'pickup_latitude': 40.7049, 'pickup_longitude': -74.0137}, cleaned_trips, number = 12)"
   ]
  },
  {
   "cell_type": "code",
   "execution_count": null,
   "metadata": {
    "scrolled": true
   },
   "outputs": [],
   "source": [
    "mean_distance(charging_bull_closest) # 3.145"
   ]
  },
  {
   "cell_type": "markdown",
   "metadata": {},
   "source": [
    "Ok, so there appears to be a significant difference between choosing a location near Times Square versus choosing a location at Wall Street."
   ]
  },
  {
   "cell_type": "markdown",
   "metadata": {},
   "source": [
    "### Summary"
   ]
  },
  {
   "cell_type": "markdown",
   "metadata": {},
   "source": [
    "In this lab, we used the nearest neighbors function to predict the length of a taxi ride.  To do so, we selected a location, then found a number of taxi rides closest to that location, and finally took the average trip lengths of the nearest taxi rides to find an estimate of the new ride's trip length.  You can see that even with just a little bit of math and programming we can begin to make meaningful predictions with data."
   ]
  }
 ],
 "metadata": {
  "kernelspec": {
   "display_name": "Python 3",
   "language": "python",
   "name": "python3"
  },
  "language_info": {
   "codemirror_mode": {
    "name": "ipython",
    "version": 3
   },
   "file_extension": ".py",
   "mimetype": "text/x-python",
   "name": "python",
   "nbconvert_exporter": "python",
   "pygments_lexer": "ipython3",
   "version": "3.6.4"
  }
 },
 "nbformat": 4,
 "nbformat_minor": 2
}
